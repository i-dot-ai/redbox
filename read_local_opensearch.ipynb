{
 "cells": [
  {
   "cell_type": "markdown",
   "metadata": {},
   "source": [
    "# Read data from Opensearch"
   ]
  },
  {
   "cell_type": "code",
   "execution_count": 1,
   "metadata": {},
   "outputs": [],
   "source": [
    "\n",
    "from json import load\n",
    "from opensearchpy import OpenSearch,  RequestsHttpConnection, client\n",
    "import os\n",
    "from dotenv import load_dotenv\n",
    "\n",
    "load_dotenv()\n",
    "password = os.environ.get(\"OPENSEARCH_INITIAL_ADMIN_PASSWORD\")\n",
    "\n",
    "client = OpenSearch(\n",
    "            hosts=[{\"host\": \"localhost\", \"port\": \"9200\"}],\n",
    "            http_auth=(\"admin\", password),\n",
    "            use_ssl=False, #to run locally, changed from True to False\n",
    "            connection_class=RequestsHttpConnection,\n",
    "            retry_on_timeout=True\n",
    "        )\n",
    "\n",
    "query = {\n",
    "    \"size\": 1000,\n",
    "    \"track_total_hits\": True,\n",
    "    \"query\" : {\n",
    "        \"match_all\" : {}\n",
    "    }\n",
    "}\n",
    "\n",
    "#query 1000 records from database\n",
    "\n",
    "response = client.search(index='redbox-data-integration-chunk-current', body=query)"
   ]
  },
  {
   "cell_type": "markdown",
   "metadata": {},
   "source": [
    "## Read index and alias names from Opensearch"
   ]
  },
  {
   "cell_type": "code",
   "execution_count": null,
   "metadata": {},
   "outputs": [],
   "source": [
    "#Read index and alias names from database\n",
    "client.indices.get_alias(name = \"*\")"
   ]
  },
  {
   "cell_type": "markdown",
   "metadata": {},
   "source": [
    "# Delete Index"
   ]
  },
  {
   "cell_type": "code",
   "execution_count": null,
   "metadata": {},
   "outputs": [],
   "source": [
    "client.indices.delete(\"redbox-data-integration-chunk\") #index"
   ]
  }
 ],
 "metadata": {
  "kernelspec": {
   "display_name": "py312",
   "language": "python",
   "name": "python3"
  },
  "language_info": {
   "codemirror_mode": {
    "name": "ipython",
    "version": 3
   },
   "file_extension": ".py",
   "mimetype": "text/x-python",
   "name": "python",
   "nbconvert_exporter": "python",
   "pygments_lexer": "ipython3",
   "version": "3.12.7"
  }
 },
 "nbformat": 4,
 "nbformat_minor": 2
}
