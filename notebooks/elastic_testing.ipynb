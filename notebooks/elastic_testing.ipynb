{
 "cells": [
  {
   "cell_type": "code",
   "execution_count": null,
   "metadata": {},
   "outputs": [],
   "source": [
    "import json\n",
    "import os\n",
    "\n",
    "import dotenv\n",
    "from elasticsearch import Elasticsearch\n",
    "from elasticsearch.helpers import scan\n",
    "\n",
    "from redbox.models import File, Chunk\n",
    "from redbox.storage import ElasticsearchStorageHandler"
   ]
  },
  {
   "cell_type": "code",
   "execution_count": null,
   "metadata": {},
   "outputs": [],
   "source": [
    "dotenv.load_dotenv(\"../.env\")\n",
    "# Grab it as a dictionary too for convenience\n",
    "ENV = dotenv.dotenv_values(\"../.env\")\n",
    "\n",
    "\n",
    "es = Elasticsearch(\n",
    "    hosts=[{\"host\": \"localhost\", \"port\": 9200, \"scheme\": \"http\"}],\n",
    "    basic_auth=(ENV[\"ELASTIC_USER\"], ENV[\"ELASTIC_PASSWORD\"]),\n",
    ")\n",
    "\n",
    "print(json.dumps(es.info().body, indent=4))"
   ]
  },
  {
   "cell_type": "code",
   "execution_count": null,
   "metadata": {},
   "outputs": [],
   "source": [
    "from redbox.storage.elasticsearch import ElasticsearchStorageHandler\n",
    "\n",
    "\n",
    "elasticsearch_storage_handler = ElasticsearchStorageHandler(\n",
    "    es_client=es, root_index=\"redbox-test-data\"\n",
    ")"
   ]
  },
  {
   "cell_type": "code",
   "execution_count": null,
   "metadata": {},
   "outputs": [],
   "source": [
    "test_chunk = Chunk(\n",
    "    uuid=\"aaaaaaaa-aaaa-aaaa-aaaa-aaaaaaaaaaaa\",\n",
    "    parent_file_uuid=\"bbbbbbbb-bbbb-bbbb-bbbb-bbbbbbbbbbbb\",\n",
    "    index=0,\n",
    "    text=\"This is a test chunk\",\n",
    "    creator_user_uuid=\"dev\",\n",
    "    metadata={\"test\": \"test\"},\n",
    ")"
   ]
  },
  {
   "cell_type": "code",
   "execution_count": null,
   "metadata": {},
   "outputs": [],
   "source": [
    "elasticsearch_storage_handler.write_item(test_chunk)"
   ]
  },
  {
   "cell_type": "code",
   "execution_count": null,
   "metadata": {},
   "outputs": [],
   "source": [
    "n_random_chunks = 100000\n",
    "random_chunks = [\n",
    "    Chunk(\n",
    "        parent_file_uuid=\"cccccccc-cccc-cccc-cccc-cccccccccccc\",\n",
    "        index=i,\n",
    "        text=\"This is a test chunk\",\n",
    "        creator_user_uuid=\"dev\",\n",
    "        metadata={\"test\": \"test\"},\n",
    "    )\n",
    "    for i in range(n_random_chunks)\n",
    "]"
   ]
  },
  {
   "cell_type": "code",
   "execution_count": null,
   "metadata": {},
   "outputs": [],
   "source": [
    "# elasticsearch_storage_handler.write_items(random_chunks)"
   ]
  },
  {
   "cell_type": "code",
   "execution_count": null,
   "metadata": {},
   "outputs": [],
   "source": [
    "x = elasticsearch_storage_handler.list_all_items(model_type=\"chunk\")"
   ]
  },
  {
   "cell_type": "code",
   "execution_count": null,
   "metadata": {},
   "outputs": [],
   "source": [
    "resp = scan(\n",
    "    es,\n",
    "    index=\"redbox-test-data-chunk\",\n",
    "    query={\"query\": {\"match_all\": {}}},\n",
    ")\n",
    "\n",
    "resp_unpacked = [x for x in resp]\n",
    "print(f\"Returned {len(resp_unpacked)} items\")"
   ]
  },
  {
   "cell_type": "code",
   "execution_count": null,
   "metadata": {},
   "outputs": [],
   "source": [
    "resp_unpacked[0]"
   ]
  },
  {
   "cell_type": "code",
   "execution_count": null,
   "metadata": {},
   "outputs": [],
   "source": []
  }
 ],
 "metadata": {
  "kernelspec": {
   "display_name": "redbox-94scsMdV-py3.11",
   "language": "python",
   "name": "python3"
  },
  "language_info": {
   "codemirror_mode": {
    "name": "ipython",
    "version": 3
   },
   "file_extension": ".py",
   "mimetype": "text/x-python",
   "name": "python",
   "nbconvert_exporter": "python",
   "pygments_lexer": "ipython3",
   "version": "3.11.6"
  }
 },
 "nbformat": 4,
 "nbformat_minor": 2
}
