{
 "cells": [
  {
   "cell_type": "code",
   "execution_count": null,
   "metadata": {},
   "outputs": [],
   "source": [
    "import json\n",
    "import os\n",
    "\n",
    "import dotenv\n",
    "from elasticsearch import Elasticsearch\n",
    "from elasticsearch.helpers import scan\n",
    "\n",
    "from redbox.models import File, Chunk\n",
    "from redbox.storage import ElasticsearchStorageHandler"
   ]
  },
  {
   "cell_type": "code",
   "execution_count": null,
   "metadata": {},
   "outputs": [],
   "source": [
    "dotenv.load_dotenv(\"../.env.test\")\n",
    "# Grab it as a dictionary too for convenience\n",
    "ENV = dotenv.dotenv_values(\"../.env.test\")\n",
    "\n",
    "\n",
    "es = Elasticsearch(\n",
    "    hosts=[\n",
    "        {\n",
    "            \"host\": ENV[\"ELASTIC_HOST\"],\n",
    "            \"port\": int(ENV[\"ELASTIC_PORT\"]),\n",
    "            \"scheme\": ENV[\"ELASTIC_SCHEME\"],\n",
    "        }\n",
    "    ],\n",
    "    basic_auth=(ENV[\"ELASTIC_USER\"], ENV[\"ELASTIC_PASSWORD\"]),\n",
    ")\n",
    "\n",
    "print(json.dumps(es.info().body, indent=4))"
   ]
  },
  {
   "cell_type": "code",
   "execution_count": null,
   "metadata": {},
   "outputs": [],
   "source": [
    "from redbox.storage.elasticsearch import ElasticsearchStorageHandler\n",
    "\n",
    "\n",
    "elasticsearch_storage_handler = ElasticsearchStorageHandler(\n",
    "    es_client=es, root_index=\"redbox-test-data\"\n",
    ")"
   ]
  },
  {
   "cell_type": "code",
   "execution_count": null,
   "metadata": {},
   "outputs": [],
   "source": [
    "test_chunk = Chunk(\n",
    "    uuid=\"aaaaaaaa-aaaa-aaaa-aaaa-aaaaaaaaaaaa\",\n",
    "    parent_file_uuid=\"bbbbbbbb-bbbb-bbbb-bbbb-bbbbbbbbbbbb\",\n",
    "    index=0,\n",
    "    text=\"This is a test chunk\",\n",
    "    creator_user_uuid=\"dev\",\n",
    "    metadata={\"test\": \"test\"},\n",
    ")"
   ]
  },
  {
   "cell_type": "code",
   "execution_count": null,
   "metadata": {},
   "outputs": [],
   "source": [
    "elasticsearch_storage_handler.write_item(test_chunk)"
   ]
  },
  {
   "cell_type": "code",
   "execution_count": null,
   "metadata": {},
   "outputs": [],
   "source": [
    "n_random_chunks = 100000\n",
    "random_chunks = [\n",
    "    Chunk(\n",
    "        parent_file_uuid=\"cccccccc-cccc-cccc-cccc-cccccccccccc\",\n",
    "        index=i,\n",
    "        text=\"This is a test chunk\",\n",
    "        creator_user_uuid=\"dev\",\n",
    "        metadata={\"test\": \"test\"},\n",
    "    )\n",
    "    for i in range(n_random_chunks)\n",
    "]"
   ]
  },
  {
   "cell_type": "code",
   "execution_count": null,
   "metadata": {},
   "outputs": [],
   "source": [
    "# elasticsearch_storage_handler.write_items(random_chunks)"
   ]
  },
  {
   "cell_type": "code",
   "execution_count": null,
   "metadata": {},
   "outputs": [],
   "source": [
    "x = elasticsearch_storage_handler.list_all_items(model_type=\"chunk\")\n",
    "x"
   ]
  },
  {
   "cell_type": "code",
   "execution_count": null,
   "metadata": {},
   "outputs": [],
   "source": [
    "resp = scan(\n",
    "    es,\n",
    "    index=\"redbox-test-data-chunk\",\n",
    "    query={\"query\": {\"match_all\": {}}},\n",
    ")\n",
    "\n",
    "resp_unpacked = [x for x in resp]\n",
    "print(f\"Returned {len(resp_unpacked)} items\")"
   ]
  },
  {
   "cell_type": "code",
   "execution_count": null,
   "metadata": {},
   "outputs": [],
   "source": [
    "resp_unpacked[0]"
   ]
  },
  {
   "cell_type": "code",
   "execution_count": null,
   "metadata": {},
   "outputs": [],
   "source": [
    "es.delete(index=\"redbox-test-data-chunk\", id=\"aaaaaaaa-aaaa-aaaa-aaaa-aaaaaaaaaaaa\")"
   ]
  },
  {
   "cell_type": "code",
   "execution_count": null,
   "metadata": {},
   "outputs": [],
   "source": [
    "# Delete multiple items\n",
    "\n",
    "ids_to_delete = elasticsearch_storage_handler.list_all_items(model_type=\"chunk\")\n",
    "\n",
    "es.delete_by_query(\n",
    "    index=\"redbox-test-data-chunk\",\n",
    "    body={\"query\": {\"terms\": {\"_id\": ids_to_delete}}},\n",
    ")"
   ]
  },
  {
   "cell_type": "code",
   "execution_count": null,
   "metadata": {},
   "outputs": [],
   "source": [
    "elasticsearch_storage_handler.delete_item(\"bad-uuid\", \"Chunk\")"
   ]
  },
  {
   "cell_type": "code",
   "execution_count": null,
   "metadata": {},
   "outputs": [],
   "source": [
    "elasticsearch_storage_handler.read_item(\"bad-uuid\", \"Chunk\")"
   ]
  },
  {
   "cell_type": "code",
   "execution_count": null,
   "metadata": {},
   "outputs": [],
   "source": [
    "to_delete = elasticsearch_storage_handler.list_all_items(model_type=\"Chunk\") + [\n",
    "    \"bad-uuid\"\n",
    "]\n",
    "\n",
    "elasticsearch_storage_handler.delete_items(to_delete, \"Chunk\")"
   ]
  },
  {
   "cell_type": "code",
   "execution_count": null,
   "metadata": {},
   "outputs": [],
   "source": []
  }
 ],
 "metadata": {
  "kernelspec": {
   "display_name": "redbox-94scsMdV-py3.11",
   "language": "python",
   "name": "python3"
  },
  "language_info": {
   "codemirror_mode": {
    "name": "ipython",
    "version": 3
   },
   "file_extension": ".py",
   "mimetype": "text/x-python",
   "name": "python",
   "nbconvert_exporter": "python",
   "pygments_lexer": "ipython3",
   "version": "3.11.6"
  }
 },
 "nbformat": 4,
 "nbformat_minor": 2
}
