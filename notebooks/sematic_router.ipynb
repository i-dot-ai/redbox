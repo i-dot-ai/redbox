{
 "cells": [
  {
   "cell_type": "code",
   "execution_count": 1,
   "metadata": {},
   "outputs": [],
   "source": [
    "from semantic_router import Route\n",
    "from semantic_router.encoders import OpenAIEncoder\n",
    "from semantic_router.layer import RouteLayer"
   ]
  },
  {
   "cell_type": "code",
   "execution_count": 21,
   "metadata": {},
   "outputs": [],
   "source": [
    "info = Route(\n",
    "    name = \"info\",\n",
    "    utterances = [\n",
    "        \"What is your name?\",\n",
    "        \"Who are you?\",\n",
    "        \"What can you do?\",\n",
    "        \"How can you help me?\",\n",
    "        \"What can I do\",\n",
    "        \"What is Redbox?\",\n",
    "    ],\n",
    ")\n",
    "\n",
    "gratitude = Route(\n",
    "    name=\"gratitude\",\n",
    "    utterances = [\n",
    "        \"Thank you ever so much for your help!\",\n",
    "        \"I'm really grateful for your assistance.\",\n",
    "        \"Cheers for the detailed response!\",\n",
    "        \"Thanks a lot, that was very informative.\",\n",
    "        \"Nice one\",\n",
    "        \"Thanks!\",\n",
    "    ],\n",
    ")\n",
    "\n",
    "summarisation = Route(\n",
    "    name=\"summarisation\",\n",
    "    utterances = [\n",
    "        \"I'd like to summarise the documents I've uploaded.\",\n",
    "        \"Can you help me with summarising these documents?\",\n",
    "        \"Please summarise the contents of the uploaded files.\",\n",
    "        \"I'd appreciate a summary of the documents I've just uploaded.\",\n",
    "        \"Could you provide a summary of these uploaded documents?\",\n",
    "        \"Summarise the documents with a focus on macro economic trends.\"\n",
    "    ],\n",
    ")\n",
    "\n",
    "extract = Route(\n",
    "    name = \"extract\",\n",
    "    utterances = [\n",
    "        \"I'd like to find some information in the documents I've uploaded\",\n",
    "        \"Can you help me identify details from these documents?\",\n",
    "        \"Please give me all action items from this document\",\n",
    "        \"Give me all the action items from these meeting notes\",\n",
    "        \"Could you locate some key information in these uploaded documents?\",\n",
    "        \"I need to obtain certain details from the documents I have uploaded, please\",\n",
    "        \"Please extract all action items from this document\"\n",
    "        \"Extract all the sentences with the word 'shall'\"\n",
    "    ],\n",
    ")\n",
    "\n",
    "routes = [\n",
    "    info,\n",
    "    gratitude,\n",
    "    summarisation,\n",
    "    extract\n",
    "]"
   ]
  },
  {
   "cell_type": "code",
   "execution_count": 22,
   "metadata": {},
   "outputs": [
    {
     "name": "stderr",
     "output_type": "stream",
     "text": [
      "\u001b[32m2024-06-06 17:30:43 INFO semantic_router.utils.logger local\u001b[0m\n"
     ]
    }
   ],
   "source": [
    "encoder = OpenAIEncoder()\n",
    "\n",
    "rl = RouteLayer(encoder=encoder, routes=routes)"
   ]
  },
  {
   "cell_type": "code",
   "execution_count": 8,
   "metadata": {},
   "outputs": [
    {
     "data": {
      "text/plain": [
       "RouteChoice(name='gratitude', function_call=None, similarity_score=None)"
      ]
     },
     "execution_count": 8,
     "metadata": {},
     "output_type": "execute_result"
    }
   ],
   "source": [
    "rl(\"Thank you for your help\")"
   ]
  },
  {
   "cell_type": "code",
   "execution_count": 9,
   "metadata": {},
   "outputs": [
    {
     "data": {
      "text/plain": [
       "RouteChoice(name='summarisation', function_call=None, similarity_score=None)"
      ]
     },
     "execution_count": 9,
     "metadata": {},
     "output_type": "execute_result"
    }
   ],
   "source": [
    "rl(\"Summarise the documents\")"
   ]
  },
  {
   "cell_type": "markdown",
   "metadata": {},
   "source": [
    "`Extract` route initially was not getting picked up"
   ]
  },
  {
   "cell_type": "code",
   "execution_count": 23,
   "metadata": {},
   "outputs": [
    {
     "data": {
      "text/plain": [
       "RouteChoice(name='extract', function_call=None, similarity_score=None)"
      ]
     },
     "execution_count": 23,
     "metadata": {},
     "output_type": "execute_result"
    }
   ],
   "source": [
    "rl(\"Please give me all action items from this document\")"
   ]
  },
  {
   "cell_type": "code",
   "execution_count": 24,
   "metadata": {},
   "outputs": [
    {
     "data": {
      "text/plain": [
       "RouteChoice(name='extract', function_call=None, similarity_score=None)"
      ]
     },
     "execution_count": 24,
     "metadata": {},
     "output_type": "execute_result"
    }
   ],
   "source": [
    "rl(\"Please extract all action items from this document\")"
   ]
  },
  {
   "cell_type": "code",
   "execution_count": 25,
   "metadata": {},
   "outputs": [
    {
     "data": {
      "text/plain": [
       "RouteChoice(name='extract', function_call=None, similarity_score=None)"
      ]
     },
     "execution_count": 25,
     "metadata": {},
     "output_type": "execute_result"
    }
   ],
   "source": [
    "rl(\"I'd like to find some information in the documents I've uploaded.\")"
   ]
  },
  {
   "cell_type": "code",
   "execution_count": null,
   "metadata": {},
   "outputs": [],
   "source": []
  }
 ],
 "metadata": {
  "kernelspec": {
   "display_name": "redbox-MiicHf1r-py3.11",
   "language": "python",
   "name": "python3"
  },
  "language_info": {
   "codemirror_mode": {
    "name": "ipython",
    "version": 3
   },
   "file_extension": ".py",
   "mimetype": "text/x-python",
   "name": "python",
   "nbconvert_exporter": "python",
   "pygments_lexer": "ipython3",
   "version": "3.11.8"
  }
 },
 "nbformat": 4,
 "nbformat_minor": 2
}
