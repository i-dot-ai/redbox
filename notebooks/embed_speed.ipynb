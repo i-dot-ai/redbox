{
 "cells": [
  {
   "cell_type": "markdown",
   "metadata": {},
   "source": [
    "Testing the various embedding speeds for a range of sentence transformers and their size in memory."
   ]
  },
  {
   "cell_type": "code",
   "execution_count": null,
   "metadata": {},
   "outputs": [],
   "source": [
    "from redbox.model_db import SentenceTransformerDB\n",
    "import time\n",
    "import pandas as pd\n",
    "import numpy as np\n",
    "from tqdm.notebook import tqdm\n",
    "import os"
   ]
  },
  {
   "cell_type": "code",
   "execution_count": null,
   "metadata": {},
   "outputs": [],
   "source": [
    "embedding_models = {\n",
    "    \"all-mpnet-base-v2\": None,\n",
    "    \"BAAI/bge-small-en-v1.5\": None,\n",
    "    \"paraphrase-multilingual-MiniLM-L12-v2\": None\n",
    "}\n",
    "\n",
    "for model_name in embedding_models.keys():\n",
    "    print(f\"Loading model {model_name}\")\n",
    "    embedding_models[model_name] = SentenceTransformerDB(model_name)"
   ]
  },
  {
   "cell_type": "code",
   "execution_count": null,
   "metadata": {},
   "outputs": [],
   "source": [
    "test_sentences = [\n",
    "    \"The quick brown fox jumps over the lazy dog.\",\n",
    "    \"The raving wombat dances with the killer koala.\",\n",
    "    \"A zealous zebra zips through the zoo.\",\n",
    "    \"A gregarious giraffe gallops through the grasslands.\",\n",
    "    \"A lazy lion lounges in the shade of a tree.\",\n",
    "    \"A happy hippo hops through the mud.\",\n",
    "    \"A joyful jaguar jumps through the jungle.\",\n",
    "    \"A friendly flamingo flaps its wings.\",\n",
    "    \"A playful panda plays in the bamboo forest.\",\n",
    "    \"A curious cat climbs a tree.\",\n",
    "    \"A sneaky snake slithers through the grass.\",\n",
    "    \"A clever chameleon changes its color.\",\n",
    "    \"A wise owl watches from a tree branch.\",\n",
    "    \"ERROR: This is a test error sentence.\",\n",
    "    \"djfnldskfnjl;sdkmfl;sdmfldsfnljkndsfkjnsd\",\n",
    "    \"This is a test sentence.\",\n",
    "    \"Karma karma karma karma karma chameleon.\",\n",
    "]\n",
    "\n",
    "print(f\"{len(test_sentences)} test sentences\")"
   ]
  },
  {
   "cell_type": "code",
   "execution_count": null,
   "metadata": {},
   "outputs": [],
   "source": [
    "# delete model\n",
    "\n",
    "\n",
    "model_speed_data = {}\n",
    "\n",
    "for model_name in embedding_models:\n",
    "    print(f\"Testing model {model_name}\")\n",
    "    model = embedding_models[model_name][model_name]\n",
    "\n",
    "    sentence_timings = []\n",
    "    for sentence in tqdm(test_sentences, desc=model_name, unit=\"sentence\"):\n",
    "        start = time.time()\n",
    "        embedding = model.encode(sentence)\n",
    "        end = time.time()\n",
    "        sentence_timings.append(end-start)\n",
    "    \n",
    "    model_speed_data[model_name] = sentence_timings\n",
    "\n",
    "df = pd.DataFrame(model_speed_data)\n",
    "\n",
    "df.head()\n",
    "\n",
    "    "
   ]
  },
  {
   "cell_type": "code",
   "execution_count": null,
   "metadata": {},
   "outputs": [],
   "source": [
    "df.plot.box(figsize=(12, 6), grid=True, showmeans=True, showfliers=False, title=\"Sentence Embedding Speeds\")"
   ]
  },
  {
   "cell_type": "code",
   "execution_count": null,
   "metadata": {},
   "outputs": [],
   "source": [
    "df.plot.line(figsize=(12, 6), grid=True, title=\"Sentence Embedding Speeds\")"
   ]
  },
  {
   "cell_type": "code",
   "execution_count": null,
   "metadata": {},
   "outputs": [],
   "source": [
    "# Rolling mean\n",
    "\n",
    "df.rolling(window=3).mean().plot.line(figsize=(12, 6), grid=True, title=\"Sentence Embedding Speeds (Rolling Mean)\")"
   ]
  },
  {
   "cell_type": "code",
   "execution_count": null,
   "metadata": {},
   "outputs": [],
   "source": []
  }
 ],
 "metadata": {
  "kernelspec": {
   "display_name": "redbox-94scsMdV-py3.11",
   "language": "python",
   "name": "python3"
  },
  "language_info": {
   "codemirror_mode": {
    "name": "ipython",
    "version": 3
   },
   "file_extension": ".py",
   "mimetype": "text/x-python",
   "name": "python",
   "nbconvert_exporter": "python",
   "pygments_lexer": "ipython3",
   "version": "3.11.6"
  }
 },
 "nbformat": 4,
 "nbformat_minor": 2
}
