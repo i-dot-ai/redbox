{
 "cells": [
  {
   "cell_type": "code",
   "execution_count": null,
   "metadata": {},
   "outputs": [],
   "source": [
    "import json\n",
    "import requests"
   ]
  },
  {
   "cell_type": "code",
   "execution_count": null,
   "metadata": {},
   "outputs": [],
   "source": [
    "API_ENDPOINT = \"https://www.theyworkforyou.com/api/\""
   ]
  },
  {
   "cell_type": "code",
   "execution_count": null,
   "metadata": {},
   "outputs": [],
   "source": [
    "def get_mps(date=\"\", party=\"\", search=\"\"):\n",
    "    \"\"\"\n",
    "    Returns a list of MPs who were in the House of Commons on the given date\n",
    "    and/or were members of the given party and/or whose name contains the\n",
    "    given search string.\n",
    "    \"\"\"\n",
    "    url = API_ENDPOINT + \"getMPs\"\n",
    "    params = {\"date\": date, \"party\": party, \"search\": search, \"output\": \"json\"}\n",
    "    response = requests.get(url, params=params)\n",
    "    return json.loads(response.text)"
   ]
  },
  {
   "cell_type": "code",
   "execution_count": null,
   "metadata": {},
   "outputs": [],
   "source": [
    "mps = get_mps()\n",
    "mps"
   ]
  },
  {
   "cell_type": "code",
   "execution_count": null,
   "metadata": {},
   "outputs": [],
   "source": [
    "def get_debates(type=\"commons\", date=\"\", search=\"\", person=\"\", gid=\"\", order=\"r\"):\n",
    "    \"\"\"\n",
    "    Returns a list of debates in the House of Commons or Lords on the given\n",
    "    date and/or containing the given search string and/or in which the given\n",
    "    person spoke and/or containing the given gid (a unique identifier for\n",
    "    each debate). The results are ordered by relevance by default, but can be\n",
    "    ordered by date by setting order to \"d\".\n",
    "    \"\"\"\n",
    "    url = API_ENDPOINT + \"getDebates\"\n",
    "    params = {\n",
    "        \"type\": type,\n",
    "        \"date\": date,\n",
    "        \"search\": search,\n",
    "        \"person\": person,\n",
    "        \"gid\": gid,\n",
    "        \"order\": order,\n",
    "        \"output\": \"json\",\n",
    "    }\n",
    "    response = requests.get(url, params=params)\n",
    "    return json.loads(response.text)"
   ]
  },
  {
   "cell_type": "code",
   "execution_count": null,
   "metadata": {},
   "outputs": [],
   "source": [
    "get_debates(search=\"\")"
   ]
  },
  {
   "cell_type": "code",
   "execution_count": null,
   "metadata": {},
   "outputs": [],
   "source": []
  }
 ],
 "metadata": {
  "kernelspec": {
   "display_name": "redbox-94scsMdV-py3.11",
   "language": "python",
   "name": "python3"
  },
  "language_info": {
   "codemirror_mode": {
    "name": "ipython",
    "version": 3
   },
   "file_extension": ".py",
   "mimetype": "text/x-python",
   "name": "python",
   "nbconvert_exporter": "python",
   "pygments_lexer": "ipython3",
   "version": "3.11.6"
  }
 },
 "nbformat": 4,
 "nbformat_minor": 2
}
