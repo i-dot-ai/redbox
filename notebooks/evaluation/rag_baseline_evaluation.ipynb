{
 "cells": [
  {
   "cell_type": "code",
   "execution_count": 16,
   "metadata": {},
   "outputs": [],
   "source": [
    "# Add autoreload\n",
    "%reload_ext autoreload\n",
    "%autoreload 2"
   ]
  },
  {
   "cell_type": "code",
   "execution_count": null,
   "metadata": {},
   "outputs": [],
   "source": [
    "from jose import jwt\n",
    "from uuid import UUID\n",
    "import requests\n",
    "import json\n",
    "import pandas as pd\n",
    "import pickle\n",
    "from dataclasses import asdict\n",
    "from pathlib import Path\n",
    "import jsonlines\n",
    "from elasticsearch import Elasticsearch\n",
    "\n",
    "from deepeval import evaluate\n",
    "from deepeval.metrics import (\n",
    "    ContextualPrecisionMetric,\n",
    "    ContextualRecallMetric,\n",
    "    ContextualRelevancyMetric,\n",
    "    AnswerRelevancyMetric,\n",
    "    FaithfulnessMetric,\n",
    "    HallucinationMetric,\n",
    ")\n",
    "from deepeval.dataset import EvaluationDataset\n",
    "\n",
    "from redbox.models import Settings\n",
    "from redbox.models.settings import ElasticLocalSettings\n",
    "\n",
    "from dotenv import find_dotenv, load_dotenv\n",
    "\n",
    "_ = load_dotenv(find_dotenv())\n",
    "\n",
    "pd.set_option(\"display.max_colwidth\", None)\n",
    "\n",
    "ENV = Settings(minio_host=\"localhost\", elastic=ElasticLocalSettings(host=\"localhost\"))"
   ]
  },
  {
   "cell_type": "markdown",
   "metadata": {},
   "source": [
    "☝️⚠️ _expand cell to run imports_"
   ]
  },
  {
   "cell_type": "markdown",
   "metadata": {},
   "source": [
    "# Set baseline evaluation for current/deployed Redbox RAG chat endpoint  <a class=\"anchor\" id=\"title\"></a>"
   ]
  },
  {
   "cell_type": "markdown",
   "metadata": {},
   "source": [
    "-----------"
   ]
  },
  {
   "cell_type": "markdown",
   "metadata": {},
   "source": [
    "**Evaluate Redbox RAG chat on one stable, numbered version of these data**"
   ]
  },
  {
   "cell_type": "markdown",
   "metadata": {},
   "source": [
    "-----------------------"
   ]
  },
  {
   "cell_type": "markdown",
   "metadata": {},
   "source": [
    "## Table of Contents <a class=\"anchor\" id=\"toc\"></a>\n",
    "\n",
    "1. Introduction\n",
    "\n",
    "* [Overview](#overview)\n",
    "* [Metrics](#metrics)\n",
    "    - [Contextual Precision]()\n",
    "    - [Contextual Recall]()\n",
    "    - [Contextual Relevancy]()\n",
    "    - [Fathfulness]()\n",
    "    - [Answer Relevancy]()\n",
    "    - [Hallucination]()\n",
    "\n",
    "2. Setup\n",
    "\n",
    "* [Set version of the evaluation dataset](#setversion)\n",
    "* [Run Redbox locally](#run-redbox)\n",
    "* [Load embeddings into the index](#load-embeddings)\n",
    "\n",
    "3. Baseline\n",
    "\n",
    "* [a. Get files that correspond to the version of evaluation dataset](#bl-files)\n",
    "* [b. Load Evaluation Dataset into test cases](#bl-load-test-cases)\n",
    "* [c. Generate `actual_output` using RAG and evaluation dataset](#bl-evaluate)\n",
    "    - [Retrieval Evaluation Metrics]()\n",
    "    - [Generation Evaluation Metrics]()\n",
    "* [d. Analyse evaluation results](#bl-analysis)"
   ]
  },
  {
   "cell_type": "markdown",
   "metadata": {},
   "source": [
    "------------"
   ]
  },
  {
   "cell_type": "markdown",
   "metadata": {},
   "source": [
    "## 1. Introduction"
   ]
  },
  {
   "cell_type": "markdown",
   "metadata": {},
   "source": [
    "### Overview <a class=\"anchor\" id=\"overview\"></a>"
   ]
  },
  {
   "cell_type": "markdown",
   "metadata": {},
   "source": [
    "This notebook allows you to use the Redbox RAG chat **endpoint** to set baseline evaluation metrics for the current/deployed RAG chat endpoint.\n",
    "\n",
    "Redbox RAG chat is made up of many components that work together to give the final RAG pipeline. Each component can be optimised to improve the overall performance of the RAG pipeline for Redbox tasks. In order to track if changes made are improving or degrading Redbox performance, we need to establish an evaluation framework. The overall RAG pipeline can be broken down into two main parts:\n",
    "\n",
    "1. Retrieval - searching and returning the most relevant documents to answer a user question\n",
    "2. Generation - the ouput of the LLM after considering the retrieved documents, any prompts provided and the user question\n",
    "\n",
    "This notebook tests both the retrieval and generation sides of the RAG pipeline using specific metrics for each, using the `DeepEval` framework.\n",
    "\n",
    "For consistency across the team, it is important to evaluate Redbox RAG chat on one stable, numbered version of these data."
   ]
  },
  {
   "cell_type": "markdown",
   "metadata": {},
   "source": [
    "[Back to top](#title)"
   ]
  },
  {
   "cell_type": "markdown",
   "metadata": {},
   "source": [
    "### Metrics <a class=\"anchor\" id=\"metrics\"></a>\n",
    "\n",
    "Retrieval metrics\n",
    "- Contextual Precision\n",
    "- Contextual Recall\n",
    "- Contextual Relevancy\n",
    "\n",
    "Generation metrics\n",
    "- Faithfulness\n",
    "- Answer Relevancy\n",
    "- Hallucination\n"
   ]
  },
  {
   "cell_type": "markdown",
   "metadata": {},
   "source": [
    "#### Contextual Precision\n",
    "\n",
    "The contextual precision metric measures your RAG pipeline's retriever by evaluating whether nodes in your `retrieval_context` that are relevant to the given `input` are ranked higher than irrelevant ones."
   ]
  },
  {
   "cell_type": "markdown",
   "metadata": {},
   "source": [
    "#### Contextual Recall\n",
    "\n",
    "The contextual recall metric measures the quality of your RAG pipeline's retriever by evaluating the extent of which the `retrieval_context` aligns with the `expected_output`."
   ]
  },
  {
   "cell_type": "markdown",
   "metadata": {},
   "source": [
    "#### Contextual Relevancy\n",
    "\n",
    "The contextual relevancy metric measures the quality of your RAG pipeline's retriever by evaluating the overall relevance of the information presented in your `retrieval_context` for a given `input`."
   ]
  },
  {
   "cell_type": "markdown",
   "metadata": {},
   "source": [
    "#### Faithfulness\n",
    "\n",
    "The faithfulness metric measures the quality of your RAG pipeline's generator by evaluating whether the `actual_output` factually aligns with the contents of your `retrieval_context`. `deepeval`'s faithfulness metric is a self-explaining LLM-Eval, meaning it outputs a reason for its metric score."
   ]
  },
  {
   "cell_type": "markdown",
   "metadata": {},
   "source": [
    "##### Required Arguments\n",
    "To use the `FaithfulnessMetric`, you need to provide the following arguments when creating an LLMTestCase:\n",
    "\n",
    "- `input`\n",
    "- `actual_output`\n",
    "- `retrieval_context`"
   ]
  },
  {
   "cell_type": "markdown",
   "metadata": {},
   "source": [
    "[Back to top](#title)"
   ]
  },
  {
   "cell_type": "markdown",
   "metadata": {},
   "source": [
    "#### Answer Relevancy\n",
    "The answer relevancy metric measures the quality of your RAG pipeline's generator by evaluating how relevant the actual_output of your LLM application is compared to the provided `input`. `deepeval`'s answer relevancy metric is a self-explaining LLM-Eval, meaning it outputs a reason for its metric score."
   ]
  },
  {
   "cell_type": "markdown",
   "metadata": {},
   "source": [
    "##### Required Arguments\n",
    "To use the AnswerRelevancyMetric, you'll have to provide the following arguments when creating an LLMTestCase:\n",
    "\n",
    "- `input`\n",
    "- `actual_output`"
   ]
  },
  {
   "cell_type": "markdown",
   "metadata": {},
   "source": [
    "[Back to top](#title)"
   ]
  },
  {
   "cell_type": "markdown",
   "metadata": {},
   "source": [
    "#### Hallucination\n",
    "The hallucination metric determines whether your LLM generates factually correct information by comparing the `actual_output` to the provided `context`."
   ]
  },
  {
   "cell_type": "markdown",
   "metadata": {},
   "source": [
    "##### Required Arguments\n",
    "To use the HallucinationMetric, you'll have to provide the following arguments when creating an LLMTestCase:\n",
    "\n",
    "- `input`\n",
    "- `actual_output`\n",
    "- `retrieval_context`"
   ]
  },
  {
   "cell_type": "markdown",
   "metadata": {},
   "source": [
    "[Back to top](#title)"
   ]
  },
  {
   "cell_type": "markdown",
   "metadata": {},
   "source": [
    "-------------------"
   ]
  },
  {
   "cell_type": "markdown",
   "metadata": {},
   "source": [
    "## 2. Setup"
   ]
  },
  {
   "cell_type": "markdown",
   "metadata": {},
   "source": [
    "### Set global variables <a class=\"anchor\" id=\"setversion\"></a>"
   ]
  },
  {
   "cell_type": "markdown",
   "metadata": {},
   "source": [
    "**Evaluate Redbox RAG chat on one stable, numbered version of these data**"
   ]
  },
  {
   "cell_type": "markdown",
   "metadata": {},
   "source": [
    "**Set the version of the evaluation dataset you are using to evalute Redbox in the cell below**   <a class=\"anchor\" id=\"setversion\"></a>"
   ]
  },
  {
   "cell_type": "code",
   "execution_count": null,
   "metadata": {},
   "outputs": [],
   "source": [
    "# DATA_VERSION = \"\""
   ]
  },
  {
   "cell_type": "markdown",
   "metadata": {},
   "source": [
    "Embedding and retrieval is locked to a particular embedding model, which should be tied to a single index in the vector stoer. Here we default to the `EMBEDDING_MODEL` environment variable, which will match production if set via `.env.example`."
   ]
  },
  {
   "cell_type": "code",
   "execution_count": null,
   "metadata": {},
   "outputs": [],
   "source": [
    "MODEL = ENV.embedding_model\n",
    "INDEX = \"redbox-data-chunk\"  # redbox-data-chunk for prod index"
   ]
  },
  {
   "cell_type": "markdown",
   "metadata": {},
   "source": [
    "Run the cell below to set up the required folder structure (it will not overwrite folders and files if they already exist)"
   ]
  },
  {
   "cell_type": "code",
   "execution_count": null,
   "metadata": {},
   "outputs": [],
   "source": [
    "ROOT = Path.cwd().parents[1]\n",
    "EVALUATION_DIR = ROOT / \"notebooks/evaluation\"\n",
    "\n",
    "V_ROOT = EVALUATION_DIR / f\"data/{DATA_VERSION}\"\n",
    "V_RAW = V_ROOT / \"raw\"\n",
    "V_SYNTHETIC = V_ROOT / \"synthetic\"\n",
    "V_CHUNKS = V_ROOT / \"chunks\"\n",
    "V_RESULTS = V_ROOT / \"results\"\n",
    "V_EMBEDDINGS = V_ROOT / \"embeddings\"\n",
    "\n",
    "V_ROOT.mkdir(parents=True, exist_ok=True)\n",
    "V_RAW.mkdir(parents=True, exist_ok=True)\n",
    "V_SYNTHETIC.mkdir(parents=True, exist_ok=True)\n",
    "V_CHUNKS.mkdir(parents=True, exist_ok=True)\n",
    "V_RESULTS.mkdir(parents=True, exist_ok=True)\n",
    "V_EMBEDDINGS.mkdir(parents=True, exist_ok=True)"
   ]
  },
  {
   "cell_type": "markdown",
   "metadata": {},
   "source": [
    "To save on API costs, we only need to generate a particular version of the evaluation dataset once. If you are using a previously generaterated evalutation dataset, **please download it from shared team location (Google Drive).**"
   ]
  },
  {
   "cell_type": "markdown",
   "metadata": {},
   "source": [
    "It's helpful for all calls to share a dummy user. Set that here."
   ]
  },
  {
   "cell_type": "code",
   "execution_count": null,
   "metadata": {},
   "outputs": [],
   "source": [
    "USER_UUID = UUID(\"aaaaaaaa-aaaa-aaaa-aaaa-aaaaaaaaaaaa\")"
   ]
  },
  {
   "cell_type": "markdown",
   "metadata": {},
   "source": [
    "Set up the clients to connect to the backend."
   ]
  },
  {
   "cell_type": "code",
   "execution_count": null,
   "metadata": {},
   "outputs": [],
   "source": [
    "S3_CLIENT = ENV.s3_client()\n",
    "ES_CLIENT = ENV.elasticsearch_client()"
   ]
  },
  {
   "cell_type": "markdown",
   "metadata": {},
   "source": [
    "[Back to top](#title)"
   ]
  },
  {
   "cell_type": "markdown",
   "metadata": {},
   "source": [
    "### Start Redbox locally <a id=\"run-redbox\"></a>"
   ]
  },
  {
   "cell_type": "markdown",
   "metadata": {},
   "source": [
    "Start docker runtime, likely with Docker Desktop. However, if you are using colima run the following terminal command\n",
    "\n",
    "```bash\n",
    "colima start --memory 8\n",
    "``` "
   ]
  },
  {
   "cell_type": "markdown",
   "metadata": {},
   "source": [
    "#### First-time setup"
   ]
  },
  {
   "cell_type": "markdown",
   "metadata": {},
   "source": [
    "First time users need to do the following"
   ]
  },
  {
   "cell_type": "markdown",
   "metadata": {},
   "source": [
    "```bash\n",
    "poetry install\n",
    "```"
   ]
  },
  {
   "cell_type": "markdown",
   "metadata": {},
   "source": [
    "Ensure your `.env` file has an OpenAI API key in, and has the following settings.\n",
    "\n",
    "Note `EMBEDDING_MODEL` must also be set, and should match both production, and the embeddings shared with the dataset. If not, go back to dataset creation, and embed the documents using a model that matches production."
   ]
  },
  {
   "cell_type": "markdown",
   "metadata": {},
   "source": [
    "```bash\n",
    "# === Object Storage ===\n",
    "\n",
    "MINIO_HOST=minio\n",
    "MINIO_PORT=9000\n",
    "MINIO_ACCESS_KEY=minioadmin\n",
    "MINIO_SECRET_KEY=minioadmin\n",
    "AWS_ACCESS_KEY=minioadmin\n",
    "AWS_SECRET_KEY=minioadmin\n",
    "\n",
    "AWS_REGION=eu-west-2\n",
    "\n",
    "# minio or s3\n",
    "OBJECT_STORE=minio\n",
    "BUCKET_NAME=redbox-storage-dev\n",
    "```"
   ]
  },
  {
   "cell_type": "markdown",
   "metadata": {},
   "source": [
    "#### Run Redbox locally"
   ]
  },
  {
   "cell_type": "markdown",
   "metadata": {},
   "source": [
    "**Every time you start Redbox for evaluation (no Django frontend required), please run the following command**"
   ]
  },
  {
   "cell_type": "markdown",
   "metadata": {},
   "source": [
    "```bash\n",
    "make eval_backend\n",
    "````"
   ]
  },
  {
   "cell_type": "markdown",
   "metadata": {},
   "source": [
    "The above command will bring up everything you need for the backend (`core-api`, `worker`, `mino`, `elasticsearch` and `redis`), then create the MinIO bucket needed to store raw files"
   ]
  },
  {
   "cell_type": "markdown",
   "metadata": {},
   "source": [
    "[Back to top](#title)"
   ]
  },
  {
   "cell_type": "markdown",
   "metadata": {},
   "source": [
    "### Load embeddings into the index <a id=\"load-embeddings\"></a>\n",
    "\n",
    "When baselining, we're working with chunks in the index used by the live system, `redbox-data-chunk`.\n",
    "\n",
    "Baselining is only meaningful if the only things in the index are the chunks from the dataset, so first we need to delete the existing data.\n",
    "\n",
    "⚠️ THIS CODE IS DESTRUCTIVE."
   ]
  },
  {
   "cell_type": "code",
   "execution_count": null,
   "metadata": {},
   "outputs": [],
   "source": [
    "ES_CLIENT.indices.delete(index=\"redbox-data-file\", ignore=[400, 404])\n",
    "ES_CLIENT.indices.delete(index=\"redbox-data-chunk\", ignore=[400, 404])"
   ]
  },
  {
   "cell_type": "markdown",
   "metadata": {},
   "source": [
    "Now we're clear to load the pre-embedded chunks in."
   ]
  },
  {
   "cell_type": "code",
   "execution_count": null,
   "metadata": {},
   "outputs": [],
   "source": [
    "def load_chunks_from_jsonl_to_index(file_path: Path, es_client: Elasticsearch, index: str) -> None:\n",
    "    with jsonlines.open(file_path, mode=\"r\") as reader:\n",
    "        for chunk_raw in reader:\n",
    "            chunk = json.loads(chunk_raw)\n",
    "            es_client.index(\n",
    "                index=index,\n",
    "                id=chunk[\"uuid\"],\n",
    "                body=chunk,\n",
    "            )"
   ]
  },
  {
   "cell_type": "code",
   "execution_count": null,
   "metadata": {},
   "outputs": [],
   "source": [
    "load_chunks_from_jsonl_to_index(file_path=V_EMBEDDINGS / f\"{MODEL}.jsonl\", es_client=ES_CLIENT, index=INDEX)"
   ]
  },
  {
   "cell_type": "markdown",
   "metadata": {},
   "source": [
    "----------"
   ]
  },
  {
   "cell_type": "markdown",
   "metadata": {},
   "source": [
    "## 3. Baseline <a id=\"baseline\"></a>\n",
    "\n",
    "Run through this notebook to establish baseline evaluation metrics for the current/deployed Redbox RAG chat endpoint"
   ]
  },
  {
   "cell_type": "markdown",
   "metadata": {},
   "source": [
    "**Use the printed out bearer token below to Authorize if you ever want to use the Swagger UI docs**"
   ]
  },
  {
   "cell_type": "code",
   "execution_count": null,
   "metadata": {},
   "outputs": [],
   "source": [
    "bearer_token = jwt.encode(\n",
    "    {\"user_uuid\": str(UUID(\"aaaaaaaa-aaaa-aaaa-aaaa-aaaaaaaaaaaa\"))}, key=\"your-secret-key\", algorithm=\"HS512\"\n",
    ")\n",
    "print(bearer_token)"
   ]
  },
  {
   "cell_type": "markdown",
   "metadata": {},
   "source": [
    "### 3a. Generate `actual_output` and `retrieval_context` (using RAG chat endpoint)\n",
    "\n",
    "This uses the synthetic data created with the evaluation dataset to baseline the live system."
   ]
  },
  {
   "cell_type": "code",
   "execution_count": null,
   "metadata": {},
   "outputs": [],
   "source": [
    "df = pd.read_csv(f\"{V_SYNTHETIC}/ragas_synthetic_data.csv\")\n",
    "inputs = df[\"input\"].tolist()"
   ]
  },
  {
   "cell_type": "markdown",
   "metadata": {},
   "source": [
    "#### Using the RAG endpoint"
   ]
  },
  {
   "cell_type": "code",
   "execution_count": null,
   "metadata": {},
   "outputs": [],
   "source": [
    "df_endpoint = df.copy()\n",
    "\n",
    "retrieval_context = []\n",
    "actual_output = []\n",
    "\n",
    "headers = {\n",
    "    \"accept\": \"application/json\",\n",
    "    \"Authorization\": \"Bearer \" + bearer_token,\n",
    "    \"Content-Type\": \"application/json\",\n",
    "}\n",
    "\n",
    "url = \"http://127.0.0.1:5002/chat/rag\"\n",
    "\n",
    "for question in inputs:\n",
    "    data = {\"message_history\": [{\"role\": \"user\", \"text\": question}]}\n",
    "\n",
    "    response = requests.post(url, headers=headers, data=json.dumps(data))\n",
    "    data = response.json()\n",
    "\n",
    "    retrieval_context.append(data[\"source_documents\"])\n",
    "    actual_output.append(data[\"output_text\"])\n",
    "\n",
    "df_endpoint[\"actual_output\"] = actual_output\n",
    "df_endpoint[\"retrieval_context\"] = retrieval_context"
   ]
  },
  {
   "cell_type": "markdown",
   "metadata": {},
   "source": [
    "You can keep an eye on progress by inspecting the core API's logs using `docker compose logs -f core-api`."
   ]
  },
  {
   "cell_type": "markdown",
   "metadata": {},
   "source": [
    "#### Confirm actual_output & retrieved_context added to the dataframe"
   ]
  },
  {
   "cell_type": "code",
   "execution_count": null,
   "metadata": {},
   "outputs": [],
   "source": [
    "df_endpoint.head()"
   ]
  },
  {
   "cell_type": "markdown",
   "metadata": {},
   "source": [
    "#### Remove rows containing NaN to prevent Pydantic validation errors"
   ]
  },
  {
   "cell_type": "code",
   "execution_count": null,
   "metadata": {},
   "outputs": [],
   "source": [
    "df_clean = df_endpoint.dropna()\n",
    "df_clean.to_csv(f\"{V_SYNTHETIC}/current_baseline_complete_endpoint_ragas_synthetic_data.csv\", index=False)"
   ]
  },
  {
   "cell_type": "markdown",
   "metadata": {},
   "source": [
    "[Back to top](#title)"
   ]
  },
  {
   "cell_type": "markdown",
   "metadata": {},
   "source": [
    "### 3b. Load evaluation dataset into test cases <a class=\"anchor\" id=\"load-test-cases\"></a>"
   ]
  },
  {
   "cell_type": "markdown",
   "metadata": {},
   "source": [
    "Put the CSV file that you want to use for evaluation into `/notebooks/evaluation/data/synthetic_data/` directory."
   ]
  },
  {
   "cell_type": "markdown",
   "metadata": {},
   "source": [
    "Import test cases from CSV."
   ]
  },
  {
   "cell_type": "code",
   "execution_count": null,
   "metadata": {},
   "outputs": [],
   "source": [
    "dataset_baseline = EvaluationDataset()\n",
    "dataset_baseline.add_test_cases_from_csv_file(\n",
    "    file_path=f\"{V_SYNTHETIC}/current_baseline_complete_endpoint_ragas_synthetic_data.csv\",  # endpoint\n",
    "    input_col_name=\"input\",\n",
    "    actual_output_col_name=\"actual_output\",\n",
    "    expected_output_col_name=\"expected_output\",\n",
    "    context_col_name=\"context\",\n",
    "    context_col_delimiter=\";\",\n",
    "    retrieval_context_col_name=\"retrieval_context\",\n",
    "    retrieval_context_col_delimiter=\";\",\n",
    ")"
   ]
  },
  {
   "cell_type": "markdown",
   "metadata": {},
   "source": [
    "[Back to top](#title)"
   ]
  },
  {
   "cell_type": "markdown",
   "metadata": {},
   "source": [
    "### 3c. Evaluate RAG pipeline <a id=\"evaluate\"></a>"
   ]
  },
  {
   "cell_type": "markdown",
   "metadata": {},
   "source": [
    "Instantiate retrieval and generation evaluation metrics"
   ]
  },
  {
   "cell_type": "code",
   "execution_count": null,
   "metadata": {},
   "outputs": [],
   "source": [
    "# Instantiate retrieval metrics\n",
    "contextual_precision = ContextualPrecisionMetric(\n",
    "    threshold=0.5,  # default is 0.5\n",
    "    model=\"gpt-4o\",\n",
    "    include_reason=True,\n",
    ")\n",
    "\n",
    "contextual_recall = ContextualRecallMetric(\n",
    "    threshold=0.5,  # default is 0.5\n",
    "    model=\"gpt-4o\",\n",
    "    include_reason=True,\n",
    ")\n",
    "\n",
    "contextual_relevancy = ContextualRelevancyMetric(\n",
    "    threshold=0.5,  # default is 0.5\n",
    "    model=\"gpt-4o\",\n",
    "    include_reason=True,\n",
    ")"
   ]
  },
  {
   "cell_type": "code",
   "execution_count": null,
   "metadata": {},
   "outputs": [],
   "source": [
    "# Instantiate generation metrics\n",
    "answer_relevancy = AnswerRelevancyMetric(\n",
    "    threshold=0.5,  # default is 0.5\n",
    "    model=\"gpt-4o\",\n",
    "    include_reason=True,\n",
    ")\n",
    "\n",
    "faithfulness = FaithfulnessMetric(\n",
    "    threshold=0.5,  # default is 0.5\n",
    "    model=\"gpt-4o\",\n",
    "    include_reason=True,\n",
    ")\n",
    "\n",
    "hallucination = HallucinationMetric(\n",
    "    threshold=0.5,  # default is 0.5\n",
    "    model=\"gpt-4o\",\n",
    "    include_reason=True,\n",
    ")"
   ]
  },
  {
   "cell_type": "markdown",
   "metadata": {},
   "source": [
    "#### View test cases"
   ]
  },
  {
   "cell_type": "code",
   "execution_count": null,
   "metadata": {},
   "outputs": [],
   "source": [
    "dataset_baseline.test_cases"
   ]
  },
  {
   "cell_type": "markdown",
   "metadata": {},
   "source": [
    "#### Baseline Evaluation"
   ]
  },
  {
   "cell_type": "code",
   "execution_count": null,
   "metadata": {},
   "outputs": [],
   "source": [
    "baseline_eval_results = evaluate(\n",
    "    test_cases=dataset_baseline,\n",
    "    metrics=[\n",
    "        contextual_precision,\n",
    "        contextual_recall,\n",
    "        contextual_relevancy,\n",
    "        answer_relevancy,\n",
    "        faithfulness,\n",
    "        hallucination,\n",
    "    ],\n",
    ")"
   ]
  },
  {
   "cell_type": "markdown",
   "metadata": {},
   "source": [
    "#### Save baseline evaluation results"
   ]
  },
  {
   "cell_type": "code",
   "execution_count": null,
   "metadata": {},
   "outputs": [],
   "source": [
    "with open(f\"{V_RESULTS}/current_baseline_eval_results_v{DATA_VERSION}\", \"wb\") as f:\n",
    "    pickle.dump(baseline_eval_results, f)"
   ]
  },
  {
   "cell_type": "code",
   "execution_count": null,
   "metadata": {},
   "outputs": [],
   "source": [
    "with open(f\"{V_RESULTS}/current_baseline_eval_results_v{DATA_VERSION}\", \"rb\") as f:\n",
    "    baseline_eval_results = pickle.load(f)"
   ]
  },
  {
   "cell_type": "markdown",
   "metadata": {},
   "source": [
    "### 3d. Analyse baseline evaluation results <a id=\"analysis\"></a>"
   ]
  },
  {
   "cell_type": "code",
   "execution_count": null,
   "metadata": {},
   "outputs": [],
   "source": [
    "metric_type = {\n",
    "    \"metric_name\": [\n",
    "        \"Contextual Precision\",\n",
    "        \"Contextual Recall\",\n",
    "        \"Contextual Relevancy\",\n",
    "        \"Answer Relevancy\",\n",
    "        \"Faithfulness\",\n",
    "        \"Hallucination\",\n",
    "    ],\n",
    "    \"metric_type\": [\"retrieval\", \"retrieval\", \"retrieval\", \"generation\", \"generation\", \"generation\"],\n",
    "}\n",
    "\n",
    "baseline = (\n",
    "    pd.DataFrame.from_records(asdict(result) for result in baseline_eval_results)\n",
    "    .explode(\"metrics\")\n",
    "    .reset_index(drop=True)\n",
    "    .assign(\n",
    "        metric_name=lambda df: df.metrics.apply(getattr, args=[\"__name__\"]),\n",
    "        score=lambda df: df.metrics.apply(getattr, args=[\"score\"]),\n",
    "        reason=lambda df: df.metrics.apply(getattr, args=[\"reason\"]),\n",
    "    )\n",
    "    .merge(pd.DataFrame(metric_type), on=\"metric_name\")\n",
    "    .drop(columns=[\"success\"])\n",
    ")\n",
    "\n",
    "baseline.to_csv(f\"{V_RESULTS}/baseline.csv\", index=False)\n",
    "baseline.head()"
   ]
  },
  {
   "cell_type": "markdown",
   "metadata": {},
   "source": [
    "#### Baseline aggregated view for current Redbox RAG chat core API endpoint"
   ]
  },
  {
   "cell_type": "code",
   "execution_count": null,
   "metadata": {},
   "outputs": [],
   "source": [
    "(baseline.groupby([\"metric_name\", \"metric_type\"]).mean(\"score\"))"
   ]
  },
  {
   "cell_type": "markdown",
   "metadata": {},
   "source": [
    "[Back to top](#title)"
   ]
  },
  {
   "cell_type": "markdown",
   "metadata": {},
   "source": [
    "-----------"
   ]
  }
 ],
 "metadata": {
  "kernelspec": {
   "display_name": "redbox-MiicHf1r-py3.11",
   "language": "python",
   "name": "python3"
  },
  "language_info": {
   "codemirror_mode": {
    "name": "ipython",
    "version": 3
   },
   "file_extension": ".py",
   "mimetype": "text/x-python",
   "name": "python",
   "nbconvert_exporter": "python",
   "pygments_lexer": "ipython3",
   "version": "3.11.8"
  }
 },
 "nbformat": 4,
 "nbformat_minor": 2
}
