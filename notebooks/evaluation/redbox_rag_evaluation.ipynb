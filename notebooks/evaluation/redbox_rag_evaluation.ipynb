{
 "cells": [
  {
   "cell_type": "markdown",
   "metadata": {},
   "source": [
    "# Redbox RAG Evaluation"
   ]
  },
  {
   "cell_type": "markdown",
   "metadata": {},
   "source": [
    "#### REDBOX-204: [SPIKE] Evaluate DeepEval as the LLM evaluation framework for Redbox"
   ]
  },
  {
   "cell_type": "markdown",
   "metadata": {},
   "source": [
    "## Table of Contents\n",
    "* [Overview](#first-section)\n",
    "* [Generate Evaluation Dataset](#second-section)\n",
    "* [Get responses from Redbox RAG endpoint](#third-section)\n",
    "* [Run E2E Evaluation Metrics](#fourth-section)\n",
    "* [Develop Custom Metrics](#fifth-section)\n",
    "* [How to add to CI-CD pipeline](#sixth-section)"
   ]
  },
  {
   "cell_type": "markdown",
   "metadata": {},
   "source": [
    "## Overview <a class=\"anchor\" id=\"first-section\"></a>"
   ]
  },
  {
   "cell_type": "markdown",
   "metadata": {},
   "source": [
    "This notebook experiments with how we could use the DeepEval framework for both LLM/RAG unit testing (CI/CD) and RAG evalution in Redbox, and aims to get the user a little more familiar with the DeepEval framework"
   ]
  },
  {
   "cell_type": "markdown",
   "metadata": {},
   "source": [
    "## Setup"
   ]
  },
  {
   "cell_type": "markdown",
   "metadata": {},
   "source": [
    "As this is a spike, for now, do not mess with poetry set up and install deepeval into a fresh virtual environment"
   ]
  },
  {
   "cell_type": "markdown",
   "metadata": {},
   "source": [
    "e.g. run the terminal commands below to:\n",
    "\n",
    "- Deactivate the main project virtual environment\n",
    "- Create and use a separate virtual environment for running this spike notebook\n",
    "\n",
    "`source deactivate`\n",
    "\n",
    "`cd notebooks/evaluation`\n",
    "\n",
    "`pyenv virtualenv 3.11.8 eval`\n",
    "\n",
    "`pyenv shell eval`\n",
    "\n",
    "Restart vs code for eval virtualenv to be available as a kernel to run this notebook"
   ]
  },
  {
   "cell_type": "markdown",
   "metadata": {},
   "source": [
    "#### Install DeepEval"
   ]
  },
  {
   "cell_type": "code",
   "execution_count": null,
   "metadata": {},
   "outputs": [],
   "source": [
    "!pip install -U deepeval"
   ]
  },
  {
   "cell_type": "markdown",
   "metadata": {},
   "source": [
    "## Generate Evaluation Dataset <a class=\"anchor\" id=\"second-section\"></a>"
   ]
  },
  {
   "cell_type": "markdown",
   "metadata": {},
   "source": [
    "We want to evalution our RAG application end-to-end. In order to do this we need to:\n",
    "1. Generate a dataset from some of the documents I have access to\n",
    "    - Try using DeepEval synthesizer for this (currently does not create expected_output)\n",
    "    - *We can also use this [Hugging Face notebook](https://huggingface.co/learn/cookbook/en/rag_evaluation) to generate Q&A data and/or generated the expected_output (not done in this spike)*\n",
    "    - Put the document(s) and all synthetically generated questions through the e2e Redbox `/rag` endpoint"
   ]
  },
  {
   "cell_type": "markdown",
   "metadata": {},
   "source": [
    "### DeepEval Synthesizer"
   ]
  },
  {
   "cell_type": "markdown",
   "metadata": {},
   "source": [
    "Use document(s) that we want to RAG over to generate Q&A pairs with relevant context - start simple with one doc.\n",
    "\n",
    "Document used in this example is: Compass_BassicIncomeForAll_2019.pdf"
   ]
  },
  {
   "cell_type": "markdown",
   "metadata": {},
   "source": [
    "Follow the steps below to get the chunks for the evaluation document(s):\n",
    "\n",
    "1. Run app locally WITHOUT detached mode: `docker compose up elasticsearch kibana worker minio redis core-api db django-app`\n",
    "\n",
    "2. View Swagger UI for /file endpoint at: `http://127.0.0.1:5002/file/docs`\n",
    "\n",
    "3. Upload documents selected for evaluation\n",
    "\n",
    "4. Take a note of the uuid(s), e.g. 7b550232-35c4-48fd-8d7a-ba364c1378c4 (this will change each time you run locally)\n",
    "\n",
    "Chunking happens very quickly. Embedding takes more time, but will give you a boolean flag on complete.\n",
    "\n",
    "5. From the Swagger UI, use the `file/{uuid}/status` endpoint to check status. Use the `uuid`s noted in step 4\n",
    "\n",
    "6. From the Swagger UI use the `{file_uuid}/chunks` endpoint to get the chunks required for the next step of evaluation. Use the `uuid`s noted in step 4 to get chunks required for evaluation.\n",
    "\n",
    "The complete output can be downloaded in JSON format from the Swagger UI docs page\n",
    "\n",
    "7. Move downloaded response into `notebooks/evaluation/data_eval` folder"
   ]
  },
  {
   "cell_type": "markdown",
   "metadata": {},
   "source": [
    "**Use [From Contexts](https://docs.confident-ai.com/docs/evaluation-datasets-synthetic-data#from-contexts) method in DeepEval synthesizer - this will ensure a more robust evaluation, with actual Redbox chunking mechanism used**"
   ]
  },
  {
   "cell_type": "markdown",
   "metadata": {},
   "source": [
    "The `generate_goldens` method within the Synthesizer class allows for the creation of an evaluation dataset from a manually provided list of `contexts`, which is of type `list[list[str]]`.\n",
    "\n",
    "This method directly transforms predefined textual contexts into inputs, which are then evolved. The evolved inputs form the basis of the goldens in your evaluation dataset."
   ]
  },
  {
   "cell_type": "code",
   "execution_count": 5,
   "metadata": {},
   "outputs": [],
   "source": [
    "# Load chunks created by Redbox\n",
    "import json\n",
    "\n",
    "# Define the path to the JSON file\n",
    "file_path = \"data_eval/response_1715091628456.json\"\n",
    "\n",
    "# Open the file and load the JSON data\n",
    "with open(file_path, 'r') as f:\n",
    "    data = json.load(f)"
   ]
  },
  {
   "cell_type": "code",
   "execution_count": 10,
   "metadata": {},
   "outputs": [
    {
     "data": {
      "text/plain": [
       "66"
      ]
     },
     "execution_count": 10,
     "metadata": {},
     "output_type": "execute_result"
    }
   ],
   "source": [
    "len(data)"
   ]
  },
  {
   "cell_type": "code",
   "execution_count": 18,
   "metadata": {},
   "outputs": [],
   "source": [
    "# Define a list of contexts for synthetic data generation, by taking the text of each chunk from the JSON response\n",
    "contexts = []\n",
    "for i in range(len(data)):\n",
    "    contexts.append([data[i]['text']])"
   ]
  },
  {
   "cell_type": "code",
   "execution_count": 26,
   "metadata": {},
   "outputs": [
    {
     "data": {
      "application/vnd.jupyter.widget-view+json": {
       "model_id": "b4ca074f7beb40109fc94623ec0d8c6f",
       "version_major": 2,
       "version_minor": 0
      },
      "text/plain": [
       "Output()"
      ]
     },
     "metadata": {},
     "output_type": "display_data"
    },
    {
     "data": {
      "text/html": [
       "<pre style=\"white-space:pre;overflow-x:auto;line-height:normal;font-family:Menlo,'DejaVu Sans Mono',consolas,'Courier New',monospace\"></pre>\n"
      ],
      "text/plain": []
     },
     "metadata": {},
     "output_type": "display_data"
    },
    {
     "data": {
      "text/html": [
       "<pre style=\"white-space:pre;overflow-x:auto;line-height:normal;font-family:Menlo,'DejaVu Sans Mono',consolas,'Courier New',monospace\">\n",
       "</pre>\n"
      ],
      "text/plain": [
       "\n"
      ]
     },
     "metadata": {},
     "output_type": "display_data"
    },
    {
     "data": {
      "application/vnd.jupyter.widget-view+json": {
       "model_id": "8e9af4c0bbe748b49a671cf8f32cdbc0",
       "version_major": 2,
       "version_minor": 0
      },
      "text/plain": [
       "Output()"
      ]
     },
     "metadata": {},
     "output_type": "display_data"
    },
    {
     "name": "stdout",
     "output_type": "stream",
     "text": [
      "Synthetic goldens saved at ./synthetic_data/20240507_173546.json!\n"
     ]
    },
    {
     "data": {
      "text/html": [
       "<pre style=\"white-space:pre;overflow-x:auto;line-height:normal;font-family:Menlo,'DejaVu Sans Mono',consolas,'Courier New',monospace\"></pre>\n"
      ],
      "text/plain": []
     },
     "metadata": {},
     "output_type": "display_data"
    },
    {
     "data": {
      "text/html": [
       "<pre style=\"white-space:pre;overflow-x:auto;line-height:normal;font-family:Menlo,'DejaVu Sans Mono',consolas,'Courier New',monospace\">\n",
       "</pre>\n"
      ],
      "text/plain": [
       "\n"
      ]
     },
     "metadata": {},
     "output_type": "display_data"
    },
    {
     "name": "stdout",
     "output_type": "stream",
     "text": [
      "Evaluation dataset saved at ./data_eval/synthetic_data/20240507_173642.json!\n"
     ]
    }
   ],
   "source": [
    "from deepeval.synthesizer import Synthesizer\n",
    "from deepeval.dataset import EvaluationDataset\n",
    "\n",
    "# Initialize the Synthesizer\n",
    "synthesizer = Synthesizer()\n",
    "\n",
    "# contexts generated in cell above\n",
    "\n",
    "# Generate goldens directly with the synthesizer\n",
    "synthesizer.generate_goldens(contexts=contexts)\n",
    "synthesizer.save_as(\n",
    "    file_type='json',  # The method also supports 'csv'\n",
    "    directory=\"./synthetic_data\"\n",
    ")\n",
    "\n",
    "# Generate goldens within an EvaluationDataset\n",
    "dataset = EvaluationDataset()\n",
    "dataset.generate_goldens(\n",
    "    synthesizer=synthesizer,\n",
    "    contexts=contexts\n",
    ")\n",
    "dataset.save_as(\n",
    "    file_type='json',  # Similarly, this supports 'csv'\n",
    "    # directory=\"./synthetic_data\"\n",
    "    directory=\"./data_eval/synthetic_data\"\n",
    ")"
   ]
  },
  {
   "cell_type": "markdown",
   "metadata": {},
   "source": [
    "For the generate_goldens method in deepeval, the parameters are:\n",
    "\n",
    "- contexts: a list of contexts, where each context is itself a list of strings sharing a common theme or subject area.\n",
    "- [Optional] max_goldens_per_context: the maximum number of golden data points to be generated from each context. Adjusting this parameter can influence the size of the resulting dataset. Defaulted to 2.\n",
    "- [Optional] num_evolutions: the number of evolution steps to apply to each generated input. This parameter controls the complexity and diversity of the generated dataset by iteratively refining and evolving the initial inputs. Default value is 1.\n",
    "- [Optional] enable_breadth_evolve: a boolean indicating whether to enable breadth evolution strategies during data generation. When set to True, it introduces a wider variety of context modifications, enhancing the dataset's diversity. Default value is False."
   ]
  },
  {
   "cell_type": "markdown",
   "metadata": {},
   "source": [
    "### Review synthetically created dataset"
   ]
  },
  {
   "cell_type": "code",
   "execution_count": 2,
   "metadata": {},
   "outputs": [],
   "source": [
    "# Load chunks created by Redbox\n",
    "import json\n",
    "\n",
    "# Define the path to the JSON file\n",
    "file_path = \"data_eval/synthetic_data/20240507_173642.json\"\n",
    "\n",
    "# Open the file and load the JSON data\n",
    "with open(file_path, 'r') as f:\n",
    "    dataset = json.load(f)"
   ]
  },
  {
   "cell_type": "code",
   "execution_count": 3,
   "metadata": {},
   "outputs": [
    {
     "data": {
      "text/plain": [
       "396"
      ]
     },
     "execution_count": 3,
     "metadata": {},
     "output_type": "execute_result"
    }
   ],
   "source": [
    "len(dataset)"
   ]
  },
  {
   "cell_type": "markdown",
   "metadata": {},
   "source": [
    "Goldens do not have `expected_output` as it is not required or all metrics. These need to be generated when you create evaluation dataset"
   ]
  },
  {
   "cell_type": "code",
   "execution_count": 28,
   "metadata": {},
   "outputs": [
    {
     "data": {
      "text/plain": [
       "{'input': \"Compare the proposed short-term and long-term basic income schemes in Lansley and Reed's report.\",\n",
       " 'actual_output': None,\n",
       " 'expected_output': None,\n",
       " 'context': ['It is in this context of growing hardship and insecurity that this report by Stewart Lansley and Howard Reed is so important. It takes forward the debate about basic in- come by modelling both a shorter and longer-term scheme. The shorter-term scheme (model 1) provides for a partial basic income (PBI) designed to be implemented in a single parliament. I hope it will be taken seriously by the Labour Party and others. Rath- er than a limited pilot scheme, which is difficult in the context of a (rightly) centralised — 7 —\\n\\nBasic Income for All: From Desirability to Feasibility']}"
      ]
     },
     "execution_count": 28,
     "metadata": {},
     "output_type": "execute_result"
    }
   ],
   "source": [
    "dataset[0]"
   ]
  },
  {
   "cell_type": "code",
   "execution_count": 30,
   "metadata": {},
   "outputs": [
    {
     "data": {
      "text/plain": [
       "{'input': 'Compare the impact of social security cuts vs. welfare reforms on the UK social protection system.',\n",
       " 'actual_output': None,\n",
       " 'expected_output': None,\n",
       " 'context': ['Flynn, Joel Flynn, Frances Foley, Barb Jacobson, Luke Martinelli, Anthony Painter, Peter Sloman, Alfie Stirling, Iva Tasseva, Malcolm Torry and Remco van der Stoep. The comments and feedback have been extremely useful; we apologise where we have not been able to embrace the full implications of all the many and detailed suggestions. Stewart Lansley and Howard Reed December 2018\\n\\n— 5 —\\n\\nForeword\\n\\na\\n\\nBasic Income for All: From Desirability to Feasibility done to the UK social protection system by years of public spending cutbacks targeted at people living in poverty.2 Moreover, social security cuts estimated at over £35bn a year by the early 2020s have been aggravated by ‘welfare reforms’ designed to change behaviour. The latter include an intensified and more extensive sanctions regime, de- scribed recently by the House of Commons Work and Pensions Committee as ‘arbitrar- ily punitive’3; its Chair, Frank Field MP, was quoted as saying ‘we have']}"
      ]
     },
     "execution_count": 30,
     "metadata": {},
     "output_type": "execute_result"
    }
   ],
   "source": [
    "dataset[10]"
   ]
  },
  {
   "cell_type": "code",
   "execution_count": 41,
   "metadata": {},
   "outputs": [
    {
     "data": {
      "text/plain": [
       "\"Compare the proposed short-term and long-term basic income schemes in Lansley and Reed's report.\""
      ]
     },
     "execution_count": 41,
     "metadata": {},
     "output_type": "execute_result"
    }
   ],
   "source": [
    "dataset[0]['input']"
   ]
  },
  {
   "cell_type": "markdown",
   "metadata": {},
   "source": [
    "### Create An Evaluation Dataset"
   ]
  },
  {
   "cell_type": "markdown",
   "metadata": {},
   "source": [
    "An `EvaluationDataset` in `deepeval` is simply a collection of `LLMTestCases` and/or `Goldens`.\n",
    "\n",
    "**INFO**\n",
    "\n",
    "A `Golden` is extremely very similar to an `LLMTestCase`, but they are more flexible as they do not require an `actual_output` at initialization. On the flip side, whilst test cases are always ready for evaluation, a golden isn't."
   ]
  },
  {
   "cell_type": "markdown",
   "metadata": {},
   "source": [
    "#### With Test_Cases (come back to this)"
   ]
  },
  {
   "cell_type": "markdown",
   "metadata": {},
   "source": [
    "#### With Goldens"
   ]
  },
  {
   "cell_type": "markdown",
   "metadata": {},
   "source": [
    "You should opt to initialize `EvaluationDatasets` with goldens if you're looking to generate LLM outputs at evaluation time. This usually means your original dataset does not contain precomputed outputs, but only the inputs you want to evaluate your LLM (application) on."
   ]
  },
  {
   "cell_type": "markdown",
   "metadata": {},
   "source": [
    "**This IS the case for us**"
   ]
  },
  {
   "cell_type": "code",
   "execution_count": 50,
   "metadata": {},
   "outputs": [],
   "source": [
    "from deepeval.dataset import EvaluationDataset, Golden\n",
    "\n",
    "first_golden = Golden(input=dataset[0]['input'])\n",
    "\n",
    "goldens = [first_golden]\n",
    "\n",
    "test_dataset = EvaluationDataset(goldens=goldens)"
   ]
  },
  {
   "cell_type": "code",
   "execution_count": 51,
   "metadata": {},
   "outputs": [
    {
     "data": {
      "text/plain": [
       "EvaluationDataset(test_cases=[], goldens=[Golden(input=\"Compare the proposed short-term and long-term basic income schemes in Lansley and Reed's report.\", actual_output=None, expected_output=None, context=None, retrieval_context=None, additional_metadata=None, comments=None, source_file=None)], conversational_goldens=[], _alias=None, _id=None)"
      ]
     },
     "execution_count": 51,
     "metadata": {},
     "output_type": "execute_result"
    }
   ],
   "source": [
    "test_dataset"
   ]
  },
  {
   "cell_type": "markdown",
   "metadata": {},
   "source": [
    "As of May 2024, `DeepEval`'s synthesizer only generated `input`, i.e. questions. It does not created `expected_output` - this will be coming in the next release."
   ]
  },
  {
   "cell_type": "markdown",
   "metadata": {},
   "source": [
    "#### TODO:"
   ]
  },
  {
   "cell_type": "markdown",
   "metadata": {},
   "source": [
    " Additionally, the synthesizer (I think) only generates the `input` from a single chunk. A `#TODO` would be to create `input` questions from multiple combinations of contexts, to generate more complex `input` questions that require more than one chunk to be retrieved"
   ]
  },
  {
   "cell_type": "markdown",
   "metadata": {},
   "source": [
    "We need to also collect the context used to generate the `input` with the real context returned by Redbox Core API. Some metrics may require the context used by the synthesizer, so best to keep all"
   ]
  },
  {
   "cell_type": "markdown",
   "metadata": {},
   "source": [
    "---------"
   ]
  },
  {
   "cell_type": "markdown",
   "metadata": {},
   "source": [
    "****TODO:** Generate expected output using LLMs ([HuggingFace have a good notebook on this](https://huggingface.co/learn/cookbook/en/rag_evaluation))**"
   ]
  },
  {
   "cell_type": "code",
   "execution_count": null,
   "metadata": {},
   "outputs": [],
   "source": [
    "#TODO: Generate expected output for the test dataset"
   ]
  },
  {
   "cell_type": "markdown",
   "metadata": {},
   "source": [
    "-----------"
   ]
  },
  {
   "cell_type": "markdown",
   "metadata": {},
   "source": [
    "## Get responses from Redbox RAG endpoint <a class=\"anchor\" id=\"third-section\"></a>"
   ]
  },
  {
   "cell_type": "markdown",
   "metadata": {},
   "source": [
    "### Upload document(s) that we want to RAG over - start simple with one doc"
   ]
  },
  {
   "cell_type": "markdown",
   "metadata": {},
   "source": [
    "The evaluation docs should already have been uploaded to the locally running application, in the steps above. If not, do so now."
   ]
  },
  {
   "cell_type": "markdown",
   "metadata": {},
   "source": [
    "### Format each question into the required schema for the /rag endpoint"
   ]
  },
  {
   "cell_type": "code",
   "execution_count": 4,
   "metadata": {},
   "outputs": [],
   "source": [
    "payloads = []\n",
    "\n",
    "for i in range(len(dataset)):\n",
    "    dict ={\n",
    "      \"message_history\": [\n",
    "    {\n",
    "      \"role\": \"system\",\n",
    "      \"text\": \"You are a helpful AI Assistant\"\n",
    "    },\n",
    "    {\n",
    "      \"role\": \"user\",\n",
    "      \"text\": dataset[i]['input']\n",
    "    }\n",
    "  ]\n",
    "}\n",
    "    payloads.append(dict)"
   ]
  },
  {
   "cell_type": "markdown",
   "metadata": {},
   "source": [
    "### Calling /chat/rag endpoint"
   ]
  },
  {
   "cell_type": "markdown",
   "metadata": {},
   "source": [
    "Use Python's concurrent.futures module to achieve parallel processing."
   ]
  },
  {
   "cell_type": "markdown",
   "metadata": {},
   "source": [
    "This script will send POST requests to the specified FastAPI endpoint (/chat/rag) with the provided JSON payload. The ThreadPoolExecutor is used to send these requests in parallel, with a maximum of 10 workers. The status code of each request is printed to the console."
   ]
  },
  {
   "cell_type": "markdown",
   "metadata": {},
   "source": [
    "Handle the responses in a more efficiently by storing them in a list and processing them after all requests have been made. This way, you can perform operations like counting the number of successful requests, logging failed requests, etc. Here's how you can modify your code:"
   ]
  },
  {
   "cell_type": "code",
   "execution_count": 5,
   "metadata": {},
   "outputs": [],
   "source": [
    "import requests\n",
    "import json\n",
    "from concurrent.futures import ThreadPoolExecutor\n",
    "\n",
    "def post_request(payload):\n",
    "    url = \"http://127.0.0.1:5002/chat/rag\"\n",
    "    headers = {'Content-Type': 'application/json'}\n",
    "    response = requests.post(url, data=json.dumps(payload), headers=headers)\n",
    "    return response.status_code, response.json()  # return status code and response body\n",
    "\n",
    "with ThreadPoolExecutor(max_workers=10) as executor:\n",
    "    futures = [executor.submit(post_request, payload) for payload in payloads]\n",
    "\n",
    "responses = [future.result() for future in futures]  # store responses in a list\n",
    "\n",
    "# Create a list to store status and body\n",
    "status_and_body = [(status, body) for status, body in responses]"
   ]
  },
  {
   "cell_type": "code",
   "execution_count": 6,
   "metadata": {},
   "outputs": [
    {
     "data": {
      "text/plain": [
       "(200,\n",
       " {'source_documents': [{'page_content': 'It is in this context of growing hardship and insecurity that this report by Stewart Lansley and Howard Reed is so important. It takes forward the debate about basic in- come by modelling both a shorter and longer-term scheme. The shorter-term scheme (model 1) provides for a partial basic income (PBI) designed to be implemented in a single parliament. I hope it will be taken seriously by the Labour Party and others. Rath- er than a limited pilot scheme, which is difficult in the context of a (rightly) centralised — 7 —\\n\\nBasic Income for All: From Desirability to Feasibility',\n",
       "    'file_uuid': '7b550232-35c4-48fd-8d7a-ba364c1378c4',\n",
       "    'page_numbers': None},\n",
       "   {'page_content': 'initial basic income funded through the existing tax/benefit system – and a longer term step, with a citizens’ fund building over time to finance a more generous scheme. The combined ap- proach could be implemented well within a single generation. This approach provides a baseline income, and thus a bedrock of security in an increasingly insecure world that boosts personal freedom and extends choices about work, education, enterprise, caring and community involvement. deal with all the fault lines of today’s economic and social system. It could not be implemented without a much fuller public debate about the options, which involve a significant transformation in the nature of social protection, the character of the tax–benefit system, and the pattern of winners and\\n\\n— 31 —\\n\\nBasic Income for All: From Desirability to Feasibility\\n\\nlosers. Such a debate is long overdue. It is over 75 years since Beveridge and there are few other coherent proposals for reform. any reform of the current system of social security that reduces the risk of poverty – that is its role – would cost more and would involve losers. It is not possible to design a reform of the current system that is feasible, costless and in which everyone wins. This would apply equally to other reforms of social security aimed at reducing poverty levels. to tackle the great blight of poverty, and the excessive means testing and conditionality of the present system. The plan outlined, one grafted onto the existing system leaving it mostly intact, involves a modest increase in taxa- tion, but lowers the risk of poverty, reduces inequality, boosts the universal element of income support, reduces dependency on means testing, greatly reduces sanctioning, and builds a guaranteed income floor. These are sub- stantial gains. Most of the separate elements that make up a basic income have merit in their own right. Converting the personal tax allowance into a cash payment would be highly progressive. A boost to child benefit, the introduction of a weekly cash payment for young people under 25, the partial correction of the gender bias in the existing system and the income floor would all be important individual measures in any reconstituted anti-poverty programme. They would surely find support among progressive critics. Indeed there is a quite separate case for implementing some of the key individual elements that make up a basic income.',\n",
       "    'file_uuid': '7b550232-35c4-48fd-8d7a-ba364c1378c4',\n",
       "    'page_numbers': None},\n",
       "   {'page_content': '— 16 —\\n\\nBasic Income for All: From Desirability to Feasibility\\n\\nTable 2 outlines the key elements of Model 1. The model could be implemented within the lifetime of a single parliament in one go, phased in possibly over a longer period, or introduced at lower initial rates (see ‘Phasing’, below).\\n\\nTable 2: Elements of a starter rate partial basic income, Model 1 • adult aged 18–64: £60 Weekly payment levels (tax free) • child aged 0–17: £40 • adults 65+: £175 • The first £25 per week of basic income is disregarded for means- testing purposes – so even those receiving means-tested benefits get an income boost. The payment above this disregard is counted as income for the calculation of other benefits. The effect of the disregard is to raise lower net incomes by more than without it, but would lead to less of a reduction (and financial saving) from means- tested benefits. If the whole, or part of the payment was counted as income for means-tested benefits, the net cost would fall and the income gains at the bottom would be lower. Changes to existing benefit system • Child benefit and existing state pension are abolished. • The existing state pension of £164.35 per week is converted into an unconditional flat rate ‘citizens’ pension’ of £175 per week. • Current national insurance contributions (NICs) and the new pen- sion scheme are abolished; eligibility for the state pension would thus become automatic for citizens above the state pension age, rather than conditional on an adequate contributions record as at present, thus raising the income of those with incomplete contribu- tion records, mostly women, and the group most vulnerable to pensioner poverty. • Income tax personal allowance is abolished. • Current higher rate threshold is adjusted upwards so it takes effect at the same existing level of gross income. • A new income tax rate of 15p is introduced for the first £11,850 of taxable income. This is to minimise the number of low income losers. Changes to tax system • Existing income tax rates are raised by 3p taking them in England, Wales and Northern Ireland to 23p, 43p and 48p. • The employee NICs primary threshold is abolished (so NICs are payable on all earnings) and the rate of employee NICs is set at 12% for the whole range of earnings (increasing NICs from 2% to 12% above the upper earnings limit). NICs for the self-employed are also equalised with employees at 12% (currently 9%) as Jobseekers’ Allowance is less important in this system because of the increased working-age basic income rate. • A citizens’ wealth fund is established; this will build over time Creation of Citizens’ wealth fund and start paying out in year 20 under the illustrative Model 2. See Chapter 3. Implementation • The scheme could be implemented in one go or phased in over time in steps. system. First, there is a guaranteed set of payments aimed at providing an income floor. Secondly, a series of tax adjustments raises the additional income needed to pay for the weekly basic income while making the tax system more progressive. The tax changes involve the abolition of the personal allowance, a new tax rate at the bottom end of the income band of 15p, a rise in existing tax rates of 3p in the pound, and a change in the current system of NICs. The 3p rise in the tax rate ensures',\n",
       "    'file_uuid': '7b550232-35c4-48fd-8d7a-ba364c1378c4',\n",
       "    'page_numbers': None},\n",
       "   {'page_content': 'The analysis has been commissioned by Compass. It has been funded by the Friends Provident Foundation and uses the Landman Economics tax–benefit model (see Appendix A). It develops the partial model set out in the first 2016 Compass Report: Universal Basic Income: an idea whose time has come.12\\n\\nTWO MODELS\\n\\nWe examine two complementary steps to establishing a basic income system. Model 1, the fast track route Under this model the government would pay £60 per week to adults aged 18–64, £40 per week to mothers for each of their children (aged 0–17), and £175 to adults aged 65+. Eligibility would be based on residency. Child benefit and the state pension would be abolished, but other parts of the existing social security system, including means- tested benefits, would be retained. These sums would be guaranteed, with no ques- tions asked, irrespective of work status. This model would involve a number of integrated changes to the tax and benefit system. Each of these elements could either be phased in gradually over time, or be implemented in full at one go. It could therefore be implemented during the lifetime of a single parliament. The model would have a net cost of £28bn, roughly the equivalent of the total of the cuts to benefits since 2010. It would therefore take us back to the level of spending on social security in 2010, but with a much more progressive system in place.',\n",
       "    'file_uuid': '7b550232-35c4-48fd-8d7a-ba364c1378c4',\n",
       "    'page_numbers': None}],\n",
       "  'output_text': \"The proposed short-term basic income scheme in the Lansley and Reed report involves paying £60 per week to adults aged 18-64, £40 per week to mothers for each child aged 0-17, and £175 per week to adults aged 65 and above with residency eligibility. It would abolish child benefit and the state pension but retain other parts of the existing social security system, including means-tested benefits. The net cost is estimated to be £28bn. The long-term scheme involves building a citizens' fund over time to finance a more generous scheme that provides a baseline income and boosts personal freedom. Both schemes aim to reduce poverty and promote social security reform.\\n\\n**Short-term Basic Income Scheme (Model 1):**\\n- Weekly payments: £60 for adults 18-64, £40 for children 0-17, £175 for adults 65+\\n- Abolishes child benefit and state pension\\n- Costs estimated at £28bn\\n- Implementation could be phased or done in one go\\n\\n**Long-term Citizens' Fund Scheme:**\\n- Builds over time to finance a more generous basic income scheme\\n- Aims to boost personal freedom and reduce poverty\\n\\nSources: <Doc7b550232-35c4-48fd-8d\"})"
      ]
     },
     "execution_count": 6,
     "metadata": {},
     "output_type": "execute_result"
    }
   ],
   "source": [
    "status_and_body[0]"
   ]
  },
  {
   "cell_type": "markdown",
   "metadata": {},
   "source": [
    "Save respones"
   ]
  },
  {
   "cell_type": "code",
   "execution_count": 8,
   "metadata": {},
   "outputs": [],
   "source": [
    "import pickle\n",
    "\n",
    "# Save the status_and_body list to a file\n",
    "with open('data_eval/rag_responses.pkl', 'wb') as f:\n",
    "    pickle.dump(status_and_body, f)"
   ]
  },
  {
   "cell_type": "markdown",
   "metadata": {},
   "source": [
    "Load from file"
   ]
  },
  {
   "cell_type": "code",
   "execution_count": null,
   "metadata": {},
   "outputs": [],
   "source": [
    "import pickle\n",
    "\n",
    "# Load the status_and_body list from a file\n",
    "with open('data_eval/rag_responses.pkl', 'rb') as f:\n",
    "    status_and_body = pickle.load(f)"
   ]
  },
  {
   "cell_type": "code",
   "execution_count": 13,
   "metadata": {},
   "outputs": [
    {
     "data": {
      "text/plain": [
       "[{'page_content': 'It is in this context of growing hardship and insecurity that this report by Stewart Lansley and Howard Reed is so important. It takes forward the debate about basic in- come by modelling both a shorter and longer-term scheme. The shorter-term scheme (model 1) provides for a partial basic income (PBI) designed to be implemented in a single parliament. I hope it will be taken seriously by the Labour Party and others. Rath- er than a limited pilot scheme, which is difficult in the context of a (rightly) centralised — 7 —\\n\\nBasic Income for All: From Desirability to Feasibility',\n",
       "  'file_uuid': '7b550232-35c4-48fd-8d7a-ba364c1378c4',\n",
       "  'page_numbers': None},\n",
       " {'page_content': 'initial basic income funded through the existing tax/benefit system – and a longer term step, with a citizens’ fund building over time to finance a more generous scheme. The combined ap- proach could be implemented well within a single generation. This approach provides a baseline income, and thus a bedrock of security in an increasingly insecure world that boosts personal freedom and extends choices about work, education, enterprise, caring and community involvement. deal with all the fault lines of today’s economic and social system. It could not be implemented without a much fuller public debate about the options, which involve a significant transformation in the nature of social protection, the character of the tax–benefit system, and the pattern of winners and\\n\\n— 31 —\\n\\nBasic Income for All: From Desirability to Feasibility\\n\\nlosers. Such a debate is long overdue. It is over 75 years since Beveridge and there are few other coherent proposals for reform. any reform of the current system of social security that reduces the risk of poverty – that is its role – would cost more and would involve losers. It is not possible to design a reform of the current system that is feasible, costless and in which everyone wins. This would apply equally to other reforms of social security aimed at reducing poverty levels. to tackle the great blight of poverty, and the excessive means testing and conditionality of the present system. The plan outlined, one grafted onto the existing system leaving it mostly intact, involves a modest increase in taxa- tion, but lowers the risk of poverty, reduces inequality, boosts the universal element of income support, reduces dependency on means testing, greatly reduces sanctioning, and builds a guaranteed income floor. These are sub- stantial gains. Most of the separate elements that make up a basic income have merit in their own right. Converting the personal tax allowance into a cash payment would be highly progressive. A boost to child benefit, the introduction of a weekly cash payment for young people under 25, the partial correction of the gender bias in the existing system and the income floor would all be important individual measures in any reconstituted anti-poverty programme. They would surely find support among progressive critics. Indeed there is a quite separate case for implementing some of the key individual elements that make up a basic income.',\n",
       "  'file_uuid': '7b550232-35c4-48fd-8d7a-ba364c1378c4',\n",
       "  'page_numbers': None},\n",
       " {'page_content': '— 16 —\\n\\nBasic Income for All: From Desirability to Feasibility\\n\\nTable 2 outlines the key elements of Model 1. The model could be implemented within the lifetime of a single parliament in one go, phased in possibly over a longer period, or introduced at lower initial rates (see ‘Phasing’, below).\\n\\nTable 2: Elements of a starter rate partial basic income, Model 1 • adult aged 18–64: £60 Weekly payment levels (tax free) • child aged 0–17: £40 • adults 65+: £175 • The first £25 per week of basic income is disregarded for means- testing purposes – so even those receiving means-tested benefits get an income boost. The payment above this disregard is counted as income for the calculation of other benefits. The effect of the disregard is to raise lower net incomes by more than without it, but would lead to less of a reduction (and financial saving) from means- tested benefits. If the whole, or part of the payment was counted as income for means-tested benefits, the net cost would fall and the income gains at the bottom would be lower. Changes to existing benefit system • Child benefit and existing state pension are abolished. • The existing state pension of £164.35 per week is converted into an unconditional flat rate ‘citizens’ pension’ of £175 per week. • Current national insurance contributions (NICs) and the new pen- sion scheme are abolished; eligibility for the state pension would thus become automatic for citizens above the state pension age, rather than conditional on an adequate contributions record as at present, thus raising the income of those with incomplete contribu- tion records, mostly women, and the group most vulnerable to pensioner poverty. • Income tax personal allowance is abolished. • Current higher rate threshold is adjusted upwards so it takes effect at the same existing level of gross income. • A new income tax rate of 15p is introduced for the first £11,850 of taxable income. This is to minimise the number of low income losers. Changes to tax system • Existing income tax rates are raised by 3p taking them in England, Wales and Northern Ireland to 23p, 43p and 48p. • The employee NICs primary threshold is abolished (so NICs are payable on all earnings) and the rate of employee NICs is set at 12% for the whole range of earnings (increasing NICs from 2% to 12% above the upper earnings limit). NICs for the self-employed are also equalised with employees at 12% (currently 9%) as Jobseekers’ Allowance is less important in this system because of the increased working-age basic income rate. • A citizens’ wealth fund is established; this will build over time Creation of Citizens’ wealth fund and start paying out in year 20 under the illustrative Model 2. See Chapter 3. Implementation • The scheme could be implemented in one go or phased in over time in steps. system. First, there is a guaranteed set of payments aimed at providing an income floor. Secondly, a series of tax adjustments raises the additional income needed to pay for the weekly basic income while making the tax system more progressive. The tax changes involve the abolition of the personal allowance, a new tax rate at the bottom end of the income band of 15p, a rise in existing tax rates of 3p in the pound, and a change in the current system of NICs. The 3p rise in the tax rate ensures',\n",
       "  'file_uuid': '7b550232-35c4-48fd-8d7a-ba364c1378c4',\n",
       "  'page_numbers': None},\n",
       " {'page_content': 'The analysis has been commissioned by Compass. It has been funded by the Friends Provident Foundation and uses the Landman Economics tax–benefit model (see Appendix A). It develops the partial model set out in the first 2016 Compass Report: Universal Basic Income: an idea whose time has come.12\\n\\nTWO MODELS\\n\\nWe examine two complementary steps to establishing a basic income system. Model 1, the fast track route Under this model the government would pay £60 per week to adults aged 18–64, £40 per week to mothers for each of their children (aged 0–17), and £175 to adults aged 65+. Eligibility would be based on residency. Child benefit and the state pension would be abolished, but other parts of the existing social security system, including means- tested benefits, would be retained. These sums would be guaranteed, with no ques- tions asked, irrespective of work status. This model would involve a number of integrated changes to the tax and benefit system. Each of these elements could either be phased in gradually over time, or be implemented in full at one go. It could therefore be implemented during the lifetime of a single parliament. The model would have a net cost of £28bn, roughly the equivalent of the total of the cuts to benefits since 2010. It would therefore take us back to the level of spending on social security in 2010, but with a much more progressive system in place.',\n",
       "  'file_uuid': '7b550232-35c4-48fd-8d7a-ba364c1378c4',\n",
       "  'page_numbers': None}]"
      ]
     },
     "execution_count": 13,
     "metadata": {},
     "output_type": "execute_result"
    }
   ],
   "source": [
    "status_and_body[0][1]['source_documents']"
   ]
  },
  {
   "cell_type": "code",
   "execution_count": 14,
   "metadata": {},
   "outputs": [
    {
     "data": {
      "text/plain": [
       "{'input': \"Compare the proposed short-term and long-term basic income schemes in Lansley and Reed's report.\",\n",
       " 'actual_output': None,\n",
       " 'expected_output': None,\n",
       " 'context': ['It is in this context of growing hardship and insecurity that this report by Stewart Lansley and Howard Reed is so important. It takes forward the debate about basic in- come by modelling both a shorter and longer-term scheme. The shorter-term scheme (model 1) provides for a partial basic income (PBI) designed to be implemented in a single parliament. I hope it will be taken seriously by the Labour Party and others. Rath- er than a limited pilot scheme, which is difficult in the context of a (rightly) centralised — 7 —\\n\\nBasic Income for All: From Desirability to Feasibility']}"
      ]
     },
     "execution_count": 14,
     "metadata": {},
     "output_type": "execute_result"
    }
   ],
   "source": [
    "dataset[0]"
   ]
  },
  {
   "cell_type": "code",
   "execution_count": 27,
   "metadata": {},
   "outputs": [
    {
     "data": {
      "text/plain": [
       "[{'page_content': 'It is in this context of growing hardship and insecurity that this report by Stewart Lansley and Howard Reed is so important. It takes forward the debate about basic in- come by modelling both a shorter and longer-term scheme. The shorter-term scheme (model 1) provides for a partial basic income (PBI) designed to be implemented in a single parliament. I hope it will be taken seriously by the Labour Party and others. Rath- er than a limited pilot scheme, which is difficult in the context of a (rightly) centralised — 7 —\\n\\nBasic Income for All: From Desirability to Feasibility',\n",
       "  'file_uuid': '7b550232-35c4-48fd-8d7a-ba364c1378c4',\n",
       "  'page_numbers': None},\n",
       " {'page_content': 'initial basic income funded through the existing tax/benefit system – and a longer term step, with a citizens’ fund building over time to finance a more generous scheme. The combined ap- proach could be implemented well within a single generation. This approach provides a baseline income, and thus a bedrock of security in an increasingly insecure world that boosts personal freedom and extends choices about work, education, enterprise, caring and community involvement. deal with all the fault lines of today’s economic and social system. It could not be implemented without a much fuller public debate about the options, which involve a significant transformation in the nature of social protection, the character of the tax–benefit system, and the pattern of winners and\\n\\n— 31 —\\n\\nBasic Income for All: From Desirability to Feasibility\\n\\nlosers. Such a debate is long overdue. It is over 75 years since Beveridge and there are few other coherent proposals for reform. any reform of the current system of social security that reduces the risk of poverty – that is its role – would cost more and would involve losers. It is not possible to design a reform of the current system that is feasible, costless and in which everyone wins. This would apply equally to other reforms of social security aimed at reducing poverty levels. to tackle the great blight of poverty, and the excessive means testing and conditionality of the present system. The plan outlined, one grafted onto the existing system leaving it mostly intact, involves a modest increase in taxa- tion, but lowers the risk of poverty, reduces inequality, boosts the universal element of income support, reduces dependency on means testing, greatly reduces sanctioning, and builds a guaranteed income floor. These are sub- stantial gains. Most of the separate elements that make up a basic income have merit in their own right. Converting the personal tax allowance into a cash payment would be highly progressive. A boost to child benefit, the introduction of a weekly cash payment for young people under 25, the partial correction of the gender bias in the existing system and the income floor would all be important individual measures in any reconstituted anti-poverty programme. They would surely find support among progressive critics. Indeed there is a quite separate case for implementing some of the key individual elements that make up a basic income.',\n",
       "  'file_uuid': '7b550232-35c4-48fd-8d7a-ba364c1378c4',\n",
       "  'page_numbers': None},\n",
       " {'page_content': '— 16 —\\n\\nBasic Income for All: From Desirability to Feasibility\\n\\nTable 2 outlines the key elements of Model 1. The model could be implemented within the lifetime of a single parliament in one go, phased in possibly over a longer period, or introduced at lower initial rates (see ‘Phasing’, below).\\n\\nTable 2: Elements of a starter rate partial basic income, Model 1 • adult aged 18–64: £60 Weekly payment levels (tax free) • child aged 0–17: £40 • adults 65+: £175 • The first £25 per week of basic income is disregarded for means- testing purposes – so even those receiving means-tested benefits get an income boost. The payment above this disregard is counted as income for the calculation of other benefits. The effect of the disregard is to raise lower net incomes by more than without it, but would lead to less of a reduction (and financial saving) from means- tested benefits. If the whole, or part of the payment was counted as income for means-tested benefits, the net cost would fall and the income gains at the bottom would be lower. Changes to existing benefit system • Child benefit and existing state pension are abolished. • The existing state pension of £164.35 per week is converted into an unconditional flat rate ‘citizens’ pension’ of £175 per week. • Current national insurance contributions (NICs) and the new pen- sion scheme are abolished; eligibility for the state pension would thus become automatic for citizens above the state pension age, rather than conditional on an adequate contributions record as at present, thus raising the income of those with incomplete contribu- tion records, mostly women, and the group most vulnerable to pensioner poverty. • Income tax personal allowance is abolished. • Current higher rate threshold is adjusted upwards so it takes effect at the same existing level of gross income. • A new income tax rate of 15p is introduced for the first £11,850 of taxable income. This is to minimise the number of low income losers. Changes to tax system • Existing income tax rates are raised by 3p taking them in England, Wales and Northern Ireland to 23p, 43p and 48p. • The employee NICs primary threshold is abolished (so NICs are payable on all earnings) and the rate of employee NICs is set at 12% for the whole range of earnings (increasing NICs from 2% to 12% above the upper earnings limit). NICs for the self-employed are also equalised with employees at 12% (currently 9%) as Jobseekers’ Allowance is less important in this system because of the increased working-age basic income rate. • A citizens’ wealth fund is established; this will build over time Creation of Citizens’ wealth fund and start paying out in year 20 under the illustrative Model 2. See Chapter 3. Implementation • The scheme could be implemented in one go or phased in over time in steps. system. First, there is a guaranteed set of payments aimed at providing an income floor. Secondly, a series of tax adjustments raises the additional income needed to pay for the weekly basic income while making the tax system more progressive. The tax changes involve the abolition of the personal allowance, a new tax rate at the bottom end of the income band of 15p, a rise in existing tax rates of 3p in the pound, and a change in the current system of NICs. The 3p rise in the tax rate ensures',\n",
       "  'file_uuid': '7b550232-35c4-48fd-8d7a-ba364c1378c4',\n",
       "  'page_numbers': None},\n",
       " {'page_content': 'The analysis has been commissioned by Compass. It has been funded by the Friends Provident Foundation and uses the Landman Economics tax–benefit model (see Appendix A). It develops the partial model set out in the first 2016 Compass Report: Universal Basic Income: an idea whose time has come.12\\n\\nTWO MODELS\\n\\nWe examine two complementary steps to establishing a basic income system. Model 1, the fast track route Under this model the government would pay £60 per week to adults aged 18–64, £40 per week to mothers for each of their children (aged 0–17), and £175 to adults aged 65+. Eligibility would be based on residency. Child benefit and the state pension would be abolished, but other parts of the existing social security system, including means- tested benefits, would be retained. These sums would be guaranteed, with no ques- tions asked, irrespective of work status. This model would involve a number of integrated changes to the tax and benefit system. Each of these elements could either be phased in gradually over time, or be implemented in full at one go. It could therefore be implemented during the lifetime of a single parliament. The model would have a net cost of £28bn, roughly the equivalent of the total of the cuts to benefits since 2010. It would therefore take us back to the level of spending on social security in 2010, but with a much more progressive system in place.',\n",
       "  'file_uuid': '7b550232-35c4-48fd-8d7a-ba364c1378c4',\n",
       "  'page_numbers': None}]"
      ]
     },
     "execution_count": 27,
     "metadata": {},
     "output_type": "execute_result"
    }
   ],
   "source": [
    "status_and_body[i][1]['source_documents']"
   ]
  },
  {
   "cell_type": "code",
   "execution_count": 28,
   "metadata": {},
   "outputs": [],
   "source": [
    "page_contents = [d['page_content'] for d in status_and_body[0][1]['source_documents']]"
   ]
  },
  {
   "cell_type": "code",
   "execution_count": 29,
   "metadata": {},
   "outputs": [
    {
     "data": {
      "text/plain": [
       "['It is in this context of growing hardship and insecurity that this report by Stewart Lansley and Howard Reed is so important. It takes forward the debate about basic in- come by modelling both a shorter and longer-term scheme. The shorter-term scheme (model 1) provides for a partial basic income (PBI) designed to be implemented in a single parliament. I hope it will be taken seriously by the Labour Party and others. Rath- er than a limited pilot scheme, which is difficult in the context of a (rightly) centralised — 7 —\\n\\nBasic Income for All: From Desirability to Feasibility',\n",
       " 'initial basic income funded through the existing tax/benefit system – and a longer term step, with a citizens’ fund building over time to finance a more generous scheme. The combined ap- proach could be implemented well within a single generation. This approach provides a baseline income, and thus a bedrock of security in an increasingly insecure world that boosts personal freedom and extends choices about work, education, enterprise, caring and community involvement. deal with all the fault lines of today’s economic and social system. It could not be implemented without a much fuller public debate about the options, which involve a significant transformation in the nature of social protection, the character of the tax–benefit system, and the pattern of winners and\\n\\n— 31 —\\n\\nBasic Income for All: From Desirability to Feasibility\\n\\nlosers. Such a debate is long overdue. It is over 75 years since Beveridge and there are few other coherent proposals for reform. any reform of the current system of social security that reduces the risk of poverty – that is its role – would cost more and would involve losers. It is not possible to design a reform of the current system that is feasible, costless and in which everyone wins. This would apply equally to other reforms of social security aimed at reducing poverty levels. to tackle the great blight of poverty, and the excessive means testing and conditionality of the present system. The plan outlined, one grafted onto the existing system leaving it mostly intact, involves a modest increase in taxa- tion, but lowers the risk of poverty, reduces inequality, boosts the universal element of income support, reduces dependency on means testing, greatly reduces sanctioning, and builds a guaranteed income floor. These are sub- stantial gains. Most of the separate elements that make up a basic income have merit in their own right. Converting the personal tax allowance into a cash payment would be highly progressive. A boost to child benefit, the introduction of a weekly cash payment for young people under 25, the partial correction of the gender bias in the existing system and the income floor would all be important individual measures in any reconstituted anti-poverty programme. They would surely find support among progressive critics. Indeed there is a quite separate case for implementing some of the key individual elements that make up a basic income.',\n",
       " '— 16 —\\n\\nBasic Income for All: From Desirability to Feasibility\\n\\nTable 2 outlines the key elements of Model 1. The model could be implemented within the lifetime of a single parliament in one go, phased in possibly over a longer period, or introduced at lower initial rates (see ‘Phasing’, below).\\n\\nTable 2: Elements of a starter rate partial basic income, Model 1 • adult aged 18–64: £60 Weekly payment levels (tax free) • child aged 0–17: £40 • adults 65+: £175 • The first £25 per week of basic income is disregarded for means- testing purposes – so even those receiving means-tested benefits get an income boost. The payment above this disregard is counted as income for the calculation of other benefits. The effect of the disregard is to raise lower net incomes by more than without it, but would lead to less of a reduction (and financial saving) from means- tested benefits. If the whole, or part of the payment was counted as income for means-tested benefits, the net cost would fall and the income gains at the bottom would be lower. Changes to existing benefit system • Child benefit and existing state pension are abolished. • The existing state pension of £164.35 per week is converted into an unconditional flat rate ‘citizens’ pension’ of £175 per week. • Current national insurance contributions (NICs) and the new pen- sion scheme are abolished; eligibility for the state pension would thus become automatic for citizens above the state pension age, rather than conditional on an adequate contributions record as at present, thus raising the income of those with incomplete contribu- tion records, mostly women, and the group most vulnerable to pensioner poverty. • Income tax personal allowance is abolished. • Current higher rate threshold is adjusted upwards so it takes effect at the same existing level of gross income. • A new income tax rate of 15p is introduced for the first £11,850 of taxable income. This is to minimise the number of low income losers. Changes to tax system • Existing income tax rates are raised by 3p taking them in England, Wales and Northern Ireland to 23p, 43p and 48p. • The employee NICs primary threshold is abolished (so NICs are payable on all earnings) and the rate of employee NICs is set at 12% for the whole range of earnings (increasing NICs from 2% to 12% above the upper earnings limit). NICs for the self-employed are also equalised with employees at 12% (currently 9%) as Jobseekers’ Allowance is less important in this system because of the increased working-age basic income rate. • A citizens’ wealth fund is established; this will build over time Creation of Citizens’ wealth fund and start paying out in year 20 under the illustrative Model 2. See Chapter 3. Implementation • The scheme could be implemented in one go or phased in over time in steps. system. First, there is a guaranteed set of payments aimed at providing an income floor. Secondly, a series of tax adjustments raises the additional income needed to pay for the weekly basic income while making the tax system more progressive. The tax changes involve the abolition of the personal allowance, a new tax rate at the bottom end of the income band of 15p, a rise in existing tax rates of 3p in the pound, and a change in the current system of NICs. The 3p rise in the tax rate ensures',\n",
       " 'The analysis has been commissioned by Compass. It has been funded by the Friends Provident Foundation and uses the Landman Economics tax–benefit model (see Appendix A). It develops the partial model set out in the first 2016 Compass Report: Universal Basic Income: an idea whose time has come.12\\n\\nTWO MODELS\\n\\nWe examine two complementary steps to establishing a basic income system. Model 1, the fast track route Under this model the government would pay £60 per week to adults aged 18–64, £40 per week to mothers for each of their children (aged 0–17), and £175 to adults aged 65+. Eligibility would be based on residency. Child benefit and the state pension would be abolished, but other parts of the existing social security system, including means- tested benefits, would be retained. These sums would be guaranteed, with no ques- tions asked, irrespective of work status. This model would involve a number of integrated changes to the tax and benefit system. Each of these elements could either be phased in gradually over time, or be implemented in full at one go. It could therefore be implemented during the lifetime of a single parliament. The model would have a net cost of £28bn, roughly the equivalent of the total of the cuts to benefits since 2010. It would therefore take us back to the level of spending on social security in 2010, but with a much more progressive system in place.']"
      ]
     },
     "execution_count": 29,
     "metadata": {},
     "output_type": "execute_result"
    }
   ],
   "source": [
    "page_contents"
   ]
  },
  {
   "cell_type": "code",
   "execution_count": 23,
   "metadata": {},
   "outputs": [
    {
     "ename": "TypeError",
     "evalue": "list indices must be integers or slices, not str",
     "output_type": "error",
     "traceback": [
      "\u001b[0;31m---------------------------------------------------------------------------\u001b[0m",
      "\u001b[0;31mTypeError\u001b[0m                                 Traceback (most recent call last)",
      "Cell \u001b[0;32mIn[23], line 2\u001b[0m\n\u001b[1;32m      1\u001b[0m \u001b[38;5;28;01mfor\u001b[39;00m i \u001b[38;5;129;01min\u001b[39;00m \u001b[38;5;28mrange\u001b[39m(\u001b[38;5;28mlen\u001b[39m(dataset)):\n\u001b[0;32m----> 2\u001b[0m     dataset[i][\u001b[38;5;124m'\u001b[39m\u001b[38;5;124mretrieved_context\u001b[39m\u001b[38;5;124m'\u001b[39m] \u001b[38;5;241m=\u001b[39m \u001b[43mstatus_and_body\u001b[49m\u001b[43m[\u001b[49m\u001b[43mi\u001b[49m\u001b[43m]\u001b[49m\u001b[43m[\u001b[49m\u001b[38;5;241;43m1\u001b[39;49m\u001b[43m]\u001b[49m\u001b[43m[\u001b[49m\u001b[38;5;124;43m'\u001b[39;49m\u001b[38;5;124;43msource_documents\u001b[39;49m\u001b[38;5;124;43m'\u001b[39;49m\u001b[43m]\u001b[49m\u001b[43m[\u001b[49m\u001b[38;5;124;43m'\u001b[39;49m\u001b[38;5;124;43mpage_content\u001b[39;49m\u001b[38;5;124;43m'\u001b[39;49m\u001b[43m]\u001b[49m\n",
      "\u001b[0;31mTypeError\u001b[0m: list indices must be integers or slices, not str"
     ]
    }
   ],
   "source": [
    "for i in range(len(dataset)):\n",
    "    dataset[i]['retrieved_context'] = status_and_body[i][1]['source_documents']['page_content']"
   ]
  },
  {
   "cell_type": "code",
   "execution_count": 16,
   "metadata": {},
   "outputs": [
    {
     "data": {
      "text/plain": [
       "{'input': \"Compare the proposed short-term and long-term basic income schemes in Lansley and Reed's report.\",\n",
       " 'actual_output': None,\n",
       " 'expected_output': None,\n",
       " 'context': ['It is in this context of growing hardship and insecurity that this report by Stewart Lansley and Howard Reed is so important. It takes forward the debate about basic in- come by modelling both a shorter and longer-term scheme. The shorter-term scheme (model 1) provides for a partial basic income (PBI) designed to be implemented in a single parliament. I hope it will be taken seriously by the Labour Party and others. Rath- er than a limited pilot scheme, which is difficult in the context of a (rightly) centralised — 7 —\\n\\nBasic Income for All: From Desirability to Feasibility'],\n",
       " 'retrieved_context': [{'page_content': 'It is in this context of growing hardship and insecurity that this report by Stewart Lansley and Howard Reed is so important. It takes forward the debate about basic in- come by modelling both a shorter and longer-term scheme. The shorter-term scheme (model 1) provides for a partial basic income (PBI) designed to be implemented in a single parliament. I hope it will be taken seriously by the Labour Party and others. Rath- er than a limited pilot scheme, which is difficult in the context of a (rightly) centralised — 7 —\\n\\nBasic Income for All: From Desirability to Feasibility',\n",
       "   'file_uuid': '7b550232-35c4-48fd-8d7a-ba364c1378c4',\n",
       "   'page_numbers': None},\n",
       "  {'page_content': 'initial basic income funded through the existing tax/benefit system – and a longer term step, with a citizens’ fund building over time to finance a more generous scheme. The combined ap- proach could be implemented well within a single generation. This approach provides a baseline income, and thus a bedrock of security in an increasingly insecure world that boosts personal freedom and extends choices about work, education, enterprise, caring and community involvement. deal with all the fault lines of today’s economic and social system. It could not be implemented without a much fuller public debate about the options, which involve a significant transformation in the nature of social protection, the character of the tax–benefit system, and the pattern of winners and\\n\\n— 31 —\\n\\nBasic Income for All: From Desirability to Feasibility\\n\\nlosers. Such a debate is long overdue. It is over 75 years since Beveridge and there are few other coherent proposals for reform. any reform of the current system of social security that reduces the risk of poverty – that is its role – would cost more and would involve losers. It is not possible to design a reform of the current system that is feasible, costless and in which everyone wins. This would apply equally to other reforms of social security aimed at reducing poverty levels. to tackle the great blight of poverty, and the excessive means testing and conditionality of the present system. The plan outlined, one grafted onto the existing system leaving it mostly intact, involves a modest increase in taxa- tion, but lowers the risk of poverty, reduces inequality, boosts the universal element of income support, reduces dependency on means testing, greatly reduces sanctioning, and builds a guaranteed income floor. These are sub- stantial gains. Most of the separate elements that make up a basic income have merit in their own right. Converting the personal tax allowance into a cash payment would be highly progressive. A boost to child benefit, the introduction of a weekly cash payment for young people under 25, the partial correction of the gender bias in the existing system and the income floor would all be important individual measures in any reconstituted anti-poverty programme. They would surely find support among progressive critics. Indeed there is a quite separate case for implementing some of the key individual elements that make up a basic income.',\n",
       "   'file_uuid': '7b550232-35c4-48fd-8d7a-ba364c1378c4',\n",
       "   'page_numbers': None},\n",
       "  {'page_content': '— 16 —\\n\\nBasic Income for All: From Desirability to Feasibility\\n\\nTable 2 outlines the key elements of Model 1. The model could be implemented within the lifetime of a single parliament in one go, phased in possibly over a longer period, or introduced at lower initial rates (see ‘Phasing’, below).\\n\\nTable 2: Elements of a starter rate partial basic income, Model 1 • adult aged 18–64: £60 Weekly payment levels (tax free) • child aged 0–17: £40 • adults 65+: £175 • The first £25 per week of basic income is disregarded for means- testing purposes – so even those receiving means-tested benefits get an income boost. The payment above this disregard is counted as income for the calculation of other benefits. The effect of the disregard is to raise lower net incomes by more than without it, but would lead to less of a reduction (and financial saving) from means- tested benefits. If the whole, or part of the payment was counted as income for means-tested benefits, the net cost would fall and the income gains at the bottom would be lower. Changes to existing benefit system • Child benefit and existing state pension are abolished. • The existing state pension of £164.35 per week is converted into an unconditional flat rate ‘citizens’ pension’ of £175 per week. • Current national insurance contributions (NICs) and the new pen- sion scheme are abolished; eligibility for the state pension would thus become automatic for citizens above the state pension age, rather than conditional on an adequate contributions record as at present, thus raising the income of those with incomplete contribu- tion records, mostly women, and the group most vulnerable to pensioner poverty. • Income tax personal allowance is abolished. • Current higher rate threshold is adjusted upwards so it takes effect at the same existing level of gross income. • A new income tax rate of 15p is introduced for the first £11,850 of taxable income. This is to minimise the number of low income losers. Changes to tax system • Existing income tax rates are raised by 3p taking them in England, Wales and Northern Ireland to 23p, 43p and 48p. • The employee NICs primary threshold is abolished (so NICs are payable on all earnings) and the rate of employee NICs is set at 12% for the whole range of earnings (increasing NICs from 2% to 12% above the upper earnings limit). NICs for the self-employed are also equalised with employees at 12% (currently 9%) as Jobseekers’ Allowance is less important in this system because of the increased working-age basic income rate. • A citizens’ wealth fund is established; this will build over time Creation of Citizens’ wealth fund and start paying out in year 20 under the illustrative Model 2. See Chapter 3. Implementation • The scheme could be implemented in one go or phased in over time in steps. system. First, there is a guaranteed set of payments aimed at providing an income floor. Secondly, a series of tax adjustments raises the additional income needed to pay for the weekly basic income while making the tax system more progressive. The tax changes involve the abolition of the personal allowance, a new tax rate at the bottom end of the income band of 15p, a rise in existing tax rates of 3p in the pound, and a change in the current system of NICs. The 3p rise in the tax rate ensures',\n",
       "   'file_uuid': '7b550232-35c4-48fd-8d7a-ba364c1378c4',\n",
       "   'page_numbers': None},\n",
       "  {'page_content': 'The analysis has been commissioned by Compass. It has been funded by the Friends Provident Foundation and uses the Landman Economics tax–benefit model (see Appendix A). It develops the partial model set out in the first 2016 Compass Report: Universal Basic Income: an idea whose time has come.12\\n\\nTWO MODELS\\n\\nWe examine two complementary steps to establishing a basic income system. Model 1, the fast track route Under this model the government would pay £60 per week to adults aged 18–64, £40 per week to mothers for each of their children (aged 0–17), and £175 to adults aged 65+. Eligibility would be based on residency. Child benefit and the state pension would be abolished, but other parts of the existing social security system, including means- tested benefits, would be retained. These sums would be guaranteed, with no ques- tions asked, irrespective of work status. This model would involve a number of integrated changes to the tax and benefit system. Each of these elements could either be phased in gradually over time, or be implemented in full at one go. It could therefore be implemented during the lifetime of a single parliament. The model would have a net cost of £28bn, roughly the equivalent of the total of the cuts to benefits since 2010. It would therefore take us back to the level of spending on social security in 2010, but with a much more progressive system in place.',\n",
       "   'file_uuid': '7b550232-35c4-48fd-8d7a-ba364c1378c4',\n",
       "   'page_numbers': None}]}"
      ]
     },
     "execution_count": 16,
     "metadata": {},
     "output_type": "execute_result"
    }
   ],
   "source": [
    "for i in range(len(dataset)):\n",
    "    dataset[i]['retrieved_context'] = status_and_body[i][1]['source_documents']"
   ]
  },
  {
   "cell_type": "code",
   "execution_count": 17,
   "metadata": {},
   "outputs": [],
   "source": [
    "for i in range(len(dataset)):\n",
    "    dataset[i]['actual_output'] = status_and_body[i][1]['output_text']"
   ]
  },
  {
   "cell_type": "code",
   "execution_count": 18,
   "metadata": {},
   "outputs": [
    {
     "data": {
      "text/plain": [
       "{'input': \"Compare the proposed short-term and long-term basic income schemes in Lansley and Reed's report.\",\n",
       " 'actual_output': \"The proposed short-term basic income scheme in the Lansley and Reed report involves paying £60 per week to adults aged 18-64, £40 per week to mothers for each child aged 0-17, and £175 per week to adults aged 65 and above with residency eligibility. It would abolish child benefit and the state pension but retain other parts of the existing social security system, including means-tested benefits. The net cost is estimated to be £28bn. The long-term scheme involves building a citizens' fund over time to finance a more generous scheme that provides a baseline income and boosts personal freedom. Both schemes aim to reduce poverty and promote social security reform.\\n\\n**Short-term Basic Income Scheme (Model 1):**\\n- Weekly payments: £60 for adults 18-64, £40 for children 0-17, £175 for adults 65+\\n- Abolishes child benefit and state pension\\n- Costs estimated at £28bn\\n- Implementation could be phased or done in one go\\n\\n**Long-term Citizens' Fund Scheme:**\\n- Builds over time to finance a more generous basic income scheme\\n- Aims to boost personal freedom and reduce poverty\\n\\nSources: <Doc7b550232-35c4-48fd-8d\",\n",
       " 'expected_output': None,\n",
       " 'context': ['It is in this context of growing hardship and insecurity that this report by Stewart Lansley and Howard Reed is so important. It takes forward the debate about basic in- come by modelling both a shorter and longer-term scheme. The shorter-term scheme (model 1) provides for a partial basic income (PBI) designed to be implemented in a single parliament. I hope it will be taken seriously by the Labour Party and others. Rath- er than a limited pilot scheme, which is difficult in the context of a (rightly) centralised — 7 —\\n\\nBasic Income for All: From Desirability to Feasibility'],\n",
       " 'retrieved_context': [{'page_content': 'It is in this context of growing hardship and insecurity that this report by Stewart Lansley and Howard Reed is so important. It takes forward the debate about basic in- come by modelling both a shorter and longer-term scheme. The shorter-term scheme (model 1) provides for a partial basic income (PBI) designed to be implemented in a single parliament. I hope it will be taken seriously by the Labour Party and others. Rath- er than a limited pilot scheme, which is difficult in the context of a (rightly) centralised — 7 —\\n\\nBasic Income for All: From Desirability to Feasibility',\n",
       "   'file_uuid': '7b550232-35c4-48fd-8d7a-ba364c1378c4',\n",
       "   'page_numbers': None},\n",
       "  {'page_content': 'initial basic income funded through the existing tax/benefit system – and a longer term step, with a citizens’ fund building over time to finance a more generous scheme. The combined ap- proach could be implemented well within a single generation. This approach provides a baseline income, and thus a bedrock of security in an increasingly insecure world that boosts personal freedom and extends choices about work, education, enterprise, caring and community involvement. deal with all the fault lines of today’s economic and social system. It could not be implemented without a much fuller public debate about the options, which involve a significant transformation in the nature of social protection, the character of the tax–benefit system, and the pattern of winners and\\n\\n— 31 —\\n\\nBasic Income for All: From Desirability to Feasibility\\n\\nlosers. Such a debate is long overdue. It is over 75 years since Beveridge and there are few other coherent proposals for reform. any reform of the current system of social security that reduces the risk of poverty – that is its role – would cost more and would involve losers. It is not possible to design a reform of the current system that is feasible, costless and in which everyone wins. This would apply equally to other reforms of social security aimed at reducing poverty levels. to tackle the great blight of poverty, and the excessive means testing and conditionality of the present system. The plan outlined, one grafted onto the existing system leaving it mostly intact, involves a modest increase in taxa- tion, but lowers the risk of poverty, reduces inequality, boosts the universal element of income support, reduces dependency on means testing, greatly reduces sanctioning, and builds a guaranteed income floor. These are sub- stantial gains. Most of the separate elements that make up a basic income have merit in their own right. Converting the personal tax allowance into a cash payment would be highly progressive. A boost to child benefit, the introduction of a weekly cash payment for young people under 25, the partial correction of the gender bias in the existing system and the income floor would all be important individual measures in any reconstituted anti-poverty programme. They would surely find support among progressive critics. Indeed there is a quite separate case for implementing some of the key individual elements that make up a basic income.',\n",
       "   'file_uuid': '7b550232-35c4-48fd-8d7a-ba364c1378c4',\n",
       "   'page_numbers': None},\n",
       "  {'page_content': '— 16 —\\n\\nBasic Income for All: From Desirability to Feasibility\\n\\nTable 2 outlines the key elements of Model 1. The model could be implemented within the lifetime of a single parliament in one go, phased in possibly over a longer period, or introduced at lower initial rates (see ‘Phasing’, below).\\n\\nTable 2: Elements of a starter rate partial basic income, Model 1 • adult aged 18–64: £60 Weekly payment levels (tax free) • child aged 0–17: £40 • adults 65+: £175 • The first £25 per week of basic income is disregarded for means- testing purposes – so even those receiving means-tested benefits get an income boost. The payment above this disregard is counted as income for the calculation of other benefits. The effect of the disregard is to raise lower net incomes by more than without it, but would lead to less of a reduction (and financial saving) from means- tested benefits. If the whole, or part of the payment was counted as income for means-tested benefits, the net cost would fall and the income gains at the bottom would be lower. Changes to existing benefit system • Child benefit and existing state pension are abolished. • The existing state pension of £164.35 per week is converted into an unconditional flat rate ‘citizens’ pension’ of £175 per week. • Current national insurance contributions (NICs) and the new pen- sion scheme are abolished; eligibility for the state pension would thus become automatic for citizens above the state pension age, rather than conditional on an adequate contributions record as at present, thus raising the income of those with incomplete contribu- tion records, mostly women, and the group most vulnerable to pensioner poverty. • Income tax personal allowance is abolished. • Current higher rate threshold is adjusted upwards so it takes effect at the same existing level of gross income. • A new income tax rate of 15p is introduced for the first £11,850 of taxable income. This is to minimise the number of low income losers. Changes to tax system • Existing income tax rates are raised by 3p taking them in England, Wales and Northern Ireland to 23p, 43p and 48p. • The employee NICs primary threshold is abolished (so NICs are payable on all earnings) and the rate of employee NICs is set at 12% for the whole range of earnings (increasing NICs from 2% to 12% above the upper earnings limit). NICs for the self-employed are also equalised with employees at 12% (currently 9%) as Jobseekers’ Allowance is less important in this system because of the increased working-age basic income rate. • A citizens’ wealth fund is established; this will build over time Creation of Citizens’ wealth fund and start paying out in year 20 under the illustrative Model 2. See Chapter 3. Implementation • The scheme could be implemented in one go or phased in over time in steps. system. First, there is a guaranteed set of payments aimed at providing an income floor. Secondly, a series of tax adjustments raises the additional income needed to pay for the weekly basic income while making the tax system more progressive. The tax changes involve the abolition of the personal allowance, a new tax rate at the bottom end of the income band of 15p, a rise in existing tax rates of 3p in the pound, and a change in the current system of NICs. The 3p rise in the tax rate ensures',\n",
       "   'file_uuid': '7b550232-35c4-48fd-8d7a-ba364c1378c4',\n",
       "   'page_numbers': None},\n",
       "  {'page_content': 'The analysis has been commissioned by Compass. It has been funded by the Friends Provident Foundation and uses the Landman Economics tax–benefit model (see Appendix A). It develops the partial model set out in the first 2016 Compass Report: Universal Basic Income: an idea whose time has come.12\\n\\nTWO MODELS\\n\\nWe examine two complementary steps to establishing a basic income system. Model 1, the fast track route Under this model the government would pay £60 per week to adults aged 18–64, £40 per week to mothers for each of their children (aged 0–17), and £175 to adults aged 65+. Eligibility would be based on residency. Child benefit and the state pension would be abolished, but other parts of the existing social security system, including means- tested benefits, would be retained. These sums would be guaranteed, with no ques- tions asked, irrespective of work status. This model would involve a number of integrated changes to the tax and benefit system. Each of these elements could either be phased in gradually over time, or be implemented in full at one go. It could therefore be implemented during the lifetime of a single parliament. The model would have a net cost of £28bn, roughly the equivalent of the total of the cuts to benefits since 2010. It would therefore take us back to the level of spending on social security in 2010, but with a much more progressive system in place.',\n",
       "   'file_uuid': '7b550232-35c4-48fd-8d7a-ba364c1378c4',\n",
       "   'page_numbers': None}]}"
      ]
     },
     "execution_count": 18,
     "metadata": {},
     "output_type": "execute_result"
    }
   ],
   "source": [
    "dataset[0]"
   ]
  },
  {
   "cell_type": "markdown",
   "metadata": {},
   "source": [
    "## Evaluating Retrieval <a class=\"anchor\" id=\"first-section\"></a>"
   ]
  },
  {
   "cell_type": "markdown",
   "metadata": {},
   "source": [
    "Which context should we to use (the one used for generating sythetic data or the returned context from Redbox /chat/rag) --> You should use the context returned by your RAG application!"
   ]
  },
  {
   "cell_type": "code",
   "execution_count": 20,
   "metadata": {},
   "outputs": [
    {
     "name": "stderr",
     "output_type": "stream",
     "text": [
      "/Users/andy/.pyenv/versions/3.11.8/envs/eval/lib/python3.11/site-packages/deepeval/__init__.py:42: UserWarning: You are using deepeval version 0.21.36, however version 0.21.37 is available. You should consider upgrading via the \"pip install --upgrade deepeval\" command.\n",
      "  warnings.warn(\n"
     ]
    }
   ],
   "source": [
    "from deepeval.metrics import (\n",
    "    ContextualPrecisionMetric,\n",
    "    ContextualRecallMetric,\n",
    "    ContextualRelevancyMetric\n",
    ")\n",
    "\n",
    "contextual_precision = ContextualPrecisionMetric()\n",
    "contextual_recall = ContextualRecallMetric()\n",
    "contextual_relevancy = ContextualRelevancyMetric()"
   ]
  },
  {
   "cell_type": "markdown",
   "metadata": {},
   "source": [
    "Then, define a test case. Note that deepeval gives you the flexibility to either begin evaluating with complete datasets, or perform the retrieval and generation at evaluation time.\n",
    "\n"
   ]
  },
  {
   "cell_type": "code",
   "execution_count": 30,
   "metadata": {},
   "outputs": [],
   "source": [
    "from deepeval.test_case import LLMTestCase\n",
    "...\n",
    "\n",
    "test_case = LLMTestCase(\n",
    "    input=dataset[0]['input'],\n",
    "    actual_output=dataset[0]['actual_output'],\n",
    "    #TODO: need expected output\n",
    "    retrieval_context=page_contents # Needs to be None or a list of strings\n",
    ")"
   ]
  },
  {
   "cell_type": "code",
   "execution_count": 34,
   "metadata": {},
   "outputs": [
    {
     "data": {
      "application/vnd.jupyter.widget-view+json": {
       "model_id": "66d5aa0d64a04dd8b1f3a333f1482b86",
       "version_major": 2,
       "version_minor": 0
      },
      "text/plain": [
       "Output()"
      ]
     },
     "metadata": {},
     "output_type": "display_data"
    },
    {
     "name": "stdout",
     "output_type": "stream",
     "text": [
      "Evaluating test cases...\n",
      "Event loop is already running. Applying nest_asyncio patch to allow async execution...\n"
     ]
    },
    {
     "data": {
      "text/html": [
       "<pre style=\"white-space:pre;overflow-x:auto;line-height:normal;font-family:Menlo,'DejaVu Sans Mono',consolas,'Courier New',monospace\"></pre>\n"
      ],
      "text/plain": []
     },
     "metadata": {},
     "output_type": "display_data"
    },
    {
     "data": {
      "text/html": [
       "<pre style=\"white-space:pre;overflow-x:auto;line-height:normal;font-family:Menlo,'DejaVu Sans Mono',consolas,'Courier New',monospace\">\n",
       "</pre>\n"
      ],
      "text/plain": [
       "\n"
      ]
     },
     "metadata": {},
     "output_type": "display_data"
    },
    {
     "name": "stdout",
     "output_type": "stream",
     "text": [
      "\n",
      "======================================================================\n",
      "\n",
      "Metrics Summary\n",
      "\n",
      "  - ✅ Contextual Relevancy (score: 1.0, threshold: 0.5, strict: False, evaluation model: gpt-4-turbo, reason: The score is 1.00 because the retrieval context perfectly aligns with the input, focusing exactly on comparing short-term and long-term basic income schemes as requested., error: None)\n",
      "\n",
      "For test case:\n",
      "\n",
      "  - input: Compare the proposed short-term and long-term basic income schemes in Lansley and Reed's report.\n",
      "  - actual output: The proposed short-term basic income scheme in the Lansley and Reed report involves paying £60 per week to adults aged 18-64, £40 per week to mothers for each child aged 0-17, and £175 per week to adults aged 65 and above with residency eligibility. It would abolish child benefit and the state pension but retain other parts of the existing social security system, including means-tested benefits. The net cost is estimated to be £28bn. The long-term scheme involves building a citizens' fund over time to finance a more generous scheme that provides a baseline income and boosts personal freedom. Both schemes aim to reduce poverty and promote social security reform.\n",
      "\n",
      "**Short-term Basic Income Scheme (Model 1):**\n",
      "- Weekly payments: £60 for adults 18-64, £40 for children 0-17, £175 for adults 65+\n",
      "- Abolishes child benefit and state pension\n",
      "- Costs estimated at £28bn\n",
      "- Implementation could be phased or done in one go\n",
      "\n",
      "**Long-term Citizens' Fund Scheme:**\n",
      "- Builds over time to finance a more generous basic income scheme\n",
      "- Aims to boost personal freedom and reduce poverty\n",
      "\n",
      "Sources: <Doc7b550232-35c4-48fd-8d\n",
      "  - expected output: None\n",
      "  - context: None\n",
      "  - retrieval context: ['It is in this context of growing hardship and insecurity that this report by Stewart Lansley and Howard Reed is so important. It takes forward the debate about basic in- come by modelling both a shorter and longer-term scheme. The shorter-term scheme (model 1) provides for a partial basic income (PBI) designed to be implemented in a single parliament. I hope it will be taken seriously by the Labour Party and others. Rath- er than a limited pilot scheme, which is difficult in the context of a (rightly) centralised — 7 —\\n\\nBasic Income for All: From Desirability to Feasibility', 'initial basic income funded through the existing tax/benefit system – and a longer term step, with a citizens’ fund building over time to finance a more generous scheme. The combined ap- proach could be implemented well within a single generation. This approach provides a baseline income, and thus a bedrock of security in an increasingly insecure world that boosts personal freedom and extends choices about work, education, enterprise, caring and community involvement. deal with all the fault lines of today’s economic and social system. It could not be implemented without a much fuller public debate about the options, which involve a significant transformation in the nature of social protection, the character of the tax–benefit system, and the pattern of winners and\\n\\n— 31 —\\n\\nBasic Income for All: From Desirability to Feasibility\\n\\nlosers. Such a debate is long overdue. It is over 75 years since Beveridge and there are few other coherent proposals for reform. any reform of the current system of social security that reduces the risk of poverty – that is its role – would cost more and would involve losers. It is not possible to design a reform of the current system that is feasible, costless and in which everyone wins. This would apply equally to other reforms of social security aimed at reducing poverty levels. to tackle the great blight of poverty, and the excessive means testing and conditionality of the present system. The plan outlined, one grafted onto the existing system leaving it mostly intact, involves a modest increase in taxa- tion, but lowers the risk of poverty, reduces inequality, boosts the universal element of income support, reduces dependency on means testing, greatly reduces sanctioning, and builds a guaranteed income floor. These are sub- stantial gains. Most of the separate elements that make up a basic income have merit in their own right. Converting the personal tax allowance into a cash payment would be highly progressive. A boost to child benefit, the introduction of a weekly cash payment for young people under 25, the partial correction of the gender bias in the existing system and the income floor would all be important individual measures in any reconstituted anti-poverty programme. They would surely find support among progressive critics. Indeed there is a quite separate case for implementing some of the key individual elements that make up a basic income.', '— 16 —\\n\\nBasic Income for All: From Desirability to Feasibility\\n\\nTable 2 outlines the key elements of Model 1. The model could be implemented within the lifetime of a single parliament in one go, phased in possibly over a longer period, or introduced at lower initial rates (see ‘Phasing’, below).\\n\\nTable 2: Elements of a starter rate partial basic income, Model 1 • adult aged 18–64: £60 Weekly payment levels (tax free) • child aged 0–17: £40 • adults 65+: £175 • The first £25 per week of basic income is disregarded for means- testing purposes – so even those receiving means-tested benefits get an income boost. The payment above this disregard is counted as income for the calculation of other benefits. The effect of the disregard is to raise lower net incomes by more than without it, but would lead to less of a reduction (and financial saving) from means- tested benefits. If the whole, or part of the payment was counted as income for means-tested benefits, the net cost would fall and the income gains at the bottom would be lower. Changes to existing benefit system • Child benefit and existing state pension are abolished. • The existing state pension of £164.35 per week is converted into an unconditional flat rate ‘citizens’ pension’ of £175 per week. • Current national insurance contributions (NICs) and the new pen- sion scheme are abolished; eligibility for the state pension would thus become automatic for citizens above the state pension age, rather than conditional on an adequate contributions record as at present, thus raising the income of those with incomplete contribu- tion records, mostly women, and the group most vulnerable to pensioner poverty. • Income tax personal allowance is abolished. • Current higher rate threshold is adjusted upwards so it takes effect at the same existing level of gross income. • A new income tax rate of 15p is introduced for the first £11,850 of taxable income. This is to minimise the number of low income losers. Changes to tax system • Existing income tax rates are raised by 3p taking them in England, Wales and Northern Ireland to 23p, 43p and 48p. • The employee NICs primary threshold is abolished (so NICs are payable on all earnings) and the rate of employee NICs is set at 12% for the whole range of earnings (increasing NICs from 2% to 12% above the upper earnings limit). NICs for the self-employed are also equalised with employees at 12% (currently 9%) as Jobseekers’ Allowance is less important in this system because of the increased working-age basic income rate. • A citizens’ wealth fund is established; this will build over time Creation of Citizens’ wealth fund and start paying out in year 20 under the illustrative Model 2. See Chapter 3. Implementation • The scheme could be implemented in one go or phased in over time in steps. system. First, there is a guaranteed set of payments aimed at providing an income floor. Secondly, a series of tax adjustments raises the additional income needed to pay for the weekly basic income while making the tax system more progressive. The tax changes involve the abolition of the personal allowance, a new tax rate at the bottom end of the income band of 15p, a rise in existing tax rates of 3p in the pound, and a change in the current system of NICs. The 3p rise in the tax rate ensures', 'The analysis has been commissioned by Compass. It has been funded by the Friends Provident Foundation and uses the Landman Economics tax–benefit model (see Appendix A). It develops the partial model set out in the first 2016 Compass Report: Universal Basic Income: an idea whose time has come.12\\n\\nTWO MODELS\\n\\nWe examine two complementary steps to establishing a basic income system. Model 1, the fast track route Under this model the government would pay £60 per week to adults aged 18–64, £40 per week to mothers for each of their children (aged 0–17), and £175 to adults aged 65+. Eligibility would be based on residency. Child benefit and the state pension would be abolished, but other parts of the existing social security system, including means- tested benefits, would be retained. These sums would be guaranteed, with no ques- tions asked, irrespective of work status. This model would involve a number of integrated changes to the tax and benefit system. Each of these elements could either be phased in gradually over time, or be implemented in full at one go. It could therefore be implemented during the lifetime of a single parliament. The model would have a net cost of £28bn, roughly the equivalent of the total of the cuts to benefits since 2010. It would therefore take us back to the level of spending on social security in 2010, but with a much more progressive system in place.']\n",
      "\n",
      "----------------------------------------------------------------------\n"
     ]
    },
    {
     "name": "stderr",
     "output_type": "stream",
     "text": [
      "/Users/andy/.pyenv/versions/3.11.8/envs/eval/lib/python3.11/site-packages/portalocker/utils.py:218: UserWarning: timeout has no effect in blocking mode\n",
      "  warnings.warn(\n"
     ]
    },
    {
     "data": {
      "text/html": [
       "<pre style=\"white-space:pre;overflow-x:auto;line-height:normal;font-family:Menlo,'DejaVu Sans Mono',consolas,'Courier New',monospace\">✅ Tests finished! Run <span style=\"color: #008000; text-decoration-color: #008000\">\"deepeval login\"</span> to view evaluation results on the web.\n",
       "</pre>\n"
      ],
      "text/plain": [
       "✅ Tests finished! Run \u001b[32m\"deepeval login\"\u001b[0m to view evaluation results on the web.\n"
      ]
     },
     "metadata": {},
     "output_type": "display_data"
    },
    {
     "data": {
      "text/plain": [
       "[TestResult(success=True, metrics=[<deepeval.metrics.contextual_relevancy.contextual_relevancy.ContextualRelevancyMetric object at 0x12c8bc2d0>], input=\"Compare the proposed short-term and long-term basic income schemes in Lansley and Reed's report.\", actual_output=\"The proposed short-term basic income scheme in the Lansley and Reed report involves paying £60 per week to adults aged 18-64, £40 per week to mothers for each child aged 0-17, and £175 per week to adults aged 65 and above with residency eligibility. It would abolish child benefit and the state pension but retain other parts of the existing social security system, including means-tested benefits. The net cost is estimated to be £28bn. The long-term scheme involves building a citizens' fund over time to finance a more generous scheme that provides a baseline income and boosts personal freedom. Both schemes aim to reduce poverty and promote social security reform.\\n\\n**Short-term Basic Income Scheme (Model 1):**\\n- Weekly payments: £60 for adults 18-64, £40 for children 0-17, £175 for adults 65+\\n- Abolishes child benefit and state pension\\n- Costs estimated at £28bn\\n- Implementation could be phased or done in one go\\n\\n**Long-term Citizens' Fund Scheme:**\\n- Builds over time to finance a more generous basic income scheme\\n- Aims to boost personal freedom and reduce poverty\\n\\nSources: <Doc7b550232-35c4-48fd-8d\", expected_output=None, context=None, retrieval_context=['It is in this context of growing hardship and insecurity that this report by Stewart Lansley and Howard Reed is so important. It takes forward the debate about basic in- come by modelling both a shorter and longer-term scheme. The shorter-term scheme (model 1) provides for a partial basic income (PBI) designed to be implemented in a single parliament. I hope it will be taken seriously by the Labour Party and others. Rath- er than a limited pilot scheme, which is difficult in the context of a (rightly) centralised — 7 —\\n\\nBasic Income for All: From Desirability to Feasibility', 'initial basic income funded through the existing tax/benefit system – and a longer term step, with a citizens’ fund building over time to finance a more generous scheme. The combined ap- proach could be implemented well within a single generation. This approach provides a baseline income, and thus a bedrock of security in an increasingly insecure world that boosts personal freedom and extends choices about work, education, enterprise, caring and community involvement. deal with all the fault lines of today’s economic and social system. It could not be implemented without a much fuller public debate about the options, which involve a significant transformation in the nature of social protection, the character of the tax–benefit system, and the pattern of winners and\\n\\n— 31 —\\n\\nBasic Income for All: From Desirability to Feasibility\\n\\nlosers. Such a debate is long overdue. It is over 75 years since Beveridge and there are few other coherent proposals for reform. any reform of the current system of social security that reduces the risk of poverty – that is its role – would cost more and would involve losers. It is not possible to design a reform of the current system that is feasible, costless and in which everyone wins. This would apply equally to other reforms of social security aimed at reducing poverty levels. to tackle the great blight of poverty, and the excessive means testing and conditionality of the present system. The plan outlined, one grafted onto the existing system leaving it mostly intact, involves a modest increase in taxa- tion, but lowers the risk of poverty, reduces inequality, boosts the universal element of income support, reduces dependency on means testing, greatly reduces sanctioning, and builds a guaranteed income floor. These are sub- stantial gains. Most of the separate elements that make up a basic income have merit in their own right. Converting the personal tax allowance into a cash payment would be highly progressive. A boost to child benefit, the introduction of a weekly cash payment for young people under 25, the partial correction of the gender bias in the existing system and the income floor would all be important individual measures in any reconstituted anti-poverty programme. They would surely find support among progressive critics. Indeed there is a quite separate case for implementing some of the key individual elements that make up a basic income.', '— 16 —\\n\\nBasic Income for All: From Desirability to Feasibility\\n\\nTable 2 outlines the key elements of Model 1. The model could be implemented within the lifetime of a single parliament in one go, phased in possibly over a longer period, or introduced at lower initial rates (see ‘Phasing’, below).\\n\\nTable 2: Elements of a starter rate partial basic income, Model 1 • adult aged 18–64: £60 Weekly payment levels (tax free) • child aged 0–17: £40 • adults 65+: £175 • The first £25 per week of basic income is disregarded for means- testing purposes – so even those receiving means-tested benefits get an income boost. The payment above this disregard is counted as income for the calculation of other benefits. The effect of the disregard is to raise lower net incomes by more than without it, but would lead to less of a reduction (and financial saving) from means- tested benefits. If the whole, or part of the payment was counted as income for means-tested benefits, the net cost would fall and the income gains at the bottom would be lower. Changes to existing benefit system • Child benefit and existing state pension are abolished. • The existing state pension of £164.35 per week is converted into an unconditional flat rate ‘citizens’ pension’ of £175 per week. • Current national insurance contributions (NICs) and the new pen- sion scheme are abolished; eligibility for the state pension would thus become automatic for citizens above the state pension age, rather than conditional on an adequate contributions record as at present, thus raising the income of those with incomplete contribu- tion records, mostly women, and the group most vulnerable to pensioner poverty. • Income tax personal allowance is abolished. • Current higher rate threshold is adjusted upwards so it takes effect at the same existing level of gross income. • A new income tax rate of 15p is introduced for the first £11,850 of taxable income. This is to minimise the number of low income losers. Changes to tax system • Existing income tax rates are raised by 3p taking them in England, Wales and Northern Ireland to 23p, 43p and 48p. • The employee NICs primary threshold is abolished (so NICs are payable on all earnings) and the rate of employee NICs is set at 12% for the whole range of earnings (increasing NICs from 2% to 12% above the upper earnings limit). NICs for the self-employed are also equalised with employees at 12% (currently 9%) as Jobseekers’ Allowance is less important in this system because of the increased working-age basic income rate. • A citizens’ wealth fund is established; this will build over time Creation of Citizens’ wealth fund and start paying out in year 20 under the illustrative Model 2. See Chapter 3. Implementation • The scheme could be implemented in one go or phased in over time in steps. system. First, there is a guaranteed set of payments aimed at providing an income floor. Secondly, a series of tax adjustments raises the additional income needed to pay for the weekly basic income while making the tax system more progressive. The tax changes involve the abolition of the personal allowance, a new tax rate at the bottom end of the income band of 15p, a rise in existing tax rates of 3p in the pound, and a change in the current system of NICs. The 3p rise in the tax rate ensures', 'The analysis has been commissioned by Compass. It has been funded by the Friends Provident Foundation and uses the Landman Economics tax–benefit model (see Appendix A). It develops the partial model set out in the first 2016 Compass Report: Universal Basic Income: an idea whose time has come.12\\n\\nTWO MODELS\\n\\nWe examine two complementary steps to establishing a basic income system. Model 1, the fast track route Under this model the government would pay £60 per week to adults aged 18–64, £40 per week to mothers for each of their children (aged 0–17), and £175 to adults aged 65+. Eligibility would be based on residency. Child benefit and the state pension would be abolished, but other parts of the existing social security system, including means- tested benefits, would be retained. These sums would be guaranteed, with no ques- tions asked, irrespective of work status. This model would involve a number of integrated changes to the tax and benefit system. Each of these elements could either be phased in gradually over time, or be implemented in full at one go. It could therefore be implemented during the lifetime of a single parliament. The model would have a net cost of £28bn, roughly the equivalent of the total of the cuts to benefits since 2010. It would therefore take us back to the level of spending on social security in 2010, but with a much more progressive system in place.'])]"
      ]
     },
     "execution_count": 34,
     "metadata": {},
     "output_type": "execute_result"
    }
   ],
   "source": [
    "from deepeval import evaluate\n",
    "...\n",
    "\n",
    "evaluate(\n",
    "    test_cases=[test_case],\n",
    "    metrics=[contextual_relevancy]\n",
    "    # metrics=[contextual_precision, contextual_recall, contextual_relevancy]\n",
    ")"
   ]
  },
  {
   "cell_type": "markdown",
   "metadata": {},
   "source": [
    "## Evaluating Generation <a class=\"anchor\" id=\"first-section\"></a>"
   ]
  },
  {
   "cell_type": "markdown",
   "metadata": {},
   "source": [
    "The generation metrics are included in the E2E run below and include RAGASFaithfulnessMetric & RAGASAnswerRelevancyMetric"
   ]
  },
  {
   "cell_type": "markdown",
   "metadata": {},
   "source": [
    "## Run E2E Evaluation Metrics <a class=\"anchor\" id=\"fourth-section\"></a>"
   ]
  },
  {
   "cell_type": "code",
   "execution_count": null,
   "metadata": {},
   "outputs": [],
   "source": [
    "# test_rag.py\n",
    "import pytest\n",
    "from deepeval import assert_test\n",
    "from deepeval.metrics.ragas import (\n",
    "    RAGASContextualPrecisionMetric,\n",
    "    RAGASFaithfulnessMetric,\n",
    "    RAGASContextualRecallMetric,\n",
    "    RAGASAnswerRelevancyMetric,\n",
    ")\n",
    "from deepeval.metrics import BiasMetric\n",
    "from deepeval.test_case import LLMTestCase\n",
    "\n",
    "#######################################\n",
    "# Initialize metrics with thresholds ##\n",
    "#######################################\n",
    "bias = BiasMetric(threshold=0.5)\n",
    "contextual_precision = RAGASContextualPrecisionMetric(threshold=0.5)\n",
    "contextual_recall = RAGASContextualRecallMetric(threshold=0.5)\n",
    "answer_relevancy = RAGASAnswerRelevancyMetric(threshold=0.5)\n",
    "faithfulness = RAGASFaithfulnessMetric(threshold=0.5)\n",
    "\n",
    "#######################################\n",
    "# Specify evaluation metrics to use ###\n",
    "#######################################\n",
    "evaluation_metrics = [\n",
    "  bias,\n",
    "  contextual_precision,\n",
    "  contextual_recall,\n",
    "  answer_relevancy,\n",
    "  faithfulness\n",
    "]\n",
    "\n",
    "#######################################\n",
    "# Specify inputs to test RAG app on ###\n",
    "#######################################\n",
    "input_output_pairs = [\n",
    "  {\n",
    "    \"input\": \"\",\n",
    "    \"expected_output\": \"\", \n",
    "  },\n",
    "  {\n",
    "    \"input\": \"\",\n",
    "    \"expected_output\": \"\", \n",
    "  }\n",
    "]\n",
    "\n",
    "#######################################\n",
    "# Loop through input output pairs #####\n",
    "#######################################\n",
    "@pytest.mark.parametrize(\n",
    "    \"input_output_pair\",\n",
    "    input_output_pairs,\n",
    ")\n",
    "def test_llamaindex(input_output_pair: Dict):\n",
    "    input = input_output_pair.get(\"input\", None)\n",
    "    expected_output = input_output_pair.get(\"expected_output\", None)\n",
    "\n",
    "    # Hypothentical RAG application for demonstration only. \n",
    "    # Replace this with your own RAG implementation.\n",
    "    # The idea is you'll be generating LLM outputs and\n",
    "    # getting the retrieval context at evaluation time for each input\n",
    "    actual_output = rag_application.query(input)\n",
    "    retrieval_context = rag_application.get_retrieval_context()\n",
    "\n",
    "    test_case = LLMTestCase(\n",
    "        input=input,\n",
    "        actual_output=actual_output,\n",
    "        retrieval_context=retrieval_context,\n",
    "        expected_output=expected_output\n",
    "    )\n",
    "    # assert test case\n",
    "    assert_test(test_case, evaluation_metrics)"
   ]
  },
  {
   "cell_type": "markdown",
   "metadata": {},
   "source": [
    "Execute the test file via the CLI:\n",
    "\n"
   ]
  },
  {
   "cell_type": "markdown",
   "metadata": {},
   "source": [
    "`deepeval test run test_rag.py`"
   ]
  },
  {
   "cell_type": "markdown",
   "metadata": {},
   "source": [
    "## Develop Custom Metrics <a class=\"anchor\" id=\"fifth-section\"></a>"
   ]
  },
  {
   "cell_type": "markdown",
   "metadata": {},
   "source": [
    "(For future): Develop custom metrics for the Cabbinet Office domain"
   ]
  },
  {
   "cell_type": "markdown",
   "metadata": {},
   "source": [
    "## How to add to CI-CD pipeline <a class=\"anchor\" id=\"sixth-section\"></a>"
   ]
  },
  {
   "cell_type": "markdown",
   "metadata": {},
   "source": [
    "Just skeleton code for now to get feedback from the team"
   ]
  },
  {
   "cell_type": "markdown",
   "metadata": {},
   "source": [
    "All that is needed is to include the deepeval test run command to your CI/CD environment. Using GitHub Actions as an example, here’s an example of how you can add DeepEval to your GitHub workflows YAML files:"
   ]
  },
  {
   "cell_type": "code",
   "execution_count": 35,
   "metadata": {},
   "outputs": [
    {
     "data": {
      "text/plain": [
       "'\\nname: RAG Deployment Evaluations\\n\\non:\\n\\tpush:\\n  \\njobs:  \\n\\ttest:    \\n  \\truns-on: ubuntu-latest\\n\\t\\tsteps:\\n    \\t# Some extra steps to setup and install dependencies\\n    \\t...\\n      \\n       # Optional Login\\n     \\t- name: Login to Confident\\n        env:\\n          CONFIDENT_API_KEY: ${{ secrets.CONFIDENT_API_KEY }}\\n        run: poetry run deepeval login --confident-api-key \"$CONFIDENT_API_KEY\"\\n        \\n      - name: Run deepeval tests\\n        env:\\n          OPENAI_API_KEY: ${{ secrets.OPENAI_API_KEY }}\\n        run: poetry run deepeval test run test_rag.py\\n'"
      ]
     },
     "execution_count": 35,
     "metadata": {},
     "output_type": "execute_result"
    }
   ],
   "source": [
    "\"\"\"\n",
    "name: RAG Deployment Evaluations\n",
    "\n",
    "on:\n",
    "\tpush:\n",
    "  \n",
    "jobs:  \n",
    "\ttest:    \n",
    "  \truns-on: ubuntu-latest\n",
    "\t\tsteps:\n",
    "    \t# Some extra steps to setup and install dependencies\n",
    "    \t...\n",
    "      \n",
    "       # Optional Login\n",
    "     \t- name: Login to Confident\n",
    "        env:\n",
    "          CONFIDENT_API_KEY: ${{ secrets.CONFIDENT_API_KEY }}\n",
    "        run: poetry run deepeval login --confident-api-key \"$CONFIDENT_API_KEY\"\n",
    "        \n",
    "      - name: Run deepeval tests\n",
    "        env:\n",
    "          OPENAI_API_KEY: ${{ secrets.OPENAI_API_KEY }}\n",
    "        run: poetry run deepeval test run test_rag.py\n",
    "\"\"\""
   ]
  },
  {
   "cell_type": "code",
   "execution_count": null,
   "metadata": {},
   "outputs": [],
   "source": []
  }
 ],
 "metadata": {
  "kernelspec": {
   "display_name": "eval",
   "language": "python",
   "name": "python3"
  },
  "language_info": {
   "codemirror_mode": {
    "name": "ipython",
    "version": 3
   },
   "file_extension": ".py",
   "mimetype": "text/x-python",
   "name": "python",
   "nbconvert_exporter": "python",
   "pygments_lexer": "ipython3",
   "version": "3.11.8"
  }
 },
 "nbformat": 4,
 "nbformat_minor": 2
}
