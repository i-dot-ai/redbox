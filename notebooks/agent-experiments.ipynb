{
 "cells": [
  {
   "cell_type": "code",
   "execution_count": null,
   "metadata": {},
   "outputs": [],
   "source": [
    "%load_ext dotenv\n",
    "\n",
    "%dotenv ../tests/.env.test\n",
    "%dotenv -o ../.env\n"
   ]
  },
  {
   "cell_type": "code",
   "execution_count": 24,
   "metadata": {},
   "outputs": [],
   "source": [
    "from uuid import uuid4\n",
    "import json\n",
    "\n",
    "\n",
    "import redbox\n",
    "from redbox.app import Redbox\n",
    "from redbox.models.chain import RedboxQuery, RedboxState\n"
   ]
  },
  {
   "cell_type": "code",
   "execution_count": null,
   "metadata": {},
   "outputs": [],
   "source": [
    "\n",
    "app = Redbox(debug=True)"
   ]
  },
  {
   "cell_type": "code",
   "execution_count": 26,
   "metadata": {},
   "outputs": [],
   "source": [
    "s = RedboxState(\n",
    "    request=RedboxQuery(\n",
    "        question=\"@gadget on what day was the first moon landing?\",\n",
    "        s3_keys=[],\n",
    "        user_uuid=\"5210311c-df38-430f-8451-df5fa28f0be3\", # Get this from the URL in the admin console while viewing your local superuser\n",
    "        chat_history=[],\n",
    "        permitted_s3_keys=[]\n",
    "    )\n",
    ") \n"
   ]
  },
  {
   "cell_type": "code",
   "execution_count": 27,
   "metadata": {},
   "outputs": [],
   "source": [
    "## To use with Langfuse (see DEVELOPER_SETUP)\n",
    "\n",
    "# Uncomment the below to use the langfuse auto-magic configuration to send traces to local langfuse\n",
    "from langfuse.openai import AsyncAzureOpenAI\n"
   ]
  },
  {
   "cell_type": "code",
   "execution_count": null,
   "metadata": {},
   "outputs": [],
   "source": [
    "\n",
    "response_text = \"\"\n",
    "citations = []\n",
    "activity_log = []\n",
    "async def token_handler(s):\n",
    "    global response_text\n",
    "    response_text += s\n",
    "async def citations_handler(cs):\n",
    "    citations.extend(cs)\n",
    "async def activity_handler(e):\n",
    "    activity_log.append(e)\n",
    "\n",
    "r = await app.run(\n",
    "    input=s,\n",
    "    response_tokens_callback=token_handler,\n",
    "    citations_callback=citations_handler,\n",
    "    activity_event_callback=activity_handler\n",
    ")\n",
    "\n",
    "print(\"*\"*10)\n",
    "print()\n",
    "print(f\"User: {r['request'].question}\")\n",
    "print()\n",
    "print(\"Activity Log:\")\n",
    "for l in activity_log:\n",
    "    print(f\"\\t - {l.message}\")\n",
    "print()\n",
    "print(f\"AI: {response_text}\")\n",
    "print()\n",
    "print(\"Citations: \")\n",
    "for c in citations:\n",
    "    print(c.text_in_answer)\n",
    "    for source in c.sources:\n",
    "        print(f\"[{source.source_type}] {source.source}\")\n",
    "        print(\"\\t\" + source.highlighted_text_in_source)\n"
   ]
  },
  {
   "cell_type": "code",
   "execution_count": null,
   "metadata": {},
   "outputs": [],
   "source": []
  }
 ],
 "metadata": {
  "kernelspec": {
   "display_name": "venv",
   "language": "python",
   "name": "python3"
  },
  "language_info": {
   "codemirror_mode": {
    "name": "ipython",
    "version": 3
   },
   "file_extension": ".py",
   "mimetype": "text/x-python",
   "name": "python",
   "nbconvert_exporter": "python",
   "pygments_lexer": "ipython3",
   "version": "3.12.6"
  }
 },
 "nbformat": 4,
 "nbformat_minor": 2
}
