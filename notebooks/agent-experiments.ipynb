{
 "cells": [
  {
   "cell_type": "code",
   "execution_count": 1,
   "metadata": {},
   "outputs": [],
   "source": [
    "%load_ext dotenv\n",
    "\n",
    "%dotenv ../tests/.env.test\n",
    "%dotenv -o ../.env\n"
   ]
  },
  {
   "cell_type": "code",
   "execution_count": 2,
   "metadata": {},
   "outputs": [],
   "source": [
    "from uuid import uuid4\n",
    "import json\n",
    "\n",
    "\n",
    "import redbox\n",
    "from redbox.app import Redbox\n",
    "from redbox.models.chain import RedboxQuery, RedboxState\n"
   ]
  },
  {
   "cell_type": "code",
   "execution_count": 3,
   "metadata": {},
   "outputs": [
    {
     "name": "stderr",
     "output_type": "stream",
     "text": [
      "INFO:elastic_transport.transport:HEAD http://localhost:9200/_alias/redbox-data-chunk-current [status:200 duration:0.004s]\n",
      "/Users/james.richards/projects/redbox-copilot/redbox-core/venv/lib/python3.12/site-packages/pydantic/_internal/_generate_schema.py:547: UserWarning: typing.NotRequired is not a Python type (it may be an instance of an object), Pydantic will allow any object with no validation since we cannot even enforce that the input is an instance of the given type. To get rid of this error wrap the type with `pydantic.SkipValidation`.\n",
      "  warn(\n",
      "/Users/james.richards/projects/redbox-copilot/redbox-core/venv/lib/python3.12/site-packages/pydantic/_internal/_generate_schema.py:547: UserWarning: typing.NotRequired is not a Python type (it may be an instance of an object), Pydantic will allow any object with no validation since we cannot even enforce that the input is an instance of the given type. To get rid of this error wrap the type with `pydantic.SkipValidation`.\n",
      "  warn(\n",
      "/Users/james.richards/projects/redbox-copilot/redbox-core/venv/lib/python3.12/site-packages/pydantic/_internal/_generate_schema.py:547: UserWarning: typing.NotRequired is not a Python type (it may be an instance of an object), Pydantic will allow any object with no validation since we cannot even enforce that the input is an instance of the given type. To get rid of this error wrap the type with `pydantic.SkipValidation`.\n",
      "  warn(\n",
      "/Users/james.richards/projects/redbox-copilot/redbox-core/venv/lib/python3.12/site-packages/pydantic/_internal/_generate_schema.py:547: UserWarning: typing.NotRequired is not a Python type (it may be an instance of an object), Pydantic will allow any object with no validation since we cannot even enforce that the input is an instance of the given type. To get rid of this error wrap the type with `pydantic.SkipValidation`.\n",
      "  warn(\n"
     ]
    }
   ],
   "source": [
    "\n",
    "app = Redbox(debug=True)"
   ]
  },
  {
   "cell_type": "code",
   "execution_count": 4,
   "metadata": {},
   "outputs": [],
   "source": [
    "s = RedboxState(\n",
    "    request=RedboxQuery(\n",
    "        question=\"@gadget on what day was the first moon landing?\",\n",
    "        s3_keys=[],\n",
    "        user_uuid=\"5210311c-df38-430f-8451-df5fa28f0be3\", # Get this from the URL in the admin console while viewing your local superuser\n",
    "        chat_history=[],\n",
    "        permitted_s3_keys=[]\n",
    "    )\n",
    ") \n"
   ]
  },
  {
   "cell_type": "code",
   "execution_count": 5,
   "metadata": {},
   "outputs": [
    {
     "name": "stderr",
     "output_type": "stream",
     "text": [
      "INFO:elastic_transport.transport:POST http://localhost:9200/redbox-data-chunk-current/_search?scroll=5m [status:200 duration:0.002s]\n",
      "INFO:elastic_transport.transport:DELETE http://localhost:9200/_search/scroll [status:200 duration:0.001s]\n",
      "/Users/james.richards/projects/redbox-copilot/redbox-core/redbox/chains/components.py:31: LangChainBetaWarning: The function `init_chat_model` is in beta. It is actively being worked on, so the API may change.\n",
      "  chat_model = init_chat_model(\n",
      "INFO:httpx:HTTP Request: POST https://oai-i-dot-ai-playground-sweden.openai.azure.com//openai/deployments/gpt-4o/chat/completions?api-version=2024-02-01 \"HTTP/1.1 200 OK\"\n",
      "INFO:redbox.graph.nodes.processes:Invoking tool _search_wikipedia with args {'query': 'first moon landing date'}\n",
      "INFO:httpx:HTTP Request: POST https://oai-i-dot-ai-playground-sweden.openai.azure.com//openai/deployments/gpt-4o/chat/completions?api-version=2024-02-01 \"HTTP/1.1 200 OK\"\n",
      "INFO:httpx:HTTP Request: POST https://oai-i-dot-ai-playground-sweden.openai.azure.com//openai/deployments/gpt-4o/chat/completions?api-version=2024-02-01 \"HTTP/1.1 200 OK\"\n"
     ]
    },
    {
     "name": "stdout",
     "output_type": "stream",
     "text": [
      "**********\n",
      "\n",
      "User: @gadget on what day was the first moon landing?\n",
      "\n",
      "Activity Log:\n",
      "\t - You selected no files\n",
      "\t - Searching Wikipedia for 'first moon landing date'\n",
      "\t - Reading Wikipedia page Apollo_11\n",
      "\n",
      "AI: The first moon landing occurred on July 20, 1969.\n",
      "\n",
      "Citations: \n",
      "The first moon landing occurred on July 20, 1969.\n",
      "[URL] https://en.wikipedia.org/wiki/Apollo_11\n",
      "\tCommander Neil Armstrong and Lunar Module Pilot Buzz Aldrin landed the Apollo Lunar Module Eagle on July 20, 1969, at 20:17 UTC\n"
     ]
    }
   ],
   "source": [
    "\n",
    "response_text = \"\"\n",
    "citations = []\n",
    "activity_log = []\n",
    "async def token_handler(s):\n",
    "    global response_text\n",
    "    response_text += s\n",
    "async def citations_handler(cs):\n",
    "    citations.extend(cs)\n",
    "async def activity_handler(e):\n",
    "    activity_log.append(e)\n",
    "\n",
    "r = await app.run(\n",
    "    input=s,\n",
    "    response_tokens_callback=token_handler,\n",
    "    citations_callback=citations_handler,\n",
    "    activity_event_callback=activity_handler\n",
    ")\n",
    "\n",
    "print(\"*\"*10)\n",
    "print()\n",
    "print(f\"User: {r['request'].question}\")\n",
    "print()\n",
    "print(\"Activity Log:\")\n",
    "for l in activity_log:\n",
    "    print(f\"\\t - {l.message}\")\n",
    "print()\n",
    "print(f\"AI: {response_text}\")\n",
    "print()\n",
    "print(\"Citations: \")\n",
    "for c in citations:\n",
    "    print(c.text_in_answer)\n",
    "    for source in c.sources:\n",
    "        print(f\"[{source.source_type}] {source.source}\")\n",
    "        print(\"\\t\" + source.highlighted_text_in_source)\n"
   ]
  },
  {
   "cell_type": "code",
   "execution_count": null,
   "metadata": {},
   "outputs": [],
   "source": []
  }
 ],
 "metadata": {
  "kernelspec": {
   "display_name": "venv",
   "language": "python",
   "name": "python3"
  },
  "language_info": {
   "codemirror_mode": {
    "name": "ipython",
    "version": 3
   },
   "file_extension": ".py",
   "mimetype": "text/x-python",
   "name": "python",
   "nbconvert_exporter": "python",
   "pygments_lexer": "ipython3",
   "version": "3.12.6"
  }
 },
 "nbformat": 4,
 "nbformat_minor": 2
}
