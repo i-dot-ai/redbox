{
 "cells": [
  {
   "cell_type": "code",
   "execution_count": 1,
   "metadata": {},
   "outputs": [],
   "source": [
    "%load_ext dotenv\n",
    "\n",
    "%dotenv ../tests/.env.test\n",
    "%dotenv -o ../.env\n"
   ]
  },
  {
   "cell_type": "code",
   "execution_count": 2,
   "metadata": {},
   "outputs": [],
   "source": [
    "from uuid import uuid4\n",
    "import json\n",
    "\n",
    "from langchain_core.messages import AIMessage, HumanMessage\n",
    "from langchain_core.documents import Document\n",
    "\n",
    "import redbox\n",
    "from redbox.app import Redbox\n",
    "from redbox.models.chain import RedboxState\n"
   ]
  },
  {
   "cell_type": "code",
   "execution_count": 3,
   "metadata": {},
   "outputs": [],
   "source": [
    "\n",
    "app = Redbox(debug=False)"
   ]
  },
  {
   "cell_type": "code",
   "execution_count": 4,
   "metadata": {},
   "outputs": [],
   "source": [
    "from langfuse.openai import AsyncAzureOpenAI"
   ]
  },
  {
   "cell_type": "code",
   "execution_count": 5,
   "metadata": {},
   "outputs": [],
   "source": [
    "s = RedboxState(\n",
    "    user_uuid=\"5210311c-df38-430f-8451-df5fa28f0be3\", # Get this from the URL in the admin console while viewing your local superuser\n",
    "    messages=[\n",
    "            HumanMessage(\"What is this report?\"),\n",
    "            AIMessage(\"The report is Tony_Blair_Institute__Governing_in_the_Age_of_AI__May_2024\"),\n",
    "            HumanMessage(\"What is it about?\")\n",
    "        ],\n",
    "    documents=[\n",
    "        Document(\"We should create a new AI team in 10 Downing Street\", metadata={\"uri\": \"Tony_Blair_Institute__Governing_in_the_Age_of_AI__May_2024\"})\n",
    "    ]\n",
    ")\n",
    "\n",
    "# s = RedboxState(\n",
    "#     user_uuid=\"5210311c-df38-430f-8451-df5fa28f0be3\", # Get this from the URL in the admin console while viewing your local superuser\n",
    "#     messages=[\n",
    "#             HumanMessage(\"What is the capital of France?\"),\n",
    "#             AIMessage(\"The capital of France is Paris\"),\n",
    "#             HumanMessage(\"How do you say that in French?\")\n",
    "#         ],\n",
    "#     documents=[]\n",
    "# )\n"
   ]
  },
  {
   "cell_type": "code",
   "execution_count": null,
   "metadata": {},
   "outputs": [],
   "source": [
    "\n",
    "response_text = \"\"\n",
    "async def token_handler(s):\n",
    "    global response_text\n",
    "    response_text += s\n",
    "\n",
    "r = app.run_sync(\n",
    "    input=s\n",
    ")\n",
    "\n",
    "# r = await app.run(\n",
    "#     input=s,\n",
    "#     response_tokens_callback=token_handler,\n",
    "# )\n",
    "\n",
    "print(\"*\"*10)\n",
    "print()\n",
    "print(f\"User: {s.messages[-1]}\")\n",
    "print()\n",
    "print(f\"AI: {response_text}\")\n",
    "print()\n"
   ]
  },
  {
   "cell_type": "code",
   "execution_count": null,
   "metadata": {},
   "outputs": [],
   "source": [
    "r.content"
   ]
  },
  {
   "cell_type": "code",
   "execution_count": null,
   "metadata": {},
   "outputs": [],
   "source": []
  }
 ],
 "metadata": {
  "kernelspec": {
   "display_name": "venv",
   "language": "python",
   "name": "python3"
  },
  "language_info": {
   "codemirror_mode": {
    "name": "ipython",
    "version": 3
   },
   "file_extension": ".py",
   "mimetype": "text/x-python",
   "name": "python",
   "nbconvert_exporter": "python",
   "pygments_lexer": "ipython3",
   "version": "3.12.6"
  }
 },
 "nbformat": 4,
 "nbformat_minor": 2
}
