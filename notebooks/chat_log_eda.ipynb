{
 "cells": [
  {
   "cell_type": "markdown",
   "metadata": {},
   "source": [
    "# Chat History Inital EDA (17/07/24)\n",
    "\n",
    "**Intro** \n",
    "\n",
    "* This notebook is exploring the chat history logs for Redbox pulled on 17th July. \n",
    "\n",
    "* Populated columns of this data are 'id', 'created_at', 'modified_at', 'name', 'users', 'id.1', 'created_at.1', 'modified_at.1', 'chat_history', 'text', 'role'.\n",
    "\n",
    "* Aim of this work is to discover how users are using Redbox and find any other features that may be important to log.\n",
    "\n",
    "* **IMPORTANT** - For this to work you must save your chathistory.csv dump in notebooks/evaluation/data/chat_histories\n",
    "\n",
    "**Next Steps** \n",
    "\n",
    "* Want to get the actual Redbox route so we don't have to rely on inferred data\n",
    "\n",
    "* *Real* patterns hard to find due to limited data\n",
    "\n",
    "* Could be interested in how different LLM change user behaviour - would need to store this\n",
    "\n",
    "* Limitations right now are that we can't really tell whether a chat is successful (e.g. User gets intended output from Redbox). Creating a UI and measuring this would mean we could identify differences in user behaviour that lead to useful/unuseful outputs.\n",
    "\n",
    "* For RAG use, I'd be interested to see what documents work well or not. Maybe we don't want to store the whole document but maybe the size, type etc. Pairing this with a success variable could lead to interesting insights. "
   ]
  },
  {
   "cell_type": "code",
   "execution_count": null,
   "metadata": {},
   "outputs": [],
   "source": [
    "import pandas as pd"
   ]
  },
  {
   "cell_type": "code",
   "execution_count": null,
   "metadata": {},
   "outputs": [],
   "source": [
    "chathistory_df = pd.read_csv('evaluation/data/chat_histories/chathistory.csv')"
   ]
  },
  {
   "cell_type": "code",
   "execution_count": null,
   "metadata": {},
   "outputs": [],
   "source": [
    "chathistory_df.columns"
   ]
  },
  {
   "cell_type": "code",
   "execution_count": null,
   "metadata": {},
   "outputs": [],
   "source": [
    "chathistory_df.info()"
   ]
  },
  {
   "cell_type": "code",
   "execution_count": null,
   "metadata": {},
   "outputs": [],
   "source": [
    "chathistory_df.head()"
   ]
  },
  {
   "cell_type": "code",
   "execution_count": null,
   "metadata": {},
   "outputs": [],
   "source": [
    "chathistory_df['role'].value_counts()"
   ]
  },
  {
   "cell_type": "code",
   "execution_count": null,
   "metadata": {},
   "outputs": [],
   "source": [
    "# Ensuring date columns are stored as datetimes\n",
    "date_cols = ['created_at', 'modified_at','created_at.1', 'modified_at.1']\n",
    "for i in date_cols:\n",
    "       chathistory_df[i] = pd.to_datetime(chathistory_df[i])\n",
    "chathistory_df.info()"
   ]
  },
  {
   "cell_type": "markdown",
   "metadata": {},
   "source": [
    "## Top users (inc. over time)"
   ]
  },
  {
   "cell_type": "code",
   "execution_count": null,
   "metadata": {},
   "outputs": [],
   "source": [
    "# Pulling out user input rows only\n",
    "# Identifying top users of redbox\n",
    "user_inputs_df = chathistory_df[(chathistory_df['role']=='user')]\n",
    "user_inputs_df['users'].value_counts()"
   ]
  },
  {
   "cell_type": "code",
   "execution_count": null,
   "metadata": {},
   "outputs": [],
   "source": [
    "# How has total redbox usage changed overtime\n",
    "user_inputs_df.groupby(chathistory_df['modified_at'].rename('Days').dt.day).size().plot(ylabel='No. of prompts', title='Total Redbox Usage Over Time')"
   ]
  },
  {
   "cell_type": "markdown",
   "metadata": {},
   "source": [
    "This shows a general increase in usage of redbox. \n",
    "\n",
    "Now, interested in increase/decrease by user."
   ]
  },
  {
   "cell_type": "code",
   "execution_count": null,
   "metadata": {},
   "outputs": [],
   "source": [
    "import seaborn as sns\n",
    "\n",
    "# Plotting how each users usage has changed over time\n",
    "pivot_user_time = user_inputs_df[['modified_at', 'users']].groupby(pd.Grouper(key='modified_at', axis=0, freq='2D', sort=True)).value_counts().reset_index(name='count').pivot(index='modified_at', columns='users', values='count')\n",
    "fig = sns.lineplot(data=pivot_user_time, markers=True)\n",
    "fig.set_xlabel('Date')\n",
    "fig.set_ylabel('No. of Prompts')\n",
    "fig.tick_params(axis='x', rotation=90)\n",
    "sns.move_legend(fig, \"upper left\", bbox_to_anchor=(1, 1), title='Users')\n",
    "fig.set_title('Line graph to show number of prompts for each user over time')"
   ]
  },
  {
   "cell_type": "markdown",
   "metadata": {},
   "source": [
    "Maybe not the best plot to use due to null entries, however, I think it shows trends in users usage and shows those users which have only used Redbox once.\n",
    "\n",
    "Next, interested to see whether users that aren't using it as frequently are using certain routes of Redbox to those who are, for example. \n",
    "\n",
    "Routes column is not currently populated so I have inferred this by identifying whether the user has used @chat, @summarise or otherwise."
   ]
  },
  {
   "cell_type": "markdown",
   "metadata": {},
   "source": [
    "## Popularity of User Routes (inc. process map)"
   ]
  },
  {
   "cell_type": "code",
   "execution_count": null,
   "metadata": {},
   "outputs": [],
   "source": [
    "# Creating the inferred routes from the text column \n",
    "def routes(row):\n",
    "    if '@chat' in row['text']:\n",
    "        val = 'chat'\n",
    "    elif '@summarise' in row['text']:\n",
    "        val = 'summarise'\n",
    "    else:\n",
    "        val = 'rag'\n",
    "    return val\n",
    "\n",
    "user_inputs_df['infer_route'] = user_inputs_df.apply(routes, axis=1)\n",
    "user_inputs_df.head()"
   ]
  },
  {
   "cell_type": "code",
   "execution_count": null,
   "metadata": {},
   "outputs": [],
   "source": [
    "# Creating df of each users most popular prompt route\n",
    "popular_routes = user_inputs_df[['users', 'infer_route']].value_counts().reset_index(name='count')\n",
    "popular_routes"
   ]
  },
  {
   "cell_type": "code",
   "execution_count": null,
   "metadata": {},
   "outputs": [],
   "source": [
    "# sns.barplot(popular_routes['infer_route'].value_counts().reset_index(name='count'), x='infer_route', y='count', hue='infer_route', title='Most popular Routes')\n",
    "popular_routes[['infer_route', 'count']].groupby('infer_route').sum().reset_index()\n",
    "fig = sns.barplot(popular_routes[['infer_route', 'count']].groupby('infer_route').sum().reset_index(), x='infer_route', y='count', hue='infer_route')\n",
    "fig.set_xlabel('Inferred Route')\n",
    "fig.set_title('Bar plot to show most popular routes')\n",
    "fig.set_ylabel('No. of Prompts')"
   ]
  },
  {
   "cell_type": "code",
   "execution_count": null,
   "metadata": {},
   "outputs": [],
   "source": [
    "fig = sns.barplot(data=popular_routes, x='users', y='count', hue='infer_route')\n",
    "fig.tick_params(axis='x', rotation=90)\n",
    "fig.set_xlabel('Users')\n",
    "fig.set_title('Bar plot to show most popular routes by user')\n",
    "fig.set_ylabel('No. of Prompts')\n",
    "fig.legend(title='Inferred Route')"
   ]
  },
  {
   "cell_type": "code",
   "execution_count": null,
   "metadata": {},
   "outputs": [],
   "source": [
    "# See if theres a change in popular routes over time\n",
    "route_over_time = user_inputs_df[['modified_at', 'infer_route']].groupby(pd.Grouper(key='modified_at', axis=0, freq='2D', sort=True)).value_counts().reset_index(name='count')\n",
    "route_over_time"
   ]
  },
  {
   "cell_type": "code",
   "execution_count": null,
   "metadata": {},
   "outputs": [],
   "source": [
    "fig = sns.lineplot(data=route_over_time, markers=True, x='modified_at', y='count', hue='infer_route')\n",
    "fig.set_ylabel('No. of Prompts')\n",
    "fig.set_xlabel('Date')\n",
    "fig.tick_params(axis='x', rotation=90)\n",
    "fig.legend(title='Inferred Route')\n",
    "sns.move_legend(fig, \"upper left\", bbox_to_anchor=(1, 1))\n",
    "fig.set_title('Line graph to show number of inputs for each prompt type over time')\n",
    "\n"
   ]
  },
  {
   "cell_type": "markdown",
   "metadata": {},
   "source": [
    "Shows that over the last couple of days, the chat function has overtaken summarise in terms of popularity. "
   ]
  },
  {
   "cell_type": "markdown",
   "metadata": {},
   "source": [
    "### Process Map \n",
    "\n",
    "Interested to see if theres any distinctive patterns between users, whether that effects their use of Redbox. It would be interesting to compare successful and unsuccessful routes if we measure this somehow so we can provide users with better training."
   ]
  },
  {
   "cell_type": "code",
   "execution_count": null,
   "metadata": {},
   "outputs": [],
   "source": [
    "from pm4py.objects.conversion.log import converter as log_conversion_factory\n",
    "from pm4py.algo.discovery.heuristics import algorithm as heuristics_miner\n",
    "from pm4py.visualization.heuristics_net import visualizer as hn_visualizer\n",
    "\n",
    "def create_hnet_vis(event_df):\n",
    "\n",
    "    # Convert DataFrame to pm4py event log format\n",
    "    event_df.columns = ['case:concept:name', 'time:timestamp', 'concept:name']\n",
    "    log = log_conversion_factory.apply(event_df)\n",
    "\n",
    "    # Discover Heuristic Net\n",
    "    heu_net = heuristics_miner.apply_heu(log)\n",
    "\n",
    "    # Visualize Heuristic Net\n",
    "    gviz = hn_visualizer.apply(heu_net)\n",
    "    hn_visualizer.view(gviz)\n",
    "\n",
    "\n",
    "route_map_df = user_inputs_df[['id', 'modified_at', 'infer_route']]\n",
    "create_hnet_vis(route_map_df)"
   ]
  },
  {
   "cell_type": "code",
   "execution_count": null,
   "metadata": {},
   "outputs": [],
   "source": [
    "# Creating a process map for each user.\n",
    "for i in user_inputs_df['users'].unique():\n",
    "    user_input_df_filter = user_inputs_df[user_inputs_df['users']==i]\n",
    "    route_map_df = user_input_df_filter[['id', 'modified_at', 'infer_route']]\n",
    "    print(i)\n",
    "    create_hnet_vis(route_map_df)"
   ]
  },
  {
   "cell_type": "markdown",
   "metadata": {},
   "source": [
    "## Prompt detail effects\n",
    "\n",
    "I'm assuming that each chat ends 'successfully' (quite flawed) but want to see whether the level of detail (currently measuring this by word length but could use more advanced metrics) effects how many prompts a user needs to try before they are done with Redbox. "
   ]
  },
  {
   "cell_type": "code",
   "execution_count": null,
   "metadata": {},
   "outputs": [],
   "source": [
    "# Creating column for number of words\n",
    "user_inputs_df['no_input_words'] = user_inputs_df[\"text\"].apply(lambda n: len(n.split()))\n",
    "user_inputs_df.head()"
   ]
  },
  {
   "cell_type": "code",
   "execution_count": null,
   "metadata": {},
   "outputs": [],
   "source": [
    "fig = sns.displot(user_inputs_df.no_input_words)\n",
    "fig.set_axis_labels(x_var='No. of words in prompt', y_var='Count')"
   ]
  },
  {
   "cell_type": "markdown",
   "metadata": {},
   "source": [
    "Seems to be an anomaly over 1400 words, removing this to see distribution of rest."
   ]
  },
  {
   "cell_type": "code",
   "execution_count": null,
   "metadata": {},
   "outputs": [],
   "source": [
    "sns.histplot(user_inputs_df[user_inputs_df['no_input_words']<700]['no_input_words'])\n",
    "fig.set_axis_labels(x_var='No. of words in prompt', y_var='Count')"
   ]
  },
  {
   "cell_type": "code",
   "execution_count": null,
   "metadata": {},
   "outputs": [],
   "source": [
    "# How does this vary between users\n",
    "fig = sns.displot(\n",
    "    user_inputs_df[user_inputs_df['no_input_words']<700],\n",
    "    x=\"no_input_words\", \n",
    "    col=\"users\", col_wrap=4, height=4,\n",
    ")\n",
    "fig.set_axis_labels(x_var='No. of words in prompt', y_var='Count')"
   ]
  },
  {
   "cell_type": "code",
   "execution_count": null,
   "metadata": {},
   "outputs": [],
   "source": [
    "# How does this vary between users and routes\n",
    "fig = sns.displot(\n",
    "    user_inputs_df[user_inputs_df['no_input_words']<700],\n",
    "    x=\"no_input_words\", hue='infer_route',\n",
    "    col=\"users\", col_wrap=4, height=4,\n",
    ")\n",
    "fig.set_axis_labels(x_var='No. of words in prompt', y_var='Count')"
   ]
  },
  {
   "cell_type": "code",
   "execution_count": null,
   "metadata": {},
   "outputs": [],
   "source": [
    "no_inputs_df = user_inputs_df[[\"id\", \"users\"]].groupby(\"id\").value_counts().reset_index(name='no_inputs')\n",
    "no_inputs_df.head()"
   ]
  },
  {
   "cell_type": "code",
   "execution_count": null,
   "metadata": {},
   "outputs": [],
   "source": [
    "mean_inputs_df = user_inputs_df[[\"id\", \"users\", \"no_input_words\"]].groupby(by=['id', 'users']).agg({'no_input_words': 'mean'}).rename(columns={'no_input_words':'mean_input_words'}).reset_index()\n",
    "mean_inputs_df.head()"
   ]
  },
  {
   "cell_type": "code",
   "execution_count": null,
   "metadata": {},
   "outputs": [],
   "source": [
    "compare_inputs_words_df = no_inputs_df.merge(mean_inputs_df, left_on=['id', 'users'], right_on=['id', 'users'])\n",
    "\n",
    "# Remove anomaly to see if pattern more clearly - maybe should have been done before calculating the mean\n",
    "fig = sns.scatterplot(\n",
    "    data=compare_inputs_words_df[compare_inputs_words_df['mean_input_words']<200],\n",
    "    x='no_inputs',\n",
    "    y='mean_input_words',\n",
    "    hue='users')\n",
    "fig.set_xlabel('No. of prompts')\n",
    "fig.set_ylabel('Mean length of prompt')\n",
    "fig.set_title('Scatter plot comparing number of prompts with the length of prompt for each user session')\n",
    "sns.move_legend(fig, \"upper left\", bbox_to_anchor=(1, 1))"
   ]
  },
  {
   "cell_type": "code",
   "execution_count": null,
   "metadata": {},
   "outputs": [],
   "source": [
    "# A very weak negative col, potentially showing the more detailed input a user gives the less inputs they have to use in a session\n",
    "compare_inputs_words_df[compare_inputs_words_df['mean_input_words']<200][['mean_input_words', 'no_inputs']].corr()"
   ]
  },
  {
   "cell_type": "code",
   "execution_count": null,
   "metadata": {},
   "outputs": [],
   "source": [
    "compare_inputs_words_df[compare_inputs_words_df['mean_input_words']<200].groupby('users')[['mean_input_words', 'no_inputs']].corr()"
   ]
  }
 ],
 "metadata": {
  "kernelspec": {
   "display_name": "redbox-MGCo560N-py3.11",
   "language": "python",
   "name": "python3"
  },
  "language_info": {
   "codemirror_mode": {
    "name": "ipython",
    "version": 3
   },
   "file_extension": ".py",
   "mimetype": "text/x-python",
   "name": "python",
   "nbconvert_exporter": "python",
   "pygments_lexer": "ipython3",
   "version": "3.11.9"
  }
 },
 "nbformat": 4,
 "nbformat_minor": 2
}
