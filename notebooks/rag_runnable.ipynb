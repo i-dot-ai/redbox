{
    "cells": [
        {
            "cell_type": "code",
            "execution_count": 2,
            "metadata": {},
            "outputs": [],
            "source": [
                "import logging\n",
                "import os\n",
                "from http import HTTPStatus\n",
                "from typing import Annotated, List, Dict\n",
                "from uuid import UUID, uuid4\n",
                "from operator import itemgetter\n",
                "import boto3\n",
                "from pathlib import Path\n",
                "\n",
                "from langchain.chains.llm import LLMChain\n",
                "from langchain_community.chat_models import ChatLiteLLM\n",
                "from langchain_community.embeddings import SentenceTransformerEmbeddings\n",
                "from langchain_core.prompts import ChatPromptTemplate, PromptTemplate\n",
                "from langchain_elasticsearch import ApproxRetrievalStrategy, ElasticsearchStore\n",
                "from elasticsearch import Elasticsearch\n",
                "from langchain.schema import StrOutputParser\n",
                "from langchain_core.runnables import Runnable, RunnableLambda, RunnablePassthrough, chain\n",
                "from langchain_core.vectorstores import VectorStoreRetriever\n",
                "from langchain_elasticsearch import ElasticsearchRetriever\n",
                "\n",
                "from redbox.model_db import MODEL_PATH\n",
                "from redbox.models import EmbeddingModelInfo, Settings, ChatMessage, ChatResponse\n",
                "from redbox.models.chat import ChatRequest, ChatResponse, SourceDocument, SelectedDocument\n",
                "from redbox.storage import ElasticsearchStorageHandler\n",
                "from core_api.ingest_runnables import make_worker_ingest_runnable, LocalFile"
            ]
        },
        {
            "cell_type": "code",
            "execution_count": 2,
            "metadata": {},
            "outputs": [
                {
                    "name": "stderr",
                    "output_type": "stream",
                    "text": [
                        "INFO:sentence_transformers.SentenceTransformer:Load pretrained SentenceTransformer: all-mpnet-base-v2\n",
                        "/root/.cache/pypoetry/virtualenvs/redbox-ZGz5Jzj1-py3.11/lib/python3.11/site-packages/huggingface_hub/file_download.py:1132: FutureWarning: `resume_download` is deprecated and will be removed in version 1.0.0. Downloads always resume when possible. If you want to force a new download, use `force_download=True`.\n",
                        "  warnings.warn(\n",
                        "INFO:sentence_transformers.SentenceTransformer:Use pytorch device_name: cpu\n",
                        "/root/.cache/pypoetry/virtualenvs/redbox-ZGz5Jzj1-py3.11/lib/python3.11/site-packages/langchain_core/_api/deprecation.py:119: LangChainPendingDeprecationWarning: The class `ApproxRetrievalStrategy` will be deprecated in a future version. Use DenseVectorStrategy instead.\n",
                        "  warn_deprecated(\n"
                    ]
                },
                {
                    "name": "stdout",
                    "output_type": "stream",
                    "text": [
                        "2024-02-01\n"
                    ]
                }
            ],
            "source": [
                "\n",
                "env = Settings(_env_file=\".env\")\n",
                "env.elastic.host = \"localhost\"\n",
                "env.minio_host = \"localhost\"\n",
                "\n",
                "embedding_model = SentenceTransformerEmbeddings(model_name=env.embedding_model, cache_folder=\"../models/\")\n",
                "\n",
                "es = Elasticsearch(\n",
                "    hosts=[\n",
                "        {\n",
                "            \"host\": \"localhost\",\n",
                "            \"port\": env.elastic.port,\n",
                "            \"scheme\": env.elastic.scheme,\n",
                "        }\n",
                "    ],\n",
                "    basic_auth=(env.elastic.user, env.elastic.password),\n",
                ")\n",
                "\n",
                "if env.elastic.subscription_level == \"basic\":\n",
                "    strategy = ApproxRetrievalStrategy(hybrid=False)\n",
                "elif env.elastic.subscription_level in [\"platinum\", \"enterprise\"]:\n",
                "    strategy = ApproxRetrievalStrategy(hybrid=True)\n",
                "\n",
                "vector_store = ElasticsearchStore(\n",
                "    es_connection=es,\n",
                "    index_name=\"summarisation-chunk\",\n",
                "    embedding=embedding_model,\n",
                "    strategy=strategy,\n",
                "    vector_query_field=\"embedding\",\n",
                ")\n",
                "\n",
                "print(os.environ[\"AZURE_API_VERSION\"])\n",
                "llm = ChatLiteLLM(\n",
                "    model=\"azure/gpt-35-turbo\",\n",
                "    api_base=\"https://oai-i-dot-ai-playground-sweden.openai.azure.com/\",\n",
                "    api_version=\"2024-02-01\",\n",
                "    max_tokens=1024\n",
                ")\n",
                "\n",
                "storage_handler = ElasticsearchStorageHandler(es_client=es, root_index=\"summarisation\")\n",
                "s3_client = boto3"
            ]
        },
        {
            "cell_type": "code",
            "execution_count": 3,
            "metadata": {},
            "outputs": [
                {
                    "name": "stderr",
                    "output_type": "stream",
                    "text": [
                        "INFO:sentence_transformers.SentenceTransformer:Load pretrained SentenceTransformer: all-mpnet-base-v2\n",
                        "/root/.cache/pypoetry/virtualenvs/redbox-ZGz5Jzj1-py3.11/lib/python3.11/site-packages/huggingface_hub/file_download.py:1132: FutureWarning: `resume_download` is deprecated and will be removed in version 1.0.0. Downloads always resume when possible. If you want to force a new download, use `force_download=True`.\n",
                        "  warnings.warn(\n",
                        "INFO:sentence_transformers.SentenceTransformer:Use pytorch device_name: cpu\n"
                    ]
                }
            ],
            "source": [
                "ingest = make_worker_ingest_runnable(\n",
                "    storage_handler=storage_handler,\n",
                "    s3_client=boto3.client(\n",
                "        \"s3\", \n",
                "        endpoint_url=f\"http://{env.minio_host}:{env.minio_port}\", \n",
                "        aws_access_key_id=env.aws_access_key, \n",
                "        aws_secret_access_key=env.aws_secret_key\n",
                "    ),\n",
                "    env=env,\n",
                "    chunk_size=1024\n",
                ")"
            ]
        },
        {
            "cell_type": "code",
            "execution_count": null,
            "metadata": {},
            "outputs": [],
            "source": [
                "es.options(ignore_status=[400,404]).indices.delete(index=\"summarisation-file\")\n",
                "es.options(ignore_status=[400,404]).indices.delete(index=\"summarisation-chunk\")\n",
                "\n",
                "file = LocalFile(\n",
                "    filepath=Path(\"../data/Conservative-Manifesto-GE2024.pdf\"),\n",
                "    creator_user_uuid=uuid4()\n",
                ")\n",
                "ingest.invoke(file)\n",
                "print(file.creator_user_uuid)\n"
            ]
        },
        {
            "cell_type": "code",
            "execution_count": 27,
            "metadata": {},
            "outputs": [
                {
                    "name": "stderr",
                    "output_type": "stream",
                    "text": [
                        "INFO:elastic_transport.transport:POST http://localhost:9200/summarisation-chunk/_search [status:200 duration:0.010s]\n",
                        "INFO:httpx:HTTP Request: POST https://oai-i-dot-ai-playground-sweden.openai.azure.com//openai/deployments/gpt-35-turbo/chat/completions?api-version=2024-02-01 \"HTTP/1.1 200 OK\"\n",
                        "\u001b[92m15:07:51 - LiteLLM:INFO\u001b[0m: utils.py:3397 - Wrapper: Completed Call, calling success_handler\n",
                        "INFO:LiteLLM:Wrapper: Completed Call, calling success_handler\n"
                    ]
                }
            ],
            "source": [
                "\n",
                "creator_user_uuid = \"5060f624-bb1b-43a9-ad88-885e1f226e38\"\n",
                "file_uuid=\"\"\n",
                "\n",
                "request = ChatRequest(\n",
                "    message_history=[\n",
                "        ChatMessage(role=\"system\", text=system_prompt),\n",
                "        ChatMessage(role=\"user\", text=\"Are the conservatives going to cut national insurance?\"),\n",
                "        ChatMessage(role=\"ai\", text=\"**Based on the information provided, the Conservatives are planning to cut national insurance**. They have already started cutting National Insurance taxes and their long-term ambition is to keep cutting it until it's gone. The next step in their plan is to cut employee National Insurance to 6% by April 2027, which would be a total tax cut of £1,350 for the average worker on £35,000. However, the document does not mention whether this cut will be implemented specifically for conservatives or if it is part of a broader policy.\"),\n",
                "        ChatMessage(role=\"user\", text=user_prompt)\n",
                "    ],\n",
                "    selected_files=[\n",
                "        #SelectedDocument(file_uuid)\n",
                "    ]\n",
                ")\n",
                "\n",
                "rag_chain = make_rag_runnable(\n",
                "    llm,\n",
                "    make_es_retriever(es, embedding_model, chunk_index_name=\"summarisation-chunk\")\n",
                ")\n",
                "\n",
                "question = \"When are they going to reduce it?\"\n",
                "r = rag_chain.invoke({\n",
                "    \"question\": question,\n",
                "    \"file_uuids\": request.selected_files,\n",
                "    \"user_uuid\": creator_user_uuid,\n",
                "    \"chat_history\": request.message_history\n",
                "})"
            ]
        },
        {
            "cell_type": "code",
            "execution_count": 28,
            "metadata": {},
            "outputs": [
                {
                    "name": "stdout",
                    "output_type": "stream",
                    "text": [
                        "**The Conservatives are planning to reduce national insurance in phases**. In the first half of this year, they have already begun cutting National Insurance taxes. Their long-term ambition is to keep cutting National Insurance until it's gone. The next step in their plan is to cut employee National Insurance to 6% by April 2027, which would be a total tax cut of £1,350 for the average worker on £35,000.\n",
                        "page_content='In the first half of this year, we began cutting National Insurance. It is unfair that working people pay two taxes on their income – income tax and National Insurance – when other people only pay income tax.\\n\\nOur long-term ambition, when it is affordable to do so, is to keep cutting National Insurance until it’s gone, as part of our plan to make the tax system simpler and fairer. As the next step in that plan, we will cut employee National Insurance to 6% by April 2027 – meaning that we will have halved it from 12% at the beginning of this year, a total tax cut of £1,350 for the average worker on £35,000. This comes on top of the significant above\\n\\n14\\n\\ninflation increase to the personal allowance we have delivered since 2010, nearly doubling it from £6,475 to £12,750.\\n\\nThis means the tax burden on workers is falling, with the average earner paying the lowest effective personal tax rate since 1975 – lower than in the US, France, Germany or any G7 country.' file_uuid=UUID('f20e086d-34f5-4e6d-b944-ba208ab4e712') page_numbers=[16]\n",
                        "page_content='We will ensure the UK retains the flexible and dynamic labour market that gives businesses the confidence to create jobs and invest in their workforce. The number of payrolled employees is at a near record high, and there are around four million more people in work than when we came to office in 2010.\\n\\nCutting tax for pensioners\\n\\n2. Ensuring that from next year the tax-\\n\\nfree personal allowance for pensioners also rises by the highest of prices, earnings or 2.5%, guaranteeing that the new State Pension is always below the tax-free threshold. From April 2025, we will increase the personal allowance for pensioners by introducing a new age-related personal allowance. This is a tax cut of around £100 for eight million pensioners next year – rising to £275 a year by the end of the Parliament.' file_uuid=UUID('f20e086d-34f5-4e6d-b944-ba208ab4e712') page_numbers=[17]\n",
                        "page_content='secure more commercial clinical trials. We will remove bureaucratic obstacles to the use of new medicines, such as the NHS Budget Impact Test and will align NHS England’s cost-effectiveness thresholds for new medicines indications with those used by NICE. We will implement a new medtech pathway so that cost-effective medtech, including AI, is rapidly adopted throughout the NHS.\\n\\nWe will cut waste and bureaucracy in the NHS, reducing the number of managers by 5,500, releasing £550 million for frontline services and simplifying and streamlining oversight and accountability. We will carefully consider the implications of the review of the whistleblowing framework for the NHS and we will consult on a disbarring regime for NHS managers.\\n\\nTransforming NHS technology and productivity We will invest £3.4 billion in new technology to transform the NHS for staff and for patients. The NHS Productivity Plan will see NHS productivity grow by 1.9% a year from 2025-26 – unlocking £35 billion of cumulative savings by the end of the decade. We will:' file_uuid=UUID('f20e086d-34f5-4e6d-b944-ba208ab4e712') page_numbers=[43]\n",
                        "page_content='These reforms will allow us to achieve a significant productivity boost in Whitehall. If we returned public sector productivity to pre- pandemic levels that would deliver up to £20 billion of annual savings. The NHS Productivity Plan shows that the public sector can set out detailed plans for achieving a step-change in productivity, so we will require all Departments to deliver plans for 2% annual productivity growth at the next Spending Review.\\n\\nWe have also used post-Brexit tax freedoms, including introducing VAT-free installations of energy-efficient materials and replacing complex EU alcohol duty rates. And to protect our pubs we will maintain our Brexit Pubs Guarantee that means the duty on drinks on\\n\\nTo limit the impact of industrial action on public services and balance the ability of workers to strike with the rights of the public, we will continue implementing our Minimum Service Levels legislation.\\n\\n11\\n\\n12\\n\\nThe Conservative and Unionist Party Manifesto 2024\\n\\nOur plan to cut taxes and protect pensions' file_uuid=UUID('f20e086d-34f5-4e6d-b944-ba208ab4e712') page_numbers=[13]\n",
                        "page_content='❱ Guaranteeing a vote in the next Parliament on the next stage of our pathway, with adoption of any new target accompanied by proper consideration of the plans and policies required to meet the target, to maintain democratic consent for the big decisions that net zero will mean for our country.\\n\\n❱ Ensuring that green levies on household bills are lower. The cost of renewables such as wind and solar has fallen dramatically. We will ensure the annual policy costs and levies on household energy bills are lower in each year of the next Parliament than they were in 2023.\\n\\n❱ Reforming the Climate Change Committee, giving it an explicit mandate to consider cost to households and UK energy security in its future climate advice.\\n\\n❱ Ruling out creating further green levies, and alongside our commitment not to introduce road pricing schemes, we will also rule out any frequent flyer levy.\\n\\nEnergy bills are falling, down 63% since the peak. We will take further action to ensure they are low as possible for families, by:' file_uuid=UUID('f20e086d-34f5-4e6d-b944-ba208ab4e712') page_numbers=[52]\n"
                    ]
                }
            ],
            "source": [
                "\n",
                "print(r.output_text)\n",
                "for s in r.source_documents:\n",
                "    print(s)"
            ]
        },
        {
            "cell_type": "code",
            "execution_count": 22,
            "metadata": {},
            "outputs": [
                {
                    "name": "stdout",
                    "output_type": "stream",
                    "text": [
                        "System: \n",
                        "Given the following extracted parts of a long document and \n",
                        "a question, create a final answer. \n",
                        "If you don't know the answer, just say that you don't know. Don't try to make up an answer. \n",
                        "If a user asks for a particular format to be returned, such as bullet points, then please use that format. \n",
                        "If a user asks for bullet points you MUST give bullet points. \n",
                        "If the user asks for a specific number or range of bullet points you MUST give that number of bullet points. \n",
                        "\n",
                        "Use **bold** to highlight the most question relevant parts in your response. \n",
                        "If dealing dealing with lots of data return it in markdown table format. \n",
                        "\n",
                        "Human: Are the conservatives going to cut national insurance?\n",
                        "AI: **Based on the information provided, the Conservatives are planning to cut national insurance**. They have already started cutting National Insurance taxes and their long-term ambition is to keep cutting it until it's gone. The next step in their plan is to cut employee National Insurance to 6% by April 2027, which would be a total tax cut of £1,350 for the average worker on £35,000. However, the document does not mention whether this cut will be implemented specifically for conservatives or if it is part of a broader policy.\n",
                        "Human:  When are they going to reduce it? \n",
                        "========= \n",
                        "<Docf20e086d-34f5-4e6d-b944-ba208ab4e712>\n",
                        " In the first half of this year, we began cutting National Insurance. It is unfair that working people pay two taxes on their income – income tax and National Insurance – when other people only pay income tax.\n",
                        "\n",
                        "Our long-term ambition, when it is affordable to do so, is to keep cutting National Insurance until it’s gone, as part of our plan to make the tax system simpler and fairer. As the next step in that plan, we will cut employee National Insurance to 6% by April 2027 – meaning that we will have halved it from 12% at the beginning of this year, a total tax cut of £1,350 for the average worker on £35,000. This comes on top of the significant above\n",
                        "\n",
                        "14\n",
                        "\n",
                        "inflation increase to the personal allowance we have delivered since 2010, nearly doubling it from £6,475 to £12,750.\n",
                        "\n",
                        "This means the tax burden on workers is falling, with the average earner paying the lowest effective personal tax rate since 1975 – lower than in the US, France, Germany or any G7 country. \n",
                        "</Docf20e086d-34f5-4e6d-b944-ba208ab4e712>\n",
                        "\n",
                        "<Docf20e086d-34f5-4e6d-b944-ba208ab4e712>\n",
                        " We will ensure the UK retains the flexible and dynamic labour market that gives businesses the confidence to create jobs and invest in their workforce. The number of payrolled employees is at a near record high, and there are around four million more people in work than when we came to office in 2010.\n",
                        "\n",
                        "Cutting tax for pensioners\n",
                        "\n",
                        "2. Ensuring that from next year the tax-\n",
                        "\n",
                        "free personal allowance for pensioners also rises by the highest of prices, earnings or 2.5%, guaranteeing that the new State Pension is always below the tax-free threshold. From April 2025, we will increase the personal allowance for pensioners by introducing a new age-related personal allowance. This is a tax cut of around £100 for eight million pensioners next year – rising to £275 a year by the end of the Parliament. \n",
                        "</Docf20e086d-34f5-4e6d-b944-ba208ab4e712>\n",
                        "\n",
                        "<Docf20e086d-34f5-4e6d-b944-ba208ab4e712>\n",
                        " secure more commercial clinical trials. We will remove bureaucratic obstacles to the use of new medicines, such as the NHS Budget Impact Test and will align NHS England’s cost-effectiveness thresholds for new medicines indications with those used by NICE. We will implement a new medtech pathway so that cost-effective medtech, including AI, is rapidly adopted throughout the NHS.\n",
                        "\n",
                        "We will cut waste and bureaucracy in the NHS, reducing the number of managers by 5,500, releasing £550 million for frontline services and simplifying and streamlining oversight and accountability. We will carefully consider the implications of the review of the whistleblowing framework for the NHS and we will consult on a disbarring regime for NHS managers.\n",
                        "\n",
                        "Transforming NHS technology and productivity We will invest £3.4 billion in new technology to transform the NHS for staff and for patients. The NHS Productivity Plan will see NHS productivity grow by 1.9% a year from 2025-26 – unlocking £35 billion of cumulative savings by the end of the decade. We will: \n",
                        "</Docf20e086d-34f5-4e6d-b944-ba208ab4e712>\n",
                        "\n",
                        "<Docf20e086d-34f5-4e6d-b944-ba208ab4e712>\n",
                        " These reforms will allow us to achieve a significant productivity boost in Whitehall. If we returned public sector productivity to pre- pandemic levels that would deliver up to £20 billion of annual savings. The NHS Productivity Plan shows that the public sector can set out detailed plans for achieving a step-change in productivity, so we will require all Departments to deliver plans for 2% annual productivity growth at the next Spending Review.\n",
                        "\n",
                        "We have also used post-Brexit tax freedoms, including introducing VAT-free installations of energy-efficient materials and replacing complex EU alcohol duty rates. And to protect our pubs we will maintain our Brexit Pubs Guarantee that means the duty on drinks on\n",
                        "\n",
                        "To limit the impact of industrial action on public services and balance the ability of workers to strike with the rights of the public, we will continue implementing our Minimum Service Levels legislation.\n",
                        "\n",
                        "11\n",
                        "\n",
                        "12\n",
                        "\n",
                        "The Conservative and Unionist Party Manifesto 2024\n",
                        "\n",
                        "Our plan to cut taxes and protect pensions \n",
                        "</Docf20e086d-34f5-4e6d-b944-ba208ab4e712>\n",
                        "\n",
                        "<Docf20e086d-34f5-4e6d-b944-ba208ab4e712>\n",
                        " ❱ Guaranteeing a vote in the next Parliament on the next stage of our pathway, with adoption of any new target accompanied by proper consideration of the plans and policies required to meet the target, to maintain democratic consent for the big decisions that net zero will mean for our country.\n",
                        "\n",
                        "❱ Ensuring that green levies on household bills are lower. The cost of renewables such as wind and solar has fallen dramatically. We will ensure the annual policy costs and levies on household energy bills are lower in each year of the next Parliament than they were in 2023.\n",
                        "\n",
                        "❱ Reforming the Climate Change Committee, giving it an explicit mandate to consider cost to households and UK energy security in its future climate advice.\n",
                        "\n",
                        "❱ Ruling out creating further green levies, and alongside our commitment not to introduce road pricing schemes, we will also rule out any frequent flyer levy.\n",
                        "\n",
                        "Energy bills are falling, down 63% since the peak. We will take further action to ensure they are low as possible for families, by: \n",
                        "</Docf20e086d-34f5-4e6d-b944-ba208ab4e712> \n",
                        "========= \n",
                        "FINAL ANSWER: \n",
                        "\n"
                    ]
                }
            ],
            "source": [
                "print(r['prompt'].to_string())"
            ]
        },
        {
            "cell_type": "code",
            "execution_count": null,
            "metadata": {},
            "outputs": [],
            "source": []
        }
    ],
    "metadata": {
        "kernelspec": {
            "display_name": "redbox-ZGz5Jzj1-py3.11",
            "language": "python",
            "name": "python3"
        },
        "language_info": {
            "codemirror_mode": {
                "name": "ipython",
                "version": 3
            },
            "file_extension": ".py",
            "mimetype": "text/x-python",
            "name": "python",
            "nbconvert_exporter": "python",
            "pygments_lexer": "ipython3",
            "version": "3.11.9"
        }
    },
    "nbformat": 4,
    "nbformat_minor": 2
}